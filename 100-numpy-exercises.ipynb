{
 "cells": [
  {
   "cell_type": "markdown",
   "metadata": {},
   "source": [
    "# 100 numpy exercises (Optional)\n",
    "\n",
    "Source: https://github.com/rougier/numpy-100\n"
   ]
  },
  {
   "cell_type": "markdown",
   "metadata": {},
   "source": [
    "#### How to run this notebook\n",
    "\n",
    "The recommended way to run this notebook is to click the \"Run\" button at the top of this page, and select \"Run on Binder\". This will run the notebook on mybinder.org, a free online service for running Jupyter notebooks.\n",
    "\n",
    "#### How to get help\n",
    "\n",
    "If you are stuck, you can ask for help on the community forum: https://jovian.ml/forum/t/100-numpy-exercises-hints-discussions-help/10561 . You can get help with errors, ask for hints, and share your solutions with others.\n",
    "\n",
    "If you're new to Numpy, check out this notebook for a quick tutorial: https://jovian.ml/aakashns/python-numerical-computing-with-numpy\n",
    "\n",
    "\n",
    "#### Saving your work\n",
    "\n",
    "Remember to save a snapshot of your work from time to time using to your Jovian.ml account."
   ]
  },
  {
   "cell_type": "code",
   "execution_count": 1,
   "metadata": {},
   "outputs": [],
   "source": [
    "!pip install jovian --upgrade --quiet"
   ]
  },
  {
   "cell_type": "code",
   "execution_count": 2,
   "metadata": {},
   "outputs": [],
   "source": [
    "import jovian"
   ]
  },
  {
   "cell_type": "code",
   "execution_count": 3,
   "metadata": {},
   "outputs": [
    {
     "data": {
      "application/javascript": [
       "window.require && require([\"base/js/namespace\"],function(Jupyter){Jupyter.notebook.save_checkpoint()})"
      ],
      "text/plain": [
       "<IPython.core.display.Javascript object>"
      ]
     },
     "metadata": {},
     "output_type": "display_data"
    },
    {
     "name": "stdout",
     "output_type": "stream",
     "text": [
      "[jovian] Updating notebook \"rubabaa499/100-numpy-exercises\" on https://jovian.com\u001b[0m\n",
      "[jovian] Committed successfully! https://jovian.com/rubabaa499/100-numpy-exercises\u001b[0m\n"
     ]
    },
    {
     "data": {
      "text/plain": [
       "'https://jovian.com/rubabaa499/100-numpy-exercises'"
      ]
     },
     "execution_count": 3,
     "metadata": {},
     "output_type": "execute_result"
    }
   ],
   "source": [
    "jovian.commit(project='100-numpy-exercises')"
   ]
  },
  {
   "cell_type": "markdown",
   "metadata": {},
   "source": [
    "`jovian.commit` uploads the notebook to your Jovian.ml account, captures the Python environment and creates a shareable link for your notebook as shown above. You can use this link to share your work and let anyone (including you) run your notebooks and reproduce your work. Learn more: https://jovian.ml/docs/\n"
   ]
  },
  {
   "cell_type": "code",
   "execution_count": null,
   "metadata": {},
   "outputs": [],
   "source": [
    "# Ucomment the next line if you need install numpy\n",
    "# !pip install numpy --upgrade"
   ]
  },
  {
   "cell_type": "markdown",
   "metadata": {},
   "source": [
    "#### 1. Import the numpy package under the name `np` (★☆☆)"
   ]
  },
  {
   "cell_type": "code",
   "execution_count": 4,
   "metadata": {},
   "outputs": [],
   "source": [
    "import numpy as np"
   ]
  },
  {
   "cell_type": "markdown",
   "metadata": {},
   "source": [
    "#### 2. Print the numpy version and the configuration (★☆☆)"
   ]
  },
  {
   "cell_type": "code",
   "execution_count": 10,
   "metadata": {},
   "outputs": [
    {
     "name": "stdout",
     "output_type": "stream",
     "text": [
      "NumPy Version: 1.25.1\n",
      "openblas64__info:\n",
      "    libraries = ['openblas64_', 'openblas64_']\n",
      "    library_dirs = ['/usr/local/lib']\n",
      "    language = c\n",
      "    define_macros = [('HAVE_CBLAS', None), ('BLAS_SYMBOL_SUFFIX', '64_'), ('HAVE_BLAS_ILP64', None)]\n",
      "    runtime_library_dirs = ['/usr/local/lib']\n",
      "blas_ilp64_opt_info:\n",
      "    libraries = ['openblas64_', 'openblas64_']\n",
      "    library_dirs = ['/usr/local/lib']\n",
      "    language = c\n",
      "    define_macros = [('HAVE_CBLAS', None), ('BLAS_SYMBOL_SUFFIX', '64_'), ('HAVE_BLAS_ILP64', None)]\n",
      "    runtime_library_dirs = ['/usr/local/lib']\n",
      "openblas64__lapack_info:\n",
      "    libraries = ['openblas64_', 'openblas64_']\n",
      "    library_dirs = ['/usr/local/lib']\n",
      "    language = c\n",
      "    define_macros = [('HAVE_CBLAS', None), ('BLAS_SYMBOL_SUFFIX', '64_'), ('HAVE_BLAS_ILP64', None), ('HAVE_LAPACKE', None)]\n",
      "    runtime_library_dirs = ['/usr/local/lib']\n",
      "lapack_ilp64_opt_info:\n",
      "    libraries = ['openblas64_', 'openblas64_']\n",
      "    library_dirs = ['/usr/local/lib']\n",
      "    language = c\n",
      "    define_macros = [('HAVE_CBLAS', None), ('BLAS_SYMBOL_SUFFIX', '64_'), ('HAVE_BLAS_ILP64', None), ('HAVE_LAPACKE', None)]\n",
      "    runtime_library_dirs = ['/usr/local/lib']\n",
      "Supported SIMD extensions in this NumPy install:\n",
      "    baseline = SSE,SSE2,SSE3\n",
      "    found = SSSE3,SSE41,POPCNT,SSE42,AVX,F16C,FMA3,AVX2,AVX512F,AVX512CD,AVX512_SKX\n",
      "    not found = AVX512_KNL,AVX512_KNM,AVX512_CLX,AVX512_CNL,AVX512_ICL\n",
      "NumPy Configuration: None\n"
     ]
    }
   ],
   "source": [
    "print(\"NumPy Version:\", np.__version__)\n",
    "print(\"NumPy Configuration:\" , np.show_config())"
   ]
  },
  {
   "cell_type": "markdown",
   "metadata": {},
   "source": [
    "#### 3. Create a null vector of size 10 (★☆☆)"
   ]
  },
  {
   "cell_type": "code",
   "execution_count": 12,
   "metadata": {},
   "outputs": [
    {
     "name": "stdout",
     "output_type": "stream",
     "text": [
      "[0. 0. 0. 0. 0. 0. 0. 0. 0. 0.]\n"
     ]
    }
   ],
   "source": [
    "null_vector = np.zeros(10)\n",
    "print(null_vector)\n"
   ]
  },
  {
   "cell_type": "markdown",
   "metadata": {},
   "source": [
    "#### 4. How to find the memory size of any array (★☆☆)"
   ]
  },
  {
   "cell_type": "code",
   "execution_count": 13,
   "metadata": {},
   "outputs": [
    {
     "name": "stdout",
     "output_type": "stream",
     "text": [
      "Memory size using nbytes: 64 bytes\n"
     ]
    }
   ],
   "source": [
    "sample_array = np.zeros((4, 4), dtype=np.int32)\n",
    "\n",
    "memory_size_bytes = sample_array.nbytes\n",
    "\n",
    "\n",
    "print(\"Memory size using nbytes:\", memory_size_bytes, \"bytes\")\n",
    "\n"
   ]
  },
  {
   "cell_type": "markdown",
   "metadata": {},
   "source": [
    "#### 5. How to get the documentation of the numpy add function from the command line? (★☆☆)"
   ]
  },
  {
   "cell_type": "code",
   "execution_count": 15,
   "metadata": {},
   "outputs": [],
   "source": [
    "np.add?\n"
   ]
  },
  {
   "cell_type": "markdown",
   "metadata": {},
   "source": [
    "#### 6. Create a null vector of size 10 but the fifth value which is 1 (★☆☆)"
   ]
  },
  {
   "cell_type": "code",
   "execution_count": 16,
   "metadata": {},
   "outputs": [
    {
     "name": "stdout",
     "output_type": "stream",
     "text": [
      "[0. 0. 0. 0. 1. 0. 0. 0. 0. 0.]\n"
     ]
    }
   ],
   "source": [
    "null_vector = np.zeros(10)\n",
    "null_vector[4] = 1\n",
    "print(null_vector)"
   ]
  },
  {
   "cell_type": "markdown",
   "metadata": {},
   "source": [
    "#### 7. Create a vector with values ranging from 10 to 49 (★☆☆)"
   ]
  },
  {
   "cell_type": "code",
   "execution_count": 20,
   "metadata": {},
   "outputs": [
    {
     "name": "stdout",
     "output_type": "stream",
     "text": [
      "[10 11 12 13 14 15 16 17 18 19 20 21 22 23 24 25 26 27 28 29 30 31 32 33\n",
      " 34 35 36 37 38 39 40 41 42 43 44 45 46 47 48 49]\n"
     ]
    }
   ],
   "source": [
    "arr1 = np.arange(10 , 50)\n",
    "print(arr1)"
   ]
  },
  {
   "cell_type": "markdown",
   "metadata": {},
   "source": [
    "#### 8. Reverse a vector (first element becomes last) (★☆☆)"
   ]
  },
  {
   "cell_type": "code",
   "execution_count": 22,
   "metadata": {},
   "outputs": [
    {
     "name": "stdout",
     "output_type": "stream",
     "text": [
      "Vector: [ 1  2  3  4  5  6  7  8  9 10]\n",
      "Reversed Vector: [10  9  8  7  6  5  4  3  2  1]\n"
     ]
    }
   ],
   "source": [
    "vector = np.array([1, 2, 3, 4, 5, 6, 7, 8, 9, 10])\n",
    "reversed_vector = vector[::-1]\n",
    "\n",
    "print(\"Vector:\", vector)\n",
    "print(\"Reversed Vector:\", reversed_vector)"
   ]
  },
  {
   "cell_type": "markdown",
   "metadata": {},
   "source": [
    "#### 9. Create a 3x3 matrix with values ranging from 0 to 8 (★☆☆)"
   ]
  },
  {
   "cell_type": "code",
   "execution_count": 24,
   "metadata": {},
   "outputs": [
    {
     "name": "stdout",
     "output_type": "stream",
     "text": [
      "[[0 1 2]\n",
      " [3 4 5]\n",
      " [6 7 8]]\n"
     ]
    }
   ],
   "source": [
    "values = np.arange(0,9)\n",
    "matrix = values.reshape(3,3)\n",
    "print(matrix)"
   ]
  },
  {
   "cell_type": "markdown",
   "metadata": {},
   "source": [
    "#### 10. Find indices of non-zero elements from [1,2,0,0,4,0] (★☆☆)"
   ]
  },
  {
   "cell_type": "code",
   "execution_count": 26,
   "metadata": {},
   "outputs": [
    {
     "name": "stdout",
     "output_type": "stream",
     "text": [
      "(array([0, 1, 4]),)\n"
     ]
    }
   ],
   "source": [
    "arr = [1,2,0,0,4,0]\n",
    "non_zeroes = np.nonzero(arr)\n",
    "print(non_zeroes)"
   ]
  },
  {
   "cell_type": "markdown",
   "metadata": {},
   "source": [
    "Save your progress by commiting your work to Jovian"
   ]
  },
  {
   "cell_type": "code",
   "execution_count": 27,
   "metadata": {},
   "outputs": [],
   "source": [
    "import jovian"
   ]
  },
  {
   "cell_type": "code",
   "execution_count": 27,
   "metadata": {},
   "outputs": [
    {
     "data": {
      "application/javascript": [
       "window.require && require([\"base/js/namespace\"],function(Jupyter){Jupyter.notebook.save_checkpoint()})"
      ],
      "text/plain": [
       "<IPython.core.display.Javascript object>"
      ]
     },
     "metadata": {},
     "output_type": "display_data"
    },
    {
     "name": "stdout",
     "output_type": "stream",
     "text": [
      "[jovian] Attempting to save notebook..\u001b[0m\n",
      "[jovian] Updating notebook \"aakashns/numpy-100-exercises\" on https://jovian.ml/\u001b[0m\n",
      "[jovian] Uploading notebook..\u001b[0m\n",
      "[jovian] Capturing environment..\u001b[0m\n",
      "[jovian] Committed successfully! https://jovian.ml/aakashns/numpy-100-exercises\u001b[0m\n"
     ]
    },
    {
     "data": {
      "text/plain": [
       "'https://jovian.ml/aakashns/numpy-100-exercises'"
      ]
     },
     "execution_count": 27,
     "metadata": {},
     "output_type": "execute_result"
    }
   ],
   "source": [
    "jovian.commit(project='numpy-100-exercises')"
   ]
  },
  {
   "cell_type": "markdown",
   "metadata": {},
   "source": [
    "#### 11. Create a 3x3 identity matrix (★☆☆)"
   ]
  },
  {
   "cell_type": "code",
   "execution_count": 28,
   "metadata": {},
   "outputs": [
    {
     "name": "stdout",
     "output_type": "stream",
     "text": [
      "[[1. 0. 0.]\n",
      " [0. 1. 0.]\n",
      " [0. 0. 1.]]\n"
     ]
    }
   ],
   "source": [
    "identity_matrix = np.eye(3)\n",
    "print(identity_matrix)"
   ]
  },
  {
   "cell_type": "markdown",
   "metadata": {},
   "source": [
    "#### 12. Create a 3x3x3 array with random values (★☆☆)"
   ]
  },
  {
   "cell_type": "code",
   "execution_count": 36,
   "metadata": {},
   "outputs": [
    {
     "name": "stdout",
     "output_type": "stream",
     "text": [
      "[[[0.10203303 0.46779624 0.48345491]\n",
      "  [0.50246253 0.16600582 0.48864439]\n",
      "  [0.26786416 0.40791383 0.99413626]]\n",
      "\n",
      " [[0.5637739  0.54577825 0.15404068]\n",
      "  [0.14353177 0.97676721 0.7234638 ]\n",
      "  [0.69677828 0.62267028 0.45318948]]\n",
      "\n",
      " [[0.29132212 0.12614884 0.9150042 ]\n",
      "  [0.1452129  0.66039953 0.58992979]\n",
      "  [0.52809221 0.0767345  0.72984297]]]\n"
     ]
    }
   ],
   "source": [
    "arr2 = np.random.rand(3,3,3)\n",
    "print(arr2)"
   ]
  },
  {
   "cell_type": "markdown",
   "metadata": {},
   "source": [
    "#### 13. Create a 10x10 array with random values and find the minimum and maximum values (★☆☆)"
   ]
  },
  {
   "cell_type": "code",
   "execution_count": 39,
   "metadata": {},
   "outputs": [
    {
     "name": "stdout",
     "output_type": "stream",
     "text": [
      "[[0.75254374 0.99725395 0.19310028 0.73229043 0.52775858 0.87248256\n",
      "  0.11754224 0.2072403  0.30388087 0.25202472]\n",
      " [0.78822077 0.12013779 0.7636644  0.95966253 0.45742963 0.01778969\n",
      "  0.76091543 0.02200504 0.07862884 0.07313296]\n",
      " [0.495322   0.25249717 0.3152867  0.7672525  0.51436337 0.1732864\n",
      "  0.40070052 0.90970315 0.1807297  0.70647713]\n",
      " [0.7104348  0.03603023 0.44733021 0.12518578 0.63537691 0.74250256\n",
      "  0.53695787 0.21763179 0.19492304 0.68373107]\n",
      " [0.34050836 0.04521941 0.67929912 0.12206129 0.19761234 0.54726325\n",
      "  0.77165891 0.23612859 0.42724827 0.23571242]\n",
      " [0.726368   0.3661018  0.94683846 0.30720731 0.65496643 0.00569368\n",
      "  0.47328244 0.36233077 0.87376156 0.84921901]\n",
      " [0.08147569 0.32696838 0.63189886 0.01704214 0.15966124 0.37619211\n",
      "  0.11221715 0.89690345 0.39234087 0.53738242]\n",
      " [0.59025492 0.16174094 0.80934639 0.94107189 0.5127578  0.41601242\n",
      "  0.6844748  0.47828935 0.2274854  0.77461115]\n",
      " [0.54294586 0.86200417 0.06591946 0.90331981 0.06682281 0.00803114\n",
      "  0.9603495  0.66136027 0.59200523 0.34043443]\n",
      " [0.40188807 0.94182351 0.67810938 0.31055224 0.34976231 0.63038745\n",
      "  0.69792225 0.54290324 0.0318695  0.60277569]]\n",
      "Min Value 0.005693678674454361\n",
      "Max value 0.9972539474921763\n"
     ]
    }
   ],
   "source": [
    "arr2 = np.random.rand(10,10)\n",
    "print(arr2)\n",
    "min_value = arr2.min()\n",
    "max_value = arr2.max()\n",
    "print(\"Min Value\" , min_value)\n",
    "print(\"Max value\" , max_value)"
   ]
  },
  {
   "cell_type": "markdown",
   "metadata": {},
   "source": [
    "#### 14. Create a random vector of size 30 and find the mean value (★☆☆)"
   ]
  },
  {
   "cell_type": "code",
   "execution_count": 43,
   "metadata": {},
   "outputs": [
    {
     "name": "stdout",
     "output_type": "stream",
     "text": [
      "[0.82672286 0.22665874 0.04806132 0.06116229 0.92074114 0.86649106\n",
      " 0.32571824 0.2667895  0.56282706 0.95707598 0.20141354 0.38121017\n",
      " 0.90767241 0.40908166 0.40062606 0.92558788 0.74670129 0.68947136\n",
      " 0.03690376 0.84893484 0.81362863 0.08258208 0.37328412 0.60140355\n",
      " 0.320882   0.69833019 0.40260573 0.22922273 0.39968662 0.96171233]\n",
      "0.5164396381415172\n"
     ]
    }
   ],
   "source": [
    "arr = np.random.rand(30)\n",
    "mean = np.mean(arr)\n",
    "print(arr)\n",
    "print(mean)\n",
    "\n",
    "\n"
   ]
  },
  {
   "cell_type": "markdown",
   "metadata": {},
   "source": [
    "#### 15. Create a 2d array with 1 on the border and 0 inside (★☆☆)"
   ]
  },
  {
   "cell_type": "code",
   "execution_count": 44,
   "metadata": {},
   "outputs": [
    {
     "name": "stdout",
     "output_type": "stream",
     "text": [
      "[[1. 1. 1. 1. 1. 1. 1. 1.]\n",
      " [1. 0. 0. 0. 0. 0. 0. 1.]\n",
      " [1. 0. 0. 0. 0. 0. 0. 1.]\n",
      " [1. 0. 0. 0. 0. 0. 0. 1.]\n",
      " [1. 0. 0. 0. 0. 0. 0. 1.]\n",
      " [1. 1. 1. 1. 1. 1. 1. 1.]]\n"
     ]
    }
   ],
   "source": [
    "rows = 6\n",
    "cols = 8\n",
    "\n",
    "\n",
    "array_2d = np.zeros((rows, cols))\n",
    "\n",
    "\n",
    "array_2d[0, :] = 1\n",
    "array_2d[-1, :] = 1\n",
    "array_2d[:, 0] = 1\n",
    "array_2d[:, -1] = 1\n",
    "\n",
    "print(array_2d)\n"
   ]
  },
  {
   "cell_type": "markdown",
   "metadata": {},
   "source": [
    "#### 16. How to add a border (filled with 0's) around an existing array? (★☆☆)"
   ]
  },
  {
   "cell_type": "code",
   "execution_count": 45,
   "metadata": {},
   "outputs": [
    {
     "name": "stdout",
     "output_type": "stream",
     "text": [
      "Existing Array:\n",
      "[[1 2 3]\n",
      " [4 5 6]\n",
      " [7 8 9]]\n",
      "\n",
      "Padded Array:\n",
      "[[0 0 0 0 0]\n",
      " [0 1 2 3 0]\n",
      " [0 4 5 6 0]\n",
      " [0 7 8 9 0]\n",
      " [0 0 0 0 0]]\n"
     ]
    }
   ],
   "source": [
    "existing_array = np.array([[1, 2, 3],\n",
    "                           [4, 5, 6],\n",
    "                           [7, 8, 9]])\n",
    "\n",
    "\n",
    "border_width = 1\n",
    "\n",
    "\n",
    "padded_array = np.pad(existing_array, pad_width=border_width, mode='constant', constant_values=0)\n",
    "\n",
    "print(\"Existing Array:\")\n",
    "print(existing_array)\n",
    "\n",
    "print(\"\\nPadded Array:\")\n",
    "print(padded_array)\n"
   ]
  },
  {
   "cell_type": "markdown",
   "metadata": {},
   "source": [
    "#### 17. What is the result of the following expression? (★☆☆)\n",
    "```python\n",
    "0 * np.nan\n",
    "np.nan == np.nan\n",
    "np.inf > np.nan\n",
    "np.nan - np.nan\n",
    "np.nan in set([np.nan])\n",
    "0.3 == 3 * 0.1\n",
    "```"
   ]
  },
  {
   "cell_type": "code",
   "execution_count": null,
   "metadata": {},
   "outputs": [],
   "source": [
    "1. nan 2. False 3. False 4. nan 5. True 6. False"
   ]
  },
  {
   "cell_type": "markdown",
   "metadata": {},
   "source": [
    "#### 18. Create a 5x5 matrix with values 1,2,3,4 just below the diagonal (★☆☆)"
   ]
  },
  {
   "cell_type": "code",
   "execution_count": 48,
   "metadata": {},
   "outputs": [
    {
     "name": "stdout",
     "output_type": "stream",
     "text": [
      "[[0 0 0 0 0]\n",
      " [1 0 0 0 0]\n",
      " [0 2 0 0 0]\n",
      " [0 0 3 0 0]\n",
      " [0 0 0 4 0]]\n"
     ]
    }
   ],
   "source": [
    "\n",
    "values = [1, 2, 3, 4]\n",
    "matrix = np.diag(values, k=-1)\n",
    "\n",
    "print(matrix)\n",
    "\n",
    "\n"
   ]
  },
  {
   "cell_type": "markdown",
   "metadata": {},
   "source": [
    "#### 19. Create a 8x8 matrix and fill it with a checkerboard pattern (★☆☆)"
   ]
  },
  {
   "cell_type": "code",
   "execution_count": 2,
   "metadata": {},
   "outputs": [
    {
     "name": "stdout",
     "output_type": "stream",
     "text": [
      "[[0 1 0 1 0 1 0 1]\n",
      " [1 0 1 0 1 0 1 0]\n",
      " [0 1 0 1 0 1 0 1]\n",
      " [1 0 1 0 1 0 1 0]\n",
      " [0 1 0 1 0 1 0 1]\n",
      " [1 0 1 0 1 0 1 0]\n",
      " [0 1 0 1 0 1 0 1]\n",
      " [1 0 1 0 1 0 1 0]]\n"
     ]
    }
   ],
   "source": [
    "matrix = np.zeros((8, 8), dtype=int)\n",
    "matrix[1::2, ::2] = 1\n",
    "matrix[::2, 1::2] = 1\n",
    "\n",
    "\n",
    "print(matrix)\n"
   ]
  },
  {
   "cell_type": "markdown",
   "metadata": {},
   "source": [
    "#### 20. Consider a (6,7,8) shape array, what is the index (x,y,z) of the 100th element?"
   ]
  },
  {
   "cell_type": "code",
   "execution_count": 3,
   "metadata": {},
   "outputs": [
    {
     "name": "stdout",
     "output_type": "stream",
     "text": [
      "Index (x, y, z): (1, 5, 4)\n"
     ]
    }
   ],
   "source": [
    "shape = (6, 7, 8)\n",
    "\n",
    "\n",
    "index_1d = 100\n",
    "\n",
    "\n",
    "index_3d = np.unravel_index(index_1d, shape)\n",
    "\n",
    "print(\"Index (x, y, z):\", index_3d)\n"
   ]
  },
  {
   "cell_type": "markdown",
   "metadata": {},
   "source": [
    "Save your progress by commiting your work to Jovian"
   ]
  },
  {
   "cell_type": "code",
   "execution_count": 11,
   "metadata": {},
   "outputs": [],
   "source": [
    "import jovian"
   ]
  },
  {
   "cell_type": "code",
   "execution_count": 12,
   "metadata": {},
   "outputs": [
    {
     "data": {
      "application/javascript": [
       "window.require && require([\"base/js/namespace\"],function(Jupyter){Jupyter.notebook.save_checkpoint()})"
      ],
      "text/plain": [
       "<IPython.core.display.Javascript object>"
      ]
     },
     "metadata": {},
     "output_type": "display_data"
    },
    {
     "name": "stdout",
     "output_type": "stream",
     "text": [
      "[jovian] Updating notebook \"rubabaa499/100-numpy-exercises\" on https://jovian.com\u001b[0m\n",
      "[jovian] Committed successfully! https://jovian.com/rubabaa499/100-numpy-exercises\u001b[0m\n"
     ]
    },
    {
     "data": {
      "text/plain": [
       "'https://jovian.com/rubabaa499/100-numpy-exercises'"
      ]
     },
     "execution_count": 12,
     "metadata": {},
     "output_type": "execute_result"
    }
   ],
   "source": [
    "jovian.commit()"
   ]
  },
  {
   "cell_type": "markdown",
   "metadata": {},
   "source": [
    "#### 21. Create a checkerboard 8x8 matrix using the tile function (★☆☆)"
   ]
  },
  {
   "cell_type": "code",
   "execution_count": 13,
   "metadata": {},
   "outputs": [
    {
     "name": "stdout",
     "output_type": "stream",
     "text": [
      "[[1. 1. 1. 1. 0. 0. 0. 0. 1. 1. 1. 1. 0. 0. 0. 0.]\n",
      " [1. 1. 1. 1. 0. 0. 0. 0. 1. 1. 1. 1. 0. 0. 0. 0.]\n",
      " [1. 1. 1. 1. 0. 0. 0. 0. 1. 1. 1. 1. 0. 0. 0. 0.]\n",
      " [1. 1. 1. 1. 0. 0. 0. 0. 1. 1. 1. 1. 0. 0. 0. 0.]\n",
      " [0. 0. 0. 0. 1. 1. 1. 1. 0. 0. 0. 0. 1. 1. 1. 1.]\n",
      " [0. 0. 0. 0. 1. 1. 1. 1. 0. 0. 0. 0. 1. 1. 1. 1.]\n",
      " [0. 0. 0. 0. 1. 1. 1. 1. 0. 0. 0. 0. 1. 1. 1. 1.]\n",
      " [0. 0. 0. 0. 1. 1. 1. 1. 0. 0. 0. 0. 1. 1. 1. 1.]\n",
      " [1. 1. 1. 1. 0. 0. 0. 0. 1. 1. 1. 1. 0. 0. 0. 0.]\n",
      " [1. 1. 1. 1. 0. 0. 0. 0. 1. 1. 1. 1. 0. 0. 0. 0.]\n",
      " [1. 1. 1. 1. 0. 0. 0. 0. 1. 1. 1. 1. 0. 0. 0. 0.]\n",
      " [1. 1. 1. 1. 0. 0. 0. 0. 1. 1. 1. 1. 0. 0. 0. 0.]\n",
      " [0. 0. 0. 0. 1. 1. 1. 1. 0. 0. 0. 0. 1. 1. 1. 1.]\n",
      " [0. 0. 0. 0. 1. 1. 1. 1. 0. 0. 0. 0. 1. 1. 1. 1.]\n",
      " [0. 0. 0. 0. 1. 1. 1. 1. 0. 0. 0. 0. 1. 1. 1. 1.]\n",
      " [0. 0. 0. 0. 1. 1. 1. 1. 0. 0. 0. 0. 1. 1. 1. 1.]]\n"
     ]
    }
   ],
   "source": [
    "black_square = np.zeros((4, 4))\n",
    "white_square = np.ones((4, 4))\n",
    "\n",
    "\n",
    "checkerboard = np.tile(np.block([[white_square, black_square],\n",
    "                                 [black_square, white_square]]), (2, 2))\n",
    "\n",
    "print(checkerboard)\n"
   ]
  },
  {
   "cell_type": "markdown",
   "metadata": {},
   "source": [
    "#### 22. Normalize a 5x5 random matrix (★☆☆)"
   ]
  },
  {
   "cell_type": "code",
   "execution_count": 19,
   "metadata": {},
   "outputs": [
    {
     "name": "stdout",
     "output_type": "stream",
     "text": [
      "Matrix [[0.5707577  0.24517618 0.03269757 0.83670754 0.78857904]\n",
      " [0.93437593 0.85940915 0.56505475 0.69071543 0.50522282]\n",
      " [0.98157196 0.04972463 0.19461303 0.06467755 0.98811714]\n",
      " [0.12723976 0.97642042 0.81942231 0.91975567 0.14384114]\n",
      " [0.39888241 0.52017995 0.14207667 0.30961304 0.61274262]]\n",
      "Normalized Matrix [[0.56316633 0.22239299 0.         0.84152554 0.79115134]\n",
      " [0.94375119 0.86528642 0.55719728 0.68872135 0.49457356]\n",
      " [0.99314942 0.01782155 0.16947053 0.03347219 1.        ]\n",
      " [0.09895358 0.98775751 0.82343378 0.92844874 0.11632959]\n",
      " [0.38327124 0.51022859 0.1144828  0.2898365  0.60711029]]\n"
     ]
    }
   ],
   "source": [
    "matrix = np.random.rand(5,5)\n",
    "\n",
    "matrix_min = np.min(matrix)\n",
    "matrix_max = np.max(matrix)\n",
    "\n",
    "normalized_matrix = (matrix - matrix_min)/(matrix_max - matrix_min)\n",
    "\n",
    "print(\"Matrix\" , matrix)\n",
    "\n",
    "print(\"Normalized Matrix\", normalized_matrix)"
   ]
  },
  {
   "cell_type": "markdown",
   "metadata": {},
   "source": [
    "#### 23. Create a custom dtype that describes a color as four unsigned bytes (RGBA) (★☆☆)"
   ]
  },
  {
   "cell_type": "code",
   "execution_count": 20,
   "metadata": {},
   "outputs": [
    {
     "name": "stdout",
     "output_type": "stream",
     "text": [
      "(255, 128, 64, 255)\n",
      "Red: 255\n",
      "Green: 128\n",
      "Blue: 64\n",
      "Alpha: 255\n"
     ]
    }
   ],
   "source": [
    "rgba_dtype = np.dtype([('R', np.uint8), ('G', np.uint8), ('B', np.uint8), ('A', np.uint8)])\n",
    "color = np.array((255, 128, 64, 255), dtype=rgba_dtype)\n",
    "\n",
    "print(color)\n",
    "print(\"Red:\", color['R'])\n",
    "print(\"Green:\", color['G'])\n",
    "print(\"Blue:\", color['B'])\n",
    "print(\"Alpha:\", color['A'])\n"
   ]
  },
  {
   "cell_type": "markdown",
   "metadata": {},
   "source": [
    "#### 24. Multiply a 5x3 matrix by a 3x2 matrix (real matrix product) (★☆☆)"
   ]
  },
  {
   "cell_type": "code",
   "execution_count": 21,
   "metadata": {},
   "outputs": [
    {
     "name": "stdout",
     "output_type": "stream",
     "text": [
      "[[ 22  28]\n",
      " [ 49  64]\n",
      " [ 76 100]\n",
      " [103 136]\n",
      " [130 172]]\n"
     ]
    }
   ],
   "source": [
    "matrix_5x3 = np.array([[1, 2, 3],\n",
    "                       [4, 5, 6],\n",
    "                       [7, 8, 9],\n",
    "                       [10, 11, 12],\n",
    "                       [13, 14, 15]])\n",
    "\n",
    "matrix_3x2 = np.array([[1, 2],\n",
    "                       [3, 4],\n",
    "                       [5, 6]])\n",
    "\n",
    "\n",
    "result_matrix = np.dot(matrix_5x3, matrix_3x2)\n",
    "\n",
    "\n",
    "\n",
    "print(result_matrix)\n"
   ]
  },
  {
   "cell_type": "markdown",
   "metadata": {},
   "source": [
    "#### 25. Given a 1D array, negate all elements which are between 3 and 8, in place. (★☆☆)"
   ]
  },
  {
   "cell_type": "code",
   "execution_count": 22,
   "metadata": {},
   "outputs": [
    {
     "name": "stdout",
     "output_type": "stream",
     "text": [
      "[ 1 -5 -7  2 -4  9 -6  3  8]\n"
     ]
    }
   ],
   "source": [
    "arr = np.array([1, 5, 7, 2, 4, 9, 6, 3, 8])\n",
    "\n",
    "arr[(arr > 3) & (arr < 8)] *= -1\n",
    "\n",
    "print(arr)\n"
   ]
  },
  {
   "cell_type": "markdown",
   "metadata": {},
   "source": [
    "#### 26. What is the output of the following script? (★☆☆)\n",
    "```python\n",
    "# Author: Jake VanderPlas\n",
    "\n",
    "print(sum(range(5),-1))\n",
    "from numpy import *\n",
    "print(sum(range(5),-1))\n",
    "```"
   ]
  },
  {
   "cell_type": "code",
   "execution_count": 27,
   "metadata": {},
   "outputs": [
    {
     "name": "stdout",
     "output_type": "stream",
     "text": [
      "10\n",
      "10\n"
     ]
    }
   ],
   "source": [
    "print(sum(range(5),-1))\n",
    "from numpy import *\n",
    "print(sum(range(5),-1))"
   ]
  },
  {
   "cell_type": "markdown",
   "metadata": {},
   "source": [
    "#### 27. Consider an integer vector Z, which of these expressions are legal? (★☆☆)\n",
    "```python\n",
    "Z**Z\n",
    "2 << Z >> 2\n",
    "Z <- Z\n",
    "1j*Z\n",
    "Z/1/1\n",
    "Z<Z>Z\n",
    "```"
   ]
  },
  {
   "cell_type": "code",
   "execution_count": null,
   "metadata": {},
   "outputs": [],
   "source": [
    "Z**Z\n",
    "2 << Z >> 2\n",
    "Z <- Z\n",
    "1j*Z\n",
    "Z/1/1"
   ]
  },
  {
   "cell_type": "markdown",
   "metadata": {},
   "source": [
    "#### 28. What are the result of the following expressions?\n",
    "```python\n",
    "np.array(0) / np.array(0)\n",
    "np.array(0) // np.array(0)\n",
    "np.array([np.nan]).astype(int).astype(float)\n",
    "```"
   ]
  },
  {
   "cell_type": "code",
   "execution_count": 29,
   "metadata": {
    "scrolled": true
   },
   "outputs": [],
   "source": [
    "1. nan 2. integer division 3. array[0.]\n"
   ]
  },
  {
   "cell_type": "markdown",
   "metadata": {},
   "source": [
    "#### 29. How to round away from zero a float array ? (★☆☆)"
   ]
  },
  {
   "cell_type": "code",
   "execution_count": null,
   "metadata": {},
   "outputs": [],
   "source": [
    "np.floor() , np.ceil()"
   ]
  },
  {
   "cell_type": "markdown",
   "metadata": {},
   "source": [
    "#### 30. How to find common values between two arrays? (★☆☆)"
   ]
  },
  {
   "cell_type": "code",
   "execution_count": 30,
   "metadata": {},
   "outputs": [
    {
     "name": "stdout",
     "output_type": "stream",
     "text": [
      "Array 1: [1 2 3 4 5]\n",
      "Array 2: [3 4 5 6 7]\n",
      "Common Values: [3 4 5]\n"
     ]
    }
   ],
   "source": [
    "array1 = np.array([1, 2, 3, 4, 5])\n",
    "array2 = np.array([3, 4, 5, 6, 7])\n",
    "\n",
    "\n",
    "common_values = np.intersect1d(array1, array2)\n",
    "\n",
    "print(\"Array 1:\", array1)\n",
    "print(\"Array 2:\", array2)\n",
    "print(\"Common Values:\", common_values)\n"
   ]
  },
  {
   "cell_type": "markdown",
   "metadata": {},
   "source": [
    "Save your progress by commiting your work to Jovian"
   ]
  },
  {
   "cell_type": "code",
   "execution_count": 31,
   "metadata": {},
   "outputs": [],
   "source": [
    "import jovian"
   ]
  },
  {
   "cell_type": "code",
   "execution_count": 32,
   "metadata": {},
   "outputs": [
    {
     "data": {
      "application/javascript": [
       "window.require && require([\"base/js/namespace\"],function(Jupyter){Jupyter.notebook.save_checkpoint()})"
      ],
      "text/plain": [
       "<IPython.core.display.Javascript object>"
      ]
     },
     "metadata": {},
     "output_type": "display_data"
    },
    {
     "name": "stdout",
     "output_type": "stream",
     "text": [
      "[jovian] Updating notebook \"rubabaa499/100-numpy-exercises\" on https://jovian.com\u001b[0m\n",
      "[jovian] Committed successfully! https://jovian.com/rubabaa499/100-numpy-exercises\u001b[0m\n"
     ]
    },
    {
     "data": {
      "text/plain": [
       "'https://jovian.com/rubabaa499/100-numpy-exercises'"
      ]
     },
     "execution_count": 32,
     "metadata": {},
     "output_type": "execute_result"
    }
   ],
   "source": [
    "jovian.commit()"
   ]
  },
  {
   "cell_type": "markdown",
   "metadata": {},
   "source": [
    "#### 31. How to ignore all numpy warnings (not recommended)? (★☆☆)"
   ]
  },
  {
   "cell_type": "code",
   "execution_count": null,
   "metadata": {},
   "outputs": [],
   "source": []
  },
  {
   "cell_type": "markdown",
   "metadata": {},
   "source": [
    "#### 32. Is the following expressions true? (★☆☆)\n",
    "```python\n",
    "np.sqrt(-1) == np.emath.sqrt(-1)\n",
    "```"
   ]
  },
  {
   "cell_type": "code",
   "execution_count": null,
   "metadata": {},
   "outputs": [],
   "source": [
    "not true"
   ]
  },
  {
   "cell_type": "markdown",
   "metadata": {},
   "source": [
    "#### 33. How to get the dates of yesterday, today and tomorrow? (★☆☆)"
   ]
  },
  {
   "cell_type": "code",
   "execution_count": 33,
   "metadata": {},
   "outputs": [
    {
     "name": "stdout",
     "output_type": "stream",
     "text": [
      "Yesterday (NumPy): 2023-07-18\n",
      "Today (NumPy): 2023-07-19\n",
      "Tomorrow (NumPy): 2023-07-20\n"
     ]
    }
   ],
   "source": [
    "import numpy as np\n",
    "from datetime import datetime, timedelta\n",
    "\n",
    "today_date = datetime.today().date()\n",
    "\n",
    "today_np = np.datetime64(today_date)\n",
    "\n",
    "yesterday_date = today_date - timedelta(days=1)\n",
    "\n",
    "yesterday_np = np.datetime64(yesterday_date)\n",
    "\n",
    "tomorrow_date = today_date + timedelta(days=1)\n",
    "\n",
    "tomorrow_np = np.datetime64(tomorrow_date)\n",
    "\n",
    "print(\"Yesterday (NumPy):\", yesterday_np)\n",
    "print(\"Today (NumPy):\", today_np)\n",
    "print(\"Tomorrow (NumPy):\", tomorrow_np)\n"
   ]
  },
  {
   "cell_type": "markdown",
   "metadata": {},
   "source": [
    "#### 34. How to get all the dates corresponding to the month of July 2016? (★★☆)"
   ]
  },
  {
   "cell_type": "code",
   "execution_count": 43,
   "metadata": {},
   "outputs": [
    {
     "name": "stdout",
     "output_type": "stream",
     "text": [
      "2016-07-01\n",
      "2016-07-02\n",
      "2016-07-03\n",
      "2016-07-04\n",
      "2016-07-05\n",
      "2016-07-06\n",
      "2016-07-07\n",
      "2016-07-08\n",
      "2016-07-09\n",
      "2016-07-10\n",
      "2016-07-11\n",
      "2016-07-12\n",
      "2016-07-13\n",
      "2016-07-14\n",
      "2016-07-15\n",
      "2016-07-16\n",
      "2016-07-17\n",
      "2016-07-18\n",
      "2016-07-19\n",
      "2016-07-20\n",
      "2016-07-21\n",
      "2016-07-22\n",
      "2016-07-23\n",
      "2016-07-24\n",
      "2016-07-25\n",
      "2016-07-26\n",
      "2016-07-27\n",
      "2016-07-28\n",
      "2016-07-29\n",
      "2016-07-30\n",
      "2016-07-31\n"
     ]
    }
   ],
   "source": [
    "import numpy as np\n",
    "\n",
    "# Specify the start and end dates for July 2016\n",
    "start_date = np.datetime64('2016-07-01')\n",
    "end_date = np.datetime64('2016-08-01')\n",
    "\n",
    "# Generate all the dates for July 2016 using date_range\n",
    "dates_july_2016 = np.arange(start_date, end_date, dtype='datetime64[D]')\n",
    "\n",
    "# Print the dates\n",
    "for date in dates_july_2016:\n",
    "    print(date)\n"
   ]
  },
  {
   "cell_type": "markdown",
   "metadata": {},
   "source": [
    "#### 35. How to compute ((A+B)*(-A/2)) in place (without copy)? (★★☆)"
   ]
  },
  {
   "cell_type": "code",
   "execution_count": 49,
   "metadata": {},
   "outputs": [
    {
     "name": "stdout",
     "output_type": "stream",
     "text": [
      "[-20 -35 -54]\n"
     ]
    }
   ],
   "source": [
    "import numpy as np\n",
    "\n",
    "# Example arrays A and B\n",
    "A = np.array([1, 2, 3])\n",
    "B = np.array([4, 5, 6])\n",
    "\n",
    "# Compute ((A + B) * (-A / 2)) in place\n",
    "result = np.add(A, B, out=A)\n",
    "np.negative(A, out=A)\n",
    "np.multiply(A, B, out=A)\n",
    "\n",
    "print(result)\n",
    "\n"
   ]
  },
  {
   "cell_type": "markdown",
   "metadata": {},
   "source": [
    "#### 36. Extract the integer part of a random array of positive numbers using 4 different methods (★★☆)"
   ]
  },
  {
   "cell_type": "code",
   "execution_count": 51,
   "metadata": {},
   "outputs": [
    {
     "name": "stdout",
     "output_type": "stream",
     "text": [
      "Method 1: [5. 8. 2. 2. 1.]\n",
      "Method 2: [5. 8. 2. 2. 1.]\n",
      "Method 3: [5 8 2 2 1]\n",
      "Method 4: [5, 8, 2, 2, 1]\n"
     ]
    }
   ],
   "source": [
    "random_array = np.random.rand(5) * 10  \n",
    "\n",
    "integer_part_1 = np.floor(random_array)\n",
    "integer_part_2 = np.trunc(random_array)\n",
    "integer_part_3 = random_array.astype(int)\n",
    "integer_part_4 = [int(x) for x in random_array]\n",
    "\n",
    "print(\"Method 1:\", integer_part_1)\n",
    "print(\"Method 2:\", integer_part_2)\n",
    "print(\"Method 3:\", integer_part_3)\n",
    "print(\"Method 4:\", integer_part_4)\n"
   ]
  },
  {
   "cell_type": "markdown",
   "metadata": {},
   "source": [
    "#### 37. Create a 5x5 matrix with row values ranging from 0 to 4 (★★☆)"
   ]
  },
  {
   "cell_type": "code",
   "execution_count": 52,
   "metadata": {},
   "outputs": [
    {
     "name": "stdout",
     "output_type": "stream",
     "text": [
      "[[0 1 2 3 4]\n",
      " [1 2 3 4 5]\n",
      " [2 3 4 5 6]\n",
      " [3 4 5 6 7]\n",
      " [4 5 6 7 8]]\n"
     ]
    }
   ],
   "source": [
    "import numpy as np\n",
    "\n",
    "matrix = np.arange(5).reshape(5, 1) + np.arange(5)\n",
    "\n",
    "print(matrix)\n"
   ]
  },
  {
   "cell_type": "markdown",
   "metadata": {},
   "source": [
    "#### 38. Consider a generator function that generates 10 integers and use it to build an array (★☆☆)"
   ]
  },
  {
   "cell_type": "code",
   "execution_count": 53,
   "metadata": {},
   "outputs": [
    {
     "name": "stdout",
     "output_type": "stream",
     "text": [
      "[0 1 2 3 4 5 6 7 8 9]\n"
     ]
    }
   ],
   "source": [
    "def integer_generator():\n",
    "    for i in range(10):\n",
    "        yield i\n",
    "\n",
    "array_from_generator = np.fromiter(integer_generator(), dtype=int)\n",
    "\n",
    "print(array_from_generator)\n"
   ]
  },
  {
   "cell_type": "markdown",
   "metadata": {},
   "source": [
    "#### 39. Create a vector of size 10 with values ranging from 0 to 1, both excluded (★★☆)"
   ]
  },
  {
   "cell_type": "code",
   "execution_count": 54,
   "metadata": {},
   "outputs": [
    {
     "name": "stdout",
     "output_type": "stream",
     "text": [
      "[0.  0.1 0.2 0.3 0.4 0.5 0.6 0.7 0.8 0.9]\n"
     ]
    }
   ],
   "source": [
    "\n",
    "vector = np.linspace(0, 1, num=10, endpoint=False)\n",
    "\n",
    "print(vector)\n",
    "\n"
   ]
  },
  {
   "cell_type": "markdown",
   "metadata": {},
   "source": [
    "#### 40. Create a random vector of size 10 and sort it (★★☆)"
   ]
  },
  {
   "cell_type": "code",
   "execution_count": 55,
   "metadata": {},
   "outputs": [
    {
     "name": "stdout",
     "output_type": "stream",
     "text": [
      "Random Vector: [0.39741013 0.49085256 0.4600637  0.52309981 0.30860142 0.23704898\n",
      " 0.77797675 0.66692966 0.17226903 0.29781655]\n",
      "Sorted Vector: [0.17226903 0.23704898 0.29781655 0.30860142 0.39741013 0.4600637\n",
      " 0.49085256 0.52309981 0.66692966 0.77797675]\n"
     ]
    }
   ],
   "source": [
    "\n",
    "random_vector = np.random.rand(10)\n",
    "\n",
    "\n",
    "sorted_vector = np.sort(random_vector)\n",
    "\n",
    "print(\"Random Vector:\", random_vector)\n",
    "print(\"Sorted Vector:\", sorted_vector)\n"
   ]
  },
  {
   "cell_type": "markdown",
   "metadata": {},
   "source": [
    "Save your progress by commiting your work to Jovian"
   ]
  },
  {
   "cell_type": "code",
   "execution_count": 56,
   "metadata": {},
   "outputs": [],
   "source": [
    "import jovian"
   ]
  },
  {
   "cell_type": "code",
   "execution_count": 57,
   "metadata": {},
   "outputs": [
    {
     "data": {
      "application/javascript": [
       "window.require && require([\"base/js/namespace\"],function(Jupyter){Jupyter.notebook.save_checkpoint()})"
      ],
      "text/plain": [
       "<IPython.core.display.Javascript object>"
      ]
     },
     "metadata": {},
     "output_type": "display_data"
    },
    {
     "name": "stdout",
     "output_type": "stream",
     "text": [
      "[jovian] Updating notebook \"rubabaa499/100-numpy-exercises\" on https://jovian.com\u001b[0m\n",
      "[jovian] Committed successfully! https://jovian.com/rubabaa499/100-numpy-exercises\u001b[0m\n"
     ]
    },
    {
     "data": {
      "text/plain": [
       "'https://jovian.com/rubabaa499/100-numpy-exercises'"
      ]
     },
     "execution_count": 57,
     "metadata": {},
     "output_type": "execute_result"
    }
   ],
   "source": [
    "jovian.commit()"
   ]
  },
  {
   "cell_type": "markdown",
   "metadata": {},
   "source": [
    "#### 41. How to sum a small array faster than np.sum? (★★☆)"
   ]
  },
  {
   "cell_type": "code",
   "execution_count": null,
   "metadata": {},
   "outputs": [],
   "source": [
    "by using sum()"
   ]
  },
  {
   "cell_type": "markdown",
   "metadata": {},
   "source": [
    "#### 42. Consider two random array A and B, check if they are equal (★★☆)"
   ]
  },
  {
   "cell_type": "code",
   "execution_count": 58,
   "metadata": {},
   "outputs": [
    {
     "name": "stdout",
     "output_type": "stream",
     "text": [
      "Array A: [0.03502148 0.55455894 0.42364222 0.01581338 0.25618821]\n",
      "Array B: [0.70294257 0.75039973 0.2379595  0.49996502 0.81925709]\n",
      "Are A and B equal? False\n"
     ]
    }
   ],
   "source": [
    "import numpy as np\n",
    "\n",
    "# Create two random arrays A and B\n",
    "A = np.random.rand(5)\n",
    "B = np.random.rand(5)\n",
    "\n",
    "# Check if A and B are equal\n",
    "are_equal = np.array_equal(A, B)\n",
    "\n",
    "print(\"Array A:\", A)\n",
    "print(\"Array B:\", B)\n",
    "print(\"Are A and B equal?\", are_equal)\n"
   ]
  },
  {
   "cell_type": "markdown",
   "metadata": {},
   "source": [
    "#### 43. Make an array immutable (read-only) (★★☆)"
   ]
  },
  {
   "cell_type": "code",
   "execution_count": 59,
   "metadata": {},
   "outputs": [
    {
     "ename": "ValueError",
     "evalue": "assignment destination is read-only",
     "output_type": "error",
     "traceback": [
      "\u001b[0;31m---------------------------------------------------------------------------\u001b[0m",
      "\u001b[0;31mValueError\u001b[0m                                Traceback (most recent call last)",
      "\u001b[0;32m/tmp/ipykernel_46/293618319.py\u001b[0m in \u001b[0;36m<module>\u001b[0;34m\u001b[0m\n\u001b[1;32m      8\u001b[0m \u001b[0;34m\u001b[0m\u001b[0m\n\u001b[1;32m      9\u001b[0m \u001b[0;31m# Try to modify the array (this will raise an error)\u001b[0m\u001b[0;34m\u001b[0m\u001b[0;34m\u001b[0m\u001b[0m\n\u001b[0;32m---> 10\u001b[0;31m \u001b[0marray\u001b[0m\u001b[0;34m[\u001b[0m\u001b[0;36m0\u001b[0m\u001b[0;34m]\u001b[0m \u001b[0;34m=\u001b[0m \u001b[0;36m10\u001b[0m\u001b[0;34m\u001b[0m\u001b[0;34m\u001b[0m\u001b[0m\n\u001b[0m",
      "\u001b[0;31mValueError\u001b[0m: assignment destination is read-only"
     ]
    }
   ],
   "source": [
    "import numpy as np\n",
    "\n",
    "# Create a NumPy array\n",
    "array = np.array([1, 2, 3, 4, 5])\n",
    "\n",
    "# Make the array immutable (read-only)\n",
    "array.flags.writeable = False\n",
    "\n",
    "# Try to modify the array (this will raise an error)\n",
    "array[0] = 10\n"
   ]
  },
  {
   "cell_type": "markdown",
   "metadata": {},
   "source": [
    "#### 44. Consider a random 10x2 matrix representing cartesian coordinates, convert them to polar coordinates (★★☆)"
   ]
  },
  {
   "cell_type": "code",
   "execution_count": 60,
   "metadata": {},
   "outputs": [
    {
     "name": "stdout",
     "output_type": "stream",
     "text": [
      "Cartesian Coordinates:\n",
      "[[0.80796345 0.33108745]\n",
      " [0.56542815 0.74275258]\n",
      " [0.26797831 0.51665101]\n",
      " [0.18348305 0.58042661]\n",
      " [0.71992525 0.73761509]\n",
      " [0.29370911 0.57322769]\n",
      " [0.38647052 0.09252384]\n",
      " [0.41353679 0.40231918]\n",
      " [0.6833586  0.63657684]\n",
      " [0.79078828 0.42319016]]\n",
      "\n",
      "Polar Coordinates:\n",
      "[[ 0.87316885 22.28284861]\n",
      " [ 0.93348293 52.71941709]\n",
      " [ 0.5820143  62.58497885]\n",
      " [ 0.60873728 72.45733962]\n",
      " [ 1.03071257 45.69535193]\n",
      " [ 0.6440924  62.87040827]\n",
      " [ 0.39739165 13.463616  ]\n",
      " [ 0.57695182 44.21226157]\n",
      " [ 0.93392133 42.97014646]\n",
      " [ 0.89690357 28.15345231]]\n"
     ]
    }
   ],
   "source": [
    "cartesian_coords = np.random.rand(10, 2)\n",
    "\n",
    "# Extract x and y coordinates from the matrix\n",
    "x_coords = cartesian_coords[:, 0]\n",
    "y_coords = cartesian_coords[:, 1]\n",
    "\n",
    "# Convert to polar coordinates (r, θ)\n",
    "r_coords = np.hypot(x_coords, y_coords)\n",
    "theta_coords = np.arctan2(y_coords, x_coords)\n",
    "\n",
    "# Convert angles from radians to degrees (if needed)\n",
    "theta_coords_degrees = np.degrees(theta_coords)\n",
    "\n",
    "# Combine r and theta to get the polar coordinates\n",
    "polar_coords = np.column_stack((r_coords, theta_coords_degrees))\n",
    "\n",
    "print(\"Cartesian Coordinates:\")\n",
    "print(cartesian_coords)\n",
    "\n",
    "print(\"\\nPolar Coordinates:\")\n",
    "print(polar_coords)\n"
   ]
  },
  {
   "cell_type": "markdown",
   "metadata": {},
   "source": [
    "#### 45. Create random vector of size 10 and replace the maximum value by 0 (★★☆)"
   ]
  },
  {
   "cell_type": "code",
   "execution_count": 61,
   "metadata": {},
   "outputs": [
    {
     "name": "stdout",
     "output_type": "stream",
     "text": [
      "Random Vector: [0.25437499 0.37819409 0.55481155 0.35279773 0.10669815 0.07939157\n",
      " 0.12576033 0.80656481 0.53992128 0.        ]\n"
     ]
    }
   ],
   "source": [
    "random_vector = np.random.rand(10)\n",
    "\n",
    "# Find the maximum value in the vector\n",
    "max_value = np.max(random_vector)\n",
    "\n",
    "# Replace the maximum value with 0\n",
    "random_vector[random_vector == max_value] = 0\n",
    "\n",
    "print(\"Random Vector:\", random_vector)\n"
   ]
  },
  {
   "cell_type": "markdown",
   "metadata": {},
   "source": [
    "#### 46. Create a structured array with `x` and `y` coordinates covering the [0,1]x[0,1] area (★★☆)"
   ]
  },
  {
   "cell_type": "code",
   "execution_count": 62,
   "metadata": {},
   "outputs": [
    {
     "name": "stdout",
     "output_type": "stream",
     "text": [
      "[[(0.  , 0.  ) (0.25, 0.  ) (0.5 , 0.  ) (0.75, 0.  ) (1.  , 0.  )]\n",
      " [(0.  , 0.25) (0.25, 0.25) (0.5 , 0.25) (0.75, 0.25) (1.  , 0.25)]\n",
      " [(0.  , 0.5 ) (0.25, 0.5 ) (0.5 , 0.5 ) (0.75, 0.5 ) (1.  , 0.5 )]\n",
      " [(0.  , 0.75) (0.25, 0.75) (0.5 , 0.75) (0.75, 0.75) (1.  , 0.75)]\n",
      " [(0.  , 1.  ) (0.25, 1.  ) (0.5 , 1.  ) (0.75, 1.  ) (1.  , 1.  )]]\n"
     ]
    }
   ],
   "source": [
    "import numpy as np\n",
    "\n",
    "# Define the number of points along each axis\n",
    "num_points = 5\n",
    "\n",
    "# Generate x and y coordinates covering the [0, 1]x[0, 1] area\n",
    "x_coords = np.linspace(0, 1, num_points)\n",
    "y_coords = np.linspace(0, 1, num_points)\n",
    "\n",
    "# Create a meshgrid of x and y coordinates\n",
    "x_grid, y_grid = np.meshgrid(x_coords, y_coords)\n",
    "\n",
    "# Combine x and y coordinates into a structured array\n",
    "coordinates = np.core.records.fromarrays([x_grid, y_grid], names='x, y')\n",
    "\n",
    "print(coordinates)\n"
   ]
  },
  {
   "cell_type": "markdown",
   "metadata": {},
   "source": [
    "#### 47. Given two arrays, X and Y, construct the Cauchy matrix C (Cij =1/(xi - yj))"
   ]
  },
  {
   "cell_type": "code",
   "execution_count": 63,
   "metadata": {},
   "outputs": [
    {
     "name": "stdout",
     "output_type": "stream",
     "text": [
      "[[-0.33333333 -0.25       -0.2       ]\n",
      " [-0.5        -0.33333333 -0.25      ]\n",
      " [-1.         -0.5        -0.33333333]]\n"
     ]
    }
   ],
   "source": [
    "import numpy as np\n",
    "\n",
    "# Given arrays X and Y\n",
    "X = np.array([1, 2, 3])\n",
    "Y = np.array([4, 5, 6])\n",
    "\n",
    "# Construct the Cauchy matrix C\n",
    "C = 1 / (X[:, np.newaxis] - Y)\n",
    "\n",
    "print(C)\n",
    "\n"
   ]
  },
  {
   "cell_type": "markdown",
   "metadata": {},
   "source": [
    "#### 48. Print the minimum and maximum representable value for each numpy scalar type (★★☆)"
   ]
  },
  {
   "cell_type": "code",
   "execution_count": 64,
   "metadata": {},
   "outputs": [
    {
     "name": "stdout",
     "output_type": "stream",
     "text": [
      "Integer Scalar Types:\n",
      "int8: Min = -128, Max = 127\n",
      "int16: Min = -32768, Max = 32767\n",
      "int32: Min = -2147483648, Max = 2147483647\n",
      "int64: Min = -9223372036854775808, Max = 9223372036854775807\n",
      "uint8: Min = 0, Max = 255\n",
      "uint16: Min = 0, Max = 65535\n",
      "uint32: Min = 0, Max = 4294967295\n",
      "uint64: Min = 0, Max = 18446744073709551615\n",
      "\n",
      "Floating-Point Scalar Types:\n",
      "float16: Min = -65504.0, Max = 65504.0\n",
      "float32: Min = -3.4028234663852886e+38, Max = 3.4028234663852886e+38\n",
      "float64: Min = -1.7976931348623157e+308, Max = 1.7976931348623157e+308\n",
      "float128: Min = -inf, Max = inf\n"
     ]
    }
   ],
   "source": [
    "import numpy as np\n",
    "\n",
    "# Integer scalar types\n",
    "integer_types = [np.int8, np.int16, np.int32, np.int64,\n",
    "                 np.uint8, np.uint16, np.uint32, np.uint64]\n",
    "\n",
    "# Floating-point scalar types\n",
    "float_types = [np.float16, np.float32, np.float64, np.float128]\n",
    "\n",
    "# Print minimum and maximum representable values for integer types\n",
    "print(\"Integer Scalar Types:\")\n",
    "for int_type in integer_types:\n",
    "    info = np.iinfo(int_type)\n",
    "    print(f\"{int_type.__name__}: Min = {info.min}, Max = {info.max}\")\n",
    "\n",
    "# Print minimum and maximum representable values for floating-point types\n",
    "print(\"\\nFloating-Point Scalar Types:\")\n",
    "for float_type in float_types:\n",
    "    info = np.finfo(float_type)\n",
    "    print(f\"{float_type.__name__}: Min = {info.min}, Max = {info.max}\")\n"
   ]
  },
  {
   "cell_type": "markdown",
   "metadata": {},
   "source": [
    "#### 49. How to print all the values of an array? (★★☆)"
   ]
  },
  {
   "cell_type": "code",
   "execution_count": 65,
   "metadata": {},
   "outputs": [
    {
     "name": "stdout",
     "output_type": "stream",
     "text": [
      "[1 2 3 4 5]\n",
      "[1 2 3 4 5]\n"
     ]
    }
   ],
   "source": [
    "import numpy as np\n",
    "\n",
    "# Create a sample NumPy array\n",
    "arr = np.array([1, 2, 3, 4, 5])\n",
    "\n",
    "# Method 1: Use print() function\n",
    "print(arr)\n",
    "\n",
    "# Method 2: Simply print the array\n",
    "print(arr)\n"
   ]
  },
  {
   "cell_type": "markdown",
   "metadata": {},
   "source": [
    "#### 50. How to find the closest value (to a given scalar) in a vector? (★★☆)"
   ]
  },
  {
   "cell_type": "code",
   "execution_count": 66,
   "metadata": {},
   "outputs": [
    {
     "name": "stdout",
     "output_type": "stream",
     "text": [
      "Vector: [10 20 30 40 50]\n",
      "Given Scalar: 27\n",
      "Closest Value: 30\n"
     ]
    }
   ],
   "source": [
    "import numpy as np\n",
    "\n",
    "# Sample vector (NumPy array)\n",
    "vector = np.array([10, 20, 30, 40, 50])\n",
    "\n",
    "# Given scalar\n",
    "scalar = 27\n",
    "\n",
    "# Find the index of the closest value to the given scalar\n",
    "closest_index = np.argmin(np.abs(vector - scalar))\n",
    "\n",
    "# Get the closest value\n",
    "closest_value = vector[closest_index]\n",
    "\n",
    "print(\"Vector:\", vector)\n",
    "print(\"Given Scalar:\", scalar)\n",
    "print(\"Closest Value:\", closest_value)\n"
   ]
  },
  {
   "cell_type": "markdown",
   "metadata": {},
   "source": [
    "Save and commit your work."
   ]
  },
  {
   "cell_type": "code",
   "execution_count": 67,
   "metadata": {},
   "outputs": [],
   "source": [
    "import jovian"
   ]
  },
  {
   "cell_type": "code",
   "execution_count": 68,
   "metadata": {},
   "outputs": [
    {
     "data": {
      "application/javascript": [
       "window.require && require([\"base/js/namespace\"],function(Jupyter){Jupyter.notebook.save_checkpoint()})"
      ],
      "text/plain": [
       "<IPython.core.display.Javascript object>"
      ]
     },
     "metadata": {},
     "output_type": "display_data"
    },
    {
     "name": "stdout",
     "output_type": "stream",
     "text": [
      "[jovian] Updating notebook \"rubabaa499/100-numpy-exercises\" on https://jovian.com\u001b[0m\n",
      "[jovian] Committed successfully! https://jovian.com/rubabaa499/100-numpy-exercises\u001b[0m\n"
     ]
    },
    {
     "data": {
      "text/plain": [
       "'https://jovian.com/rubabaa499/100-numpy-exercises'"
      ]
     },
     "execution_count": 68,
     "metadata": {},
     "output_type": "execute_result"
    }
   ],
   "source": [
    "jovian.commit()"
   ]
  },
  {
   "cell_type": "markdown",
   "metadata": {},
   "source": [
    "#### 51. Create a structured array representing a position (x,y) and a color (r,g,b) (★★☆)"
   ]
  },
  {
   "cell_type": "code",
   "execution_count": 69,
   "metadata": {},
   "outputs": [
    {
     "name": "stdout",
     "output_type": "stream",
     "text": [
      "[((10., 20.), (255,   0,   0)) (( 5., 15.), (  0, 255,   0))\n",
      " (( 8., 25.), (  0,   0, 255))]\n"
     ]
    }
   ],
   "source": [
    "import numpy as np\n",
    "\n",
    "# Define the structured data type\n",
    "dt = np.dtype([('position', [('x', float), ('y', float)]), ('color', [('r', int), ('g', int), ('b', int)])])\n",
    "\n",
    "# Create a sample structured array\n",
    "data = np.array([\n",
    "    ((10.0, 20.0), (255, 0, 0)),  # First item: position=(10.0, 20.0), color=(255, 0, 0) (red)\n",
    "    ((5.0, 15.0), (0, 255, 0)),   # Second item: position=(5.0, 15.0), color=(0, 255, 0) (green)\n",
    "    ((8.0, 25.0), (0, 0, 255))    # Third item: position=(8.0, 25.0), color=(0, 0, 255) (blue)\n",
    "], dtype=dt)\n",
    "\n",
    "print(data)\n"
   ]
  },
  {
   "cell_type": "markdown",
   "metadata": {},
   "source": [
    "#### 52. Consider a random vector with shape (100,2) representing coordinates, find point by point distances (★★☆)"
   ]
  },
  {
   "cell_type": "code",
   "execution_count": 70,
   "metadata": {},
   "outputs": [
    {
     "name": "stdout",
     "output_type": "stream",
     "text": [
      "[[0.         0.59648444 0.30949379 ... 0.72021996 0.25562396 0.32056777]\n",
      " [0.59648444 0.         0.81110662 ... 0.75503668 0.37578213 0.82445184]\n",
      " [0.30949379 0.81110662 0.         ... 1.02396067 0.43615413 0.01336169]\n",
      " ...\n",
      " [0.72021996 0.75503668 1.02396067 ... 0.         0.77518274 1.03361899]\n",
      " [0.25562396 0.37578213 0.43615413 ... 0.77518274 0.         0.44951539]\n",
      " [0.32056777 0.82445184 0.01336169 ... 1.03361899 0.44951539 0.        ]]\n"
     ]
    }
   ],
   "source": [
    "import numpy as np\n",
    "from scipy.spatial.distance import cdist\n",
    "\n",
    "# Generate a random vector with shape (100, 2) representing coordinates\n",
    "random_vector = np.random.rand(100, 2)\n",
    "\n",
    "# Compute point-by-point distances\n",
    "distances = cdist(random_vector, random_vector)\n",
    "\n",
    "print(distances)\n"
   ]
  },
  {
   "cell_type": "markdown",
   "metadata": {},
   "source": [
    "#### 53. How to convert a float (32 bits) array into an integer (32 bits) in place?"
   ]
  },
  {
   "cell_type": "code",
   "execution_count": 71,
   "metadata": {},
   "outputs": [
    {
     "name": "stdout",
     "output_type": "stream",
     "text": [
      "Original Float Array: [1.5 2.7 3.2 4.9]\n",
      "Converted Integer Array: [1069547520 1076677837 1078774989 1084017869]\n"
     ]
    }
   ],
   "source": [
    "import numpy as np\n",
    "\n",
    "# Create a float array (32 bits)\n",
    "float_array = np.array([1.5, 2.7, 3.2, 4.9], dtype=np.float32)\n",
    "\n",
    "# Convert the float array to an integer array (32 bits) in place\n",
    "int_array = float_array.view(dtype=np.int32)\n",
    "\n",
    "print(\"Original Float Array:\", float_array)\n",
    "print(\"Converted Integer Array:\", int_array)\n"
   ]
  },
  {
   "cell_type": "markdown",
   "metadata": {},
   "source": [
    "#### 54. How to read the following file? (★★☆)\n",
    "```\n",
    "1, 2, 3, 4, 5\n",
    "6,  ,  , 7, 8\n",
    " ,  , 9,10,11\n",
    "```"
   ]
  },
  {
   "cell_type": "code",
   "execution_count": 72,
   "metadata": {},
   "outputs": [
    {
     "ename": "OSError",
     "evalue": "data.txt not found.",
     "output_type": "error",
     "traceback": [
      "\u001b[0;31m---------------------------------------------------------------------------\u001b[0m",
      "\u001b[0;31mOSError\u001b[0m                                   Traceback (most recent call last)",
      "\u001b[0;32m/tmp/ipykernel_46/1816610698.py\u001b[0m in \u001b[0;36m<module>\u001b[0;34m\u001b[0m\n\u001b[0;32m----> 1\u001b[0;31m \u001b[0mdata\u001b[0m \u001b[0;34m=\u001b[0m \u001b[0mnp\u001b[0m\u001b[0;34m.\u001b[0m\u001b[0mgenfromtxt\u001b[0m\u001b[0;34m(\u001b[0m\u001b[0;34m'data.txt'\u001b[0m\u001b[0;34m,\u001b[0m \u001b[0mdelimiter\u001b[0m\u001b[0;34m=\u001b[0m\u001b[0;34m','\u001b[0m\u001b[0;34m,\u001b[0m \u001b[0mdtype\u001b[0m\u001b[0;34m=\u001b[0m\u001b[0mfloat\u001b[0m\u001b[0;34m,\u001b[0m \u001b[0mfilling_values\u001b[0m\u001b[0;34m=\u001b[0m\u001b[0mnp\u001b[0m\u001b[0;34m.\u001b[0m\u001b[0mnan\u001b[0m\u001b[0;34m)\u001b[0m\u001b[0;34m\u001b[0m\u001b[0;34m\u001b[0m\u001b[0m\n\u001b[0m\u001b[1;32m      2\u001b[0m \u001b[0;34m\u001b[0m\u001b[0m\n\u001b[1;32m      3\u001b[0m \u001b[0mprint\u001b[0m\u001b[0;34m(\u001b[0m\u001b[0mdata\u001b[0m\u001b[0;34m)\u001b[0m\u001b[0;34m\u001b[0m\u001b[0;34m\u001b[0m\u001b[0m\n",
      "\u001b[0;32m/opt/conda/lib/python3.9/site-packages/numpy/lib/npyio.py\u001b[0m in \u001b[0;36mgenfromtxt\u001b[0;34m(fname, dtype, comments, delimiter, skip_header, skip_footer, converters, missing_values, filling_values, usecols, names, excludelist, deletechars, replace_space, autostrip, case_sensitive, defaultfmt, unpack, usemask, loose, invalid_raise, max_rows, encoding, like)\u001b[0m\n\u001b[1;32m   1789\u001b[0m             \u001b[0mfname\u001b[0m \u001b[0;34m=\u001b[0m \u001b[0mos_fspath\u001b[0m\u001b[0;34m(\u001b[0m\u001b[0mfname\u001b[0m\u001b[0;34m)\u001b[0m\u001b[0;34m\u001b[0m\u001b[0;34m\u001b[0m\u001b[0m\n\u001b[1;32m   1790\u001b[0m         \u001b[0;32mif\u001b[0m \u001b[0misinstance\u001b[0m\u001b[0;34m(\u001b[0m\u001b[0mfname\u001b[0m\u001b[0;34m,\u001b[0m \u001b[0mstr\u001b[0m\u001b[0;34m)\u001b[0m\u001b[0;34m:\u001b[0m\u001b[0;34m\u001b[0m\u001b[0;34m\u001b[0m\u001b[0m\n\u001b[0;32m-> 1791\u001b[0;31m             \u001b[0mfid\u001b[0m \u001b[0;34m=\u001b[0m \u001b[0mnp\u001b[0m\u001b[0;34m.\u001b[0m\u001b[0mlib\u001b[0m\u001b[0;34m.\u001b[0m\u001b[0m_datasource\u001b[0m\u001b[0;34m.\u001b[0m\u001b[0mopen\u001b[0m\u001b[0;34m(\u001b[0m\u001b[0mfname\u001b[0m\u001b[0;34m,\u001b[0m \u001b[0;34m'rt'\u001b[0m\u001b[0;34m,\u001b[0m \u001b[0mencoding\u001b[0m\u001b[0;34m=\u001b[0m\u001b[0mencoding\u001b[0m\u001b[0;34m)\u001b[0m\u001b[0;34m\u001b[0m\u001b[0;34m\u001b[0m\u001b[0m\n\u001b[0m\u001b[1;32m   1792\u001b[0m             \u001b[0mfid_ctx\u001b[0m \u001b[0;34m=\u001b[0m \u001b[0mcontextlib\u001b[0m\u001b[0;34m.\u001b[0m\u001b[0mclosing\u001b[0m\u001b[0;34m(\u001b[0m\u001b[0mfid\u001b[0m\u001b[0;34m)\u001b[0m\u001b[0;34m\u001b[0m\u001b[0;34m\u001b[0m\u001b[0m\n\u001b[1;32m   1793\u001b[0m         \u001b[0;32melse\u001b[0m\u001b[0;34m:\u001b[0m\u001b[0;34m\u001b[0m\u001b[0;34m\u001b[0m\u001b[0m\n",
      "\u001b[0;32m/opt/conda/lib/python3.9/site-packages/numpy/lib/_datasource.py\u001b[0m in \u001b[0;36mopen\u001b[0;34m(path, mode, destpath, encoding, newline)\u001b[0m\n\u001b[1;32m    192\u001b[0m \u001b[0;34m\u001b[0m\u001b[0m\n\u001b[1;32m    193\u001b[0m     \u001b[0mds\u001b[0m \u001b[0;34m=\u001b[0m \u001b[0mDataSource\u001b[0m\u001b[0;34m(\u001b[0m\u001b[0mdestpath\u001b[0m\u001b[0;34m)\u001b[0m\u001b[0;34m\u001b[0m\u001b[0;34m\u001b[0m\u001b[0m\n\u001b[0;32m--> 194\u001b[0;31m     \u001b[0;32mreturn\u001b[0m \u001b[0mds\u001b[0m\u001b[0;34m.\u001b[0m\u001b[0mopen\u001b[0m\u001b[0;34m(\u001b[0m\u001b[0mpath\u001b[0m\u001b[0;34m,\u001b[0m \u001b[0mmode\u001b[0m\u001b[0;34m,\u001b[0m \u001b[0mencoding\u001b[0m\u001b[0;34m=\u001b[0m\u001b[0mencoding\u001b[0m\u001b[0;34m,\u001b[0m \u001b[0mnewline\u001b[0m\u001b[0;34m=\u001b[0m\u001b[0mnewline\u001b[0m\u001b[0;34m)\u001b[0m\u001b[0;34m\u001b[0m\u001b[0;34m\u001b[0m\u001b[0m\n\u001b[0m\u001b[1;32m    195\u001b[0m \u001b[0;34m\u001b[0m\u001b[0m\n\u001b[1;32m    196\u001b[0m \u001b[0;34m\u001b[0m\u001b[0m\n",
      "\u001b[0;32m/opt/conda/lib/python3.9/site-packages/numpy/lib/_datasource.py\u001b[0m in \u001b[0;36mopen\u001b[0;34m(self, path, mode, encoding, newline)\u001b[0m\n\u001b[1;32m    529\u001b[0m                                       encoding=encoding, newline=newline)\n\u001b[1;32m    530\u001b[0m         \u001b[0;32melse\u001b[0m\u001b[0;34m:\u001b[0m\u001b[0;34m\u001b[0m\u001b[0;34m\u001b[0m\u001b[0m\n\u001b[0;32m--> 531\u001b[0;31m             \u001b[0;32mraise\u001b[0m \u001b[0mIOError\u001b[0m\u001b[0;34m(\u001b[0m\u001b[0;34m\"%s not found.\"\u001b[0m \u001b[0;34m%\u001b[0m \u001b[0mpath\u001b[0m\u001b[0;34m)\u001b[0m\u001b[0;34m\u001b[0m\u001b[0;34m\u001b[0m\u001b[0m\n\u001b[0m\u001b[1;32m    532\u001b[0m \u001b[0;34m\u001b[0m\u001b[0m\n\u001b[1;32m    533\u001b[0m \u001b[0;34m\u001b[0m\u001b[0m\n",
      "\u001b[0;31mOSError\u001b[0m: data.txt not found."
     ]
    }
   ],
   "source": [
    "data = np.genfromtxt('data.txt', delimiter=',', dtype=float, filling_values=np.nan)\n",
    "\n",
    "print(data)"
   ]
  },
  {
   "cell_type": "markdown",
   "metadata": {},
   "source": [
    "#### 55. What is the equivalent of enumerate for numpy arrays? (★★☆)"
   ]
  },
  {
   "cell_type": "code",
   "execution_count": 73,
   "metadata": {},
   "outputs": [
    {
     "name": "stdout",
     "output_type": "stream",
     "text": [
      "Index: (0,) Value: 10\n",
      "Index: (1,) Value: 20\n",
      "Index: (2,) Value: 30\n",
      "Index: (3,) Value: 40\n"
     ]
    }
   ],
   "source": [
    "import numpy as np\n",
    "\n",
    "# Create a sample NumPy array\n",
    "arr = np.array([10, 20, 30, 40])\n",
    "\n",
    "# Using numpy.ndenumerate() to get index and value pairs\n",
    "for index, value in np.ndenumerate(arr):\n",
    "    print(\"Index:\", index, \"Value:\", value)\n",
    "\n",
    "    "
   ]
  },
  {
   "cell_type": "markdown",
   "metadata": {},
   "source": [
    "#### 56. Generate a generic 2D Gaussian-like array (★★☆)"
   ]
  },
  {
   "cell_type": "code",
   "execution_count": 74,
   "metadata": {},
   "outputs": [
    {
     "name": "stdout",
     "output_type": "stream",
     "text": [
      "[[2.25521563e-14 3.71803230e-14 6.06746276e-14 ... 6.06746276e-14\n",
      "  3.71803230e-14 2.25521563e-14]\n",
      " [3.71803230e-14 6.12968623e-14 1.00030446e-13 ... 1.00030446e-13\n",
      "  6.12968623e-14 3.71803230e-14]\n",
      " [6.06746276e-14 1.00030446e-13 1.63239842e-13 ... 1.63239842e-13\n",
      "  1.00030446e-13 6.06746276e-14]\n",
      " ...\n",
      " [6.06746276e-14 1.00030446e-13 1.63239842e-13 ... 1.63239842e-13\n",
      "  1.00030446e-13 6.06746276e-14]\n",
      " [3.71803230e-14 6.12968623e-14 1.00030446e-13 ... 1.00030446e-13\n",
      "  6.12968623e-14 3.71803230e-14]\n",
      " [2.25521563e-14 3.71803230e-14 6.06746276e-14 ... 6.06746276e-14\n",
      "  3.71803230e-14 2.25521563e-14]]\n"
     ]
    }
   ],
   "source": [
    "import numpy as np\n",
    "\n",
    "def gaussian_2d(x, y, sigma):\n",
    "    return np.exp(-(x**2 + y**2) / (2 * sigma**2))\n",
    "\n",
    "# Define parameters for the Gaussian\n",
    "size = 100  # Size of the array (number of points along each axis)\n",
    "sigma = 10  # Standard deviation\n",
    "\n",
    "# Create a meshgrid of x and y coordinates\n",
    "x = np.linspace(-size/2, size/2, size)\n",
    "y = np.linspace(-size/2, size/2, size)\n",
    "x, y = np.meshgrid(x, y)\n",
    "\n",
    "# Calculate the Gaussian-like array\n",
    "gaussian_array = gaussian_2d(x, y, sigma)\n",
    "\n",
    "# Normalize the array (optional)\n",
    "gaussian_array /= np.sum(gaussian_array)\n",
    "\n",
    "print(gaussian_array)\n",
    "\n"
   ]
  },
  {
   "cell_type": "markdown",
   "metadata": {},
   "source": [
    "#### 57. How to randomly place p elements in a 2D array? (★★☆)"
   ]
  },
  {
   "cell_type": "code",
   "execution_count": 75,
   "metadata": {},
   "outputs": [
    {
     "name": "stdout",
     "output_type": "stream",
     "text": [
      "[[0 0 1 1 0]\n",
      " [0 0 0 0 1]\n",
      " [0 0 0 0 1]\n",
      " [0 0 0 0 0]\n",
      " [0 0 0 0 1]]\n"
     ]
    }
   ],
   "source": [
    "import numpy as np\n",
    "\n",
    "def randomly_place_elements(array, p, value):\n",
    "    # Get the shape of the array\n",
    "    rows, cols = array.shape\n",
    "\n",
    "    # Calculate the total number of elements in the array\n",
    "    total_elements = rows * cols\n",
    "\n",
    "    # Ensure that p is within the valid range (0 <= p <= total_elements)\n",
    "    p = min(max(0, p), total_elements)\n",
    "\n",
    "    # Create an array of all indices in the 2D array\n",
    "    all_indices = np.arange(total_elements)\n",
    "\n",
    "    # Randomly shuffle the indices\n",
    "    np.random.shuffle(all_indices)\n",
    "\n",
    "    # Select the first p indices\n",
    "    selected_indices = all_indices[:p]\n",
    "\n",
    "    # Convert the 1D indices to 2D indices (row and column indices)\n",
    "    row_indices = selected_indices // cols\n",
    "    col_indices = selected_indices % cols\n",
    "\n",
    "    # Place the value at the selected indices in the original array\n",
    "    array[row_indices, col_indices] = value\n",
    "\n",
    "# Create a 2D array of size (5, 5) filled with zeros\n",
    "array = np.zeros((5, 5), dtype=int)\n",
    "\n",
    "# Randomly place 5 elements (value 1) in the array\n",
    "randomly_place_elements(array, p=5, value=1)\n",
    "\n",
    "print(array)\n"
   ]
  },
  {
   "cell_type": "markdown",
   "metadata": {},
   "source": [
    "#### 58. Subtract the mean of each row of a matrix (★★☆)"
   ]
  },
  {
   "cell_type": "code",
   "execution_count": 77,
   "metadata": {},
   "outputs": [
    {
     "name": "stdout",
     "output_type": "stream",
     "text": [
      "Original Matrix:\n",
      "[[ 1  2  3  4]\n",
      " [ 5  6  7  8]\n",
      " [ 9 10 11 12]]\n",
      "\n",
      "Row Means:\n",
      "[[ 2.5]\n",
      " [ 6.5]\n",
      " [10.5]]\n",
      "\n",
      "Result Matrix:\n",
      "[[-1.5 -0.5  0.5  1.5]\n",
      " [-1.5 -0.5  0.5  1.5]\n",
      " [-1.5 -0.5  0.5  1.5]]\n"
     ]
    }
   ],
   "source": [
    "import numpy as np\n",
    "\n",
    "# Create a sample 2D matrix (3x4)\n",
    "matrix = np.array([[1, 2, 3, 4],\n",
    "                   [5, 6, 7, 8],\n",
    "                   [9, 10, 11, 12]])\n",
    "\n",
    "# Calculate the row-wise mean\n",
    "row_means = np.mean(matrix, axis=1, keepdims=True)\n",
    "\n",
    "# Subtract the row-wise mean from each element\n",
    "result_matrix = matrix - row_means\n",
    "\n",
    "print(\"Original Matrix:\")\n",
    "print(matrix)\n",
    "\n",
    "print(\"\\nRow Means:\")\n",
    "print(row_means)\n",
    "\n",
    "print(\"\\nResult Matrix:\")\n",
    "print(result_matrix)\n",
    "\n"
   ]
  },
  {
   "cell_type": "markdown",
   "metadata": {},
   "source": [
    "#### 59. How to sort an array by the nth column? (★★☆)"
   ]
  },
  {
   "cell_type": "code",
   "execution_count": 78,
   "metadata": {},
   "outputs": [
    {
     "name": "stdout",
     "output_type": "stream",
     "text": [
      "Original Array:\n",
      "[[3 9 1 5]\n",
      " [2 8 4 7]\n",
      " [6 0 3 2]]\n",
      "\n",
      "Sorted Array by the nth column (n=2):\n",
      "[[3 9 1 5]\n",
      " [6 0 3 2]\n",
      " [2 8 4 7]]\n"
     ]
    }
   ],
   "source": [
    "import numpy as np\n",
    "\n",
    "# Create a sample 2D array (3x4)\n",
    "array = np.array([[3, 9, 1, 5],\n",
    "                  [2, 8, 4, 7],\n",
    "                  [6, 0, 3, 2]])\n",
    "\n",
    "# Sort the array by the nth column (let's say n=2)\n",
    "n = 2\n",
    "sorted_indices = np.argsort(array[:, n])\n",
    "\n",
    "# Rearrange the rows based on the sorted indices\n",
    "sorted_array = array[sorted_indices]\n",
    "\n",
    "print(\"Original Array:\")\n",
    "print(array)\n",
    "\n",
    "print(\"\\nSorted Array by the nth column (n={}):\".format(n))\n",
    "print(sorted_array)\n"
   ]
  },
  {
   "cell_type": "markdown",
   "metadata": {},
   "source": [
    "#### 60. How to tell if a given 2D array has null columns? (★★☆)"
   ]
  },
  {
   "cell_type": "code",
   "execution_count": 79,
   "metadata": {},
   "outputs": [
    {
     "name": "stdout",
     "output_type": "stream",
     "text": [
      "Original Array:\n",
      "[[1 0 3]\n",
      " [0 0 0]\n",
      " [4 0 5]]\n",
      "\n",
      "Null Columns:\n",
      "[False  True False]\n"
     ]
    }
   ],
   "source": [
    "import numpy as np\n",
    "\n",
    "def has_null_columns(array):\n",
    "    return np.all(array == 0, axis=0)\n",
    "\n",
    "# Create a sample 2D array with null columns\n",
    "array_with_nulls = np.array([[1, 0, 3],\n",
    "                             [0, 0, 0],\n",
    "                             [4, 0, 5]])\n",
    "\n",
    "# Check if the array has null columns\n",
    "null_columns = has_null_columns(array_with_nulls)\n",
    "\n",
    "# Print the result\n",
    "print(\"Original Array:\")\n",
    "print(array_with_nulls)\n",
    "\n",
    "print(\"\\nNull Columns:\")\n",
    "print(null_columns)\n"
   ]
  },
  {
   "cell_type": "markdown",
   "metadata": {},
   "source": [
    "Save and commit your work."
   ]
  },
  {
   "cell_type": "code",
   "execution_count": 80,
   "metadata": {},
   "outputs": [],
   "source": [
    "import jovian"
   ]
  },
  {
   "cell_type": "code",
   "execution_count": 81,
   "metadata": {},
   "outputs": [
    {
     "data": {
      "application/javascript": [
       "window.require && require([\"base/js/namespace\"],function(Jupyter){Jupyter.notebook.save_checkpoint()})"
      ],
      "text/plain": [
       "<IPython.core.display.Javascript object>"
      ]
     },
     "metadata": {},
     "output_type": "display_data"
    },
    {
     "name": "stdout",
     "output_type": "stream",
     "text": [
      "[jovian] Updating notebook \"rubabaa499/100-numpy-exercises\" on https://jovian.com\u001b[0m\n",
      "[jovian] Committed successfully! https://jovian.com/rubabaa499/100-numpy-exercises\u001b[0m\n"
     ]
    },
    {
     "data": {
      "text/plain": [
       "'https://jovian.com/rubabaa499/100-numpy-exercises'"
      ]
     },
     "execution_count": 81,
     "metadata": {},
     "output_type": "execute_result"
    }
   ],
   "source": [
    "jovian.commit()"
   ]
  },
  {
   "cell_type": "markdown",
   "metadata": {},
   "source": [
    "#### 61. Find the nearest value from a given value in an array (★★☆)"
   ]
  },
  {
   "cell_type": "code",
   "execution_count": 5,
   "metadata": {},
   "outputs": [
    {
     "name": "stdout",
     "output_type": "stream",
     "text": [
      "Array: [ 1  4  8 12 17]\n",
      "Given Value: 9\n",
      "Nearest Value: 8\n"
     ]
    }
   ],
   "source": [
    "\n",
    "def find_nearest_value(array, value):\n",
    "    array = np.asarray(array)\n",
    "    idx = np.abs(array - value).argmin()\n",
    "    return array[idx]\n",
    "\n",
    "\n",
    "array = np.array([1, 4, 8, 12, 17])\n",
    "\n",
    "given_value = 9\n",
    "nearest_value = find_nearest_value(array, given_value)\n",
    "\n",
    "print(\"Array:\", array)\n",
    "print(\"Given Value:\", given_value)\n",
    "print(\"Nearest Value:\", nearest_value)\n"
   ]
  },
  {
   "cell_type": "markdown",
   "metadata": {},
   "source": [
    "#### 62. Considering two arrays with shape (1,3) and (3,1), how to compute their sum using an iterator? (★★☆)"
   ]
  },
  {
   "cell_type": "code",
   "execution_count": 6,
   "metadata": {},
   "outputs": [
    {
     "name": "stdout",
     "output_type": "stream",
     "text": [
      "Array 1:\n",
      "[[1 2 3]]\n",
      "\n",
      "Array 2:\n",
      "[[4]\n",
      " [5]\n",
      " [6]]\n",
      "\n",
      "Sum of the arrays using an iterator: 63\n"
     ]
    }
   ],
   "source": [
    "import numpy as np\n",
    "\n",
    "array1 = np.array([[1, 2, 3]])\n",
    "array2 = np.array([[4],\n",
    "                   [5],\n",
    "                   [6]])\n",
    "\n",
    "sum_result = 0\n",
    "\n",
    "with np.nditer([array1, array2]) as it:\n",
    "    for x, y in it:\n",
    "        sum_result += x + y\n",
    "\n",
    "print(\"Array 1:\")\n",
    "print(array1)\n",
    "\n",
    "print(\"\\nArray 2:\")\n",
    "print(array2)\n",
    "\n",
    "print(\"\\nSum of the arrays using an iterator:\", sum_result)\n"
   ]
  },
  {
   "cell_type": "markdown",
   "metadata": {},
   "source": [
    "#### 63. Create an array class that has a name attribute (★★☆)"
   ]
  },
  {
   "cell_type": "code",
   "execution_count": 7,
   "metadata": {},
   "outputs": [
    {
     "name": "stdout",
     "output_type": "stream",
     "text": [
      "Name: Example Array\n",
      "Result: [ 2  4  6  8 10]\n"
     ]
    }
   ],
   "source": [
    "import numpy as np\n",
    "\n",
    "class NamedArray(np.ndarray):\n",
    "    def __new__(cls, input_array, name=None):\n",
    "        obj = np.asarray(input_array).view(cls)\n",
    "        obj.name = name\n",
    "        return obj\n",
    "\n",
    "\n",
    "data = [1, 2, 3, 4, 5]\n",
    "name = \"Example Array\"\n",
    "\n",
    "my_array = NamedArray(data, name=name)\n",
    "\n",
    "print(\"Name:\", my_array.name)\n",
    "\n",
    "\n",
    "result = my_array * 2\n",
    "print(\"Result:\", result)\n"
   ]
  },
  {
   "cell_type": "markdown",
   "metadata": {},
   "source": [
    "#### 64. Consider a given vector, how to add 1 to each element indexed by a second vector (be careful with repeated indices)? (★★★)"
   ]
  },
  {
   "cell_type": "code",
   "execution_count": 8,
   "metadata": {},
   "outputs": [
    {
     "name": "stdout",
     "output_type": "stream",
     "text": [
      "Original Vector: [1 4 4 5 7]\n"
     ]
    }
   ],
   "source": [
    "import numpy as np\n",
    "\n",
    "def add_to_elements_at_indices(vector, indices_to_add):\n",
    "    unique_indices, counts = np.unique(indices_to_add, return_counts=True)\n",
    "    vector[unique_indices] += counts\n",
    "\n",
    "\n",
    "given_vector = np.array([1, 2, 3, 4, 5])\n",
    "indices_to_add = np.array([1, 3, 1, 4, 2, 4])\n",
    "\n",
    "add_to_elements_at_indices(given_vector, indices_to_add)\n",
    "\n",
    "print(\"Original Vector:\", given_vector)\n"
   ]
  },
  {
   "cell_type": "markdown",
   "metadata": {},
   "source": [
    "#### 65. How to accumulate elements of a vector (X) to an array (F) based on an index list (I)? (★★★)"
   ]
  },
  {
   "cell_type": "code",
   "execution_count": 10,
   "metadata": {},
   "outputs": [
    {
     "ename": "ValueError",
     "evalue": "The weights and list don't have the same length.",
     "output_type": "error",
     "traceback": [
      "\u001b[0;31m---------------------------------------------------------------------------\u001b[0m",
      "\u001b[0;31mValueError\u001b[0m                                Traceback (most recent call last)",
      "\u001b[0;32m/tmp/ipykernel_46/528894764.py\u001b[0m in \u001b[0;36m<module>\u001b[0;34m\u001b[0m\n\u001b[1;32m      9\u001b[0m \u001b[0mF\u001b[0m \u001b[0;34m=\u001b[0m \u001b[0mnp\u001b[0m\u001b[0;34m.\u001b[0m\u001b[0mzeros\u001b[0m\u001b[0;34m(\u001b[0m\u001b[0;36m6\u001b[0m\u001b[0;34m)\u001b[0m\u001b[0;34m\u001b[0m\u001b[0;34m\u001b[0m\u001b[0m\n\u001b[1;32m     10\u001b[0m \u001b[0;34m\u001b[0m\u001b[0m\n\u001b[0;32m---> 11\u001b[0;31m \u001b[0maccumulate_elements_to_array\u001b[0m\u001b[0;34m(\u001b[0m\u001b[0mX\u001b[0m\u001b[0;34m,\u001b[0m \u001b[0mI\u001b[0m\u001b[0;34m,\u001b[0m \u001b[0mF\u001b[0m\u001b[0;34m)\u001b[0m\u001b[0;34m\u001b[0m\u001b[0;34m\u001b[0m\u001b[0m\n\u001b[0m\u001b[1;32m     12\u001b[0m \u001b[0;34m\u001b[0m\u001b[0m\n\u001b[1;32m     13\u001b[0m \u001b[0mprint\u001b[0m\u001b[0;34m(\u001b[0m\u001b[0;34m\"Vector X:\"\u001b[0m\u001b[0;34m,\u001b[0m \u001b[0mX\u001b[0m\u001b[0;34m)\u001b[0m\u001b[0;34m\u001b[0m\u001b[0;34m\u001b[0m\u001b[0m\n",
      "\u001b[0;32m/tmp/ipykernel_46/528894764.py\u001b[0m in \u001b[0;36maccumulate_elements_to_array\u001b[0;34m(X, I, F)\u001b[0m\n\u001b[1;32m      2\u001b[0m \u001b[0;34m\u001b[0m\u001b[0m\n\u001b[1;32m      3\u001b[0m \u001b[0;32mdef\u001b[0m \u001b[0maccumulate_elements_to_array\u001b[0m\u001b[0;34m(\u001b[0m\u001b[0mX\u001b[0m\u001b[0;34m,\u001b[0m \u001b[0mI\u001b[0m\u001b[0;34m,\u001b[0m \u001b[0mF\u001b[0m\u001b[0;34m)\u001b[0m\u001b[0;34m:\u001b[0m\u001b[0;34m\u001b[0m\u001b[0;34m\u001b[0m\u001b[0m\n\u001b[0;32m----> 4\u001b[0;31m     \u001b[0mF\u001b[0m \u001b[0;34m+=\u001b[0m \u001b[0mnp\u001b[0m\u001b[0;34m.\u001b[0m\u001b[0mbincount\u001b[0m\u001b[0;34m(\u001b[0m\u001b[0mI\u001b[0m\u001b[0;34m,\u001b[0m \u001b[0mX\u001b[0m\u001b[0;34m,\u001b[0m \u001b[0mminlength\u001b[0m\u001b[0;34m=\u001b[0m\u001b[0mlen\u001b[0m\u001b[0;34m(\u001b[0m\u001b[0mF\u001b[0m\u001b[0;34m)\u001b[0m\u001b[0;34m)\u001b[0m\u001b[0;34m\u001b[0m\u001b[0;34m\u001b[0m\u001b[0m\n\u001b[0m\u001b[1;32m      5\u001b[0m \u001b[0;34m\u001b[0m\u001b[0m\n\u001b[1;32m      6\u001b[0m \u001b[0;31m# Example usage\u001b[0m\u001b[0;34m\u001b[0m\u001b[0;34m\u001b[0m\u001b[0m\n",
      "\u001b[0;32m<__array_function__ internals>\u001b[0m in \u001b[0;36mbincount\u001b[0;34m(*args, **kwargs)\u001b[0m\n",
      "\u001b[0;31mValueError\u001b[0m: The weights and list don't have the same length."
     ]
    }
   ],
   "source": [
    "import numpy as np\n",
    "\n",
    "def accumulate_elements_to_array(X, I, F):\n",
    "    F += np.bincount(I, X, minlength=len(F))\n",
    "\n",
    "# Example usage\n",
    "X = np.array([1, 2, 3, 4, 5])\n",
    "I = np.array([1, 3, 1, 4, 2, 4])\n",
    "F = np.zeros(6)\n",
    "\n",
    "accumulate_elements_to_array(X, I, F)\n",
    "\n",
    "print(\"Vector X:\", X)\n",
    "print(\"Index list I:\", I)\n",
    "print(\"Accumulated array F:\", F)\n",
    "\n"
   ]
  },
  {
   "cell_type": "markdown",
   "metadata": {},
   "source": [
    "#### 66. Considering a (w,h,3) image of (dtype=ubyte), compute the number of unique colors (★★★)"
   ]
  },
  {
   "cell_type": "code",
   "execution_count": 11,
   "metadata": {},
   "outputs": [
    {
     "name": "stdout",
     "output_type": "stream",
     "text": [
      "Example Image:\n",
      "[[[248 210  67]\n",
      "  [207 117 135]\n",
      "  [ 77  44  44]\n",
      "  [ 63  60   5]\n",
      "  [187 127 245]]\n",
      "\n",
      " [[243 253   3]\n",
      "  [179  49  82]\n",
      "  [ 47 197  14]\n",
      "  [157 202 197]\n",
      "  [ 49  84  92]]\n",
      "\n",
      " [[ 70  94 105]\n",
      "  [221  82  64]\n",
      "  [131  55 249]\n",
      "  [145 170  86]\n",
      "  [ 53  22 137]]\n",
      "\n",
      " [[105 106  31]\n",
      "  [ 60 134  42]\n",
      "  [ 57 204 244]\n",
      "  [254 246  10]\n",
      "  [168  31 141]]\n",
      "\n",
      " [[ 32 239 159]\n",
      "  [ 70 136 174]\n",
      "  [254  57 187]\n",
      "  [130 138 120]\n",
      "  [193 113 144]]]\n",
      "\n",
      "Number of Unique Colors: 25\n"
     ]
    }
   ],
   "source": [
    "import numpy as np\n",
    "\n",
    "\n",
    "image = np.random.randint(0, 256, size=(5, 5, 3), dtype=np.uint8)\n",
    "\n",
    "# Reshape the image to a 2D array (w * h, 3)\n",
    "reshaped_image = image.reshape(-1, 3)\n",
    "\n",
    "# Get the number of unique colors\n",
    "num_unique_colors = len(np.unique(reshaped_image, axis=0))\n",
    "\n",
    "print(\"Example Image:\")\n",
    "print(image)\n",
    "\n",
    "print(\"\\nNumber of Unique Colors:\", num_unique_colors)\n",
    "\n"
   ]
  },
  {
   "cell_type": "markdown",
   "metadata": {},
   "source": [
    "#### 67. Considering a four dimensions array, how to get sum over the last two axis at once? (★★★)"
   ]
  },
  {
   "cell_type": "code",
   "execution_count": 12,
   "metadata": {},
   "outputs": [
    {
     "name": "stdout",
     "output_type": "stream",
     "text": [
      "Example 4D Array:\n",
      "[[[[5 5 5 7 6]\n",
      "   [6 3 3 6 2]\n",
      "   [4 2 0 2 5]\n",
      "   [5 3 6 7 8]]\n",
      "\n",
      "  [[0 3 8 0 1]\n",
      "   [4 4 2 6 3]\n",
      "   [3 1 0 4 3]\n",
      "   [7 5 2 4 5]]\n",
      "\n",
      "  [[7 9 2 3 2]\n",
      "   [1 9 9 4 5]\n",
      "   [9 0 6 0 7]\n",
      "   [2 7 3 0 4]]]\n",
      "\n",
      "\n",
      " [[[9 2 3 3 4]\n",
      "   [9 0 8 3 9]\n",
      "   [5 9 7 7 8]\n",
      "   [4 1 5 5 2]]\n",
      "\n",
      "  [[4 0 8 8 0]\n",
      "   [3 1 8 9 3]\n",
      "   [0 7 2 1 6]\n",
      "   [7 5 7 0 5]]\n",
      "\n",
      "  [[6 1 5 2 4]\n",
      "   [9 9 0 5 0]\n",
      "   [1 1 0 0 2]\n",
      "   [8 6 3 4 7]]]]\n",
      "\n",
      "Sum Over Last Two Axes:\n",
      "[[ 90  65  89]\n",
      " [103  84  73]]\n"
     ]
    }
   ],
   "source": [
    "import numpy as np\n",
    "\n",
    "# Example 4D array with shape (2, 3, 4, 5)\n",
    "four_dim_array = np.random.randint(0, 10, size=(2, 3, 4, 5))\n",
    "\n",
    "# Get the sum over the last two axes (axis=(2, 3))\n",
    "sum_over_last_two_axes = np.sum(four_dim_array, axis=(2, 3))\n",
    "\n",
    "print(\"Example 4D Array:\")\n",
    "print(four_dim_array)\n",
    "\n",
    "print(\"\\nSum Over Last Two Axes:\")\n",
    "print(sum_over_last_two_axes)\n"
   ]
  },
  {
   "cell_type": "markdown",
   "metadata": {},
   "source": [
    "#### 68. Considering a one-dimensional vector D, how to compute means of subsets of D using a vector S of same size describing subset  indices? (★★★)"
   ]
  },
  {
   "cell_type": "code",
   "execution_count": 13,
   "metadata": {},
   "outputs": [
    {
     "name": "stdout",
     "output_type": "stream",
     "text": [
      "Vector D: [ 1  2  3  4  5  6  7  8  9 10]\n",
      "Subset Indices S: [0 0 1 1 1 2 2 2 2 2]\n",
      "Subset Means: [1.5 4.  8. ]\n"
     ]
    }
   ],
   "source": [
    "import numpy as np\n",
    "\n",
    "def compute_subset_means(D, S):\n",
    "    unique_indices, inverse_indices, counts = np.unique(S, return_inverse=True, return_counts=True)\n",
    "    subset_means = np.bincount(inverse_indices, weights=D) / counts\n",
    "    return subset_means\n",
    "\n",
    "# Example usage\n",
    "D = np.array([1, 2, 3, 4, 5, 6, 7, 8, 9, 10])\n",
    "S = np.array([0, 0, 1, 1, 1, 2, 2, 2, 2, 2])\n",
    "\n",
    "subset_means = compute_subset_means(D, S)\n",
    "\n",
    "print(\"Vector D:\", D)\n",
    "print(\"Subset Indices S:\", S)\n",
    "print(\"Subset Means:\", subset_means)\n"
   ]
  },
  {
   "cell_type": "markdown",
   "metadata": {},
   "source": [
    "#### 69. How to get the diagonal of a dot product? (★★★)"
   ]
  },
  {
   "cell_type": "code",
   "execution_count": 14,
   "metadata": {},
   "outputs": [
    {
     "name": "stdout",
     "output_type": "stream",
     "text": [
      "Dot Product:\n",
      "[[19 22]\n",
      " [43 50]]\n",
      "\n",
      "Diagonal of Dot Product:\n",
      "[19 50]\n"
     ]
    }
   ],
   "source": [
    "import numpy as np\n",
    "\n",
    "A = np.array([[1, 2], [3, 4]])\n",
    "B = np.array([[5, 6], [7, 8]])\n",
    "\n",
    "dot_product = np.dot(A, B)\n",
    "\n",
    "diagonal = np.diag(dot_product)\n",
    "\n",
    "print(\"Dot Product:\")\n",
    "print(dot_product)\n",
    "\n",
    "print(\"\\nDiagonal of Dot Product:\")\n",
    "print(diagonal)\n"
   ]
  },
  {
   "cell_type": "markdown",
   "metadata": {},
   "source": [
    "#### 70. Consider the vector [1, 2, 3, 4, 5], how to build a new vector with 3 consecutive zeros interleaved between each value? (★★★)"
   ]
  },
  {
   "cell_type": "code",
   "execution_count": 15,
   "metadata": {},
   "outputs": [
    {
     "ename": "IndexError",
     "evalue": "index 9 is out of bounds for axis 0 with size 9",
     "output_type": "error",
     "traceback": [
      "\u001b[0;31m---------------------------------------------------------------------------\u001b[0m",
      "\u001b[0;31mIndexError\u001b[0m                                Traceback (most recent call last)",
      "\u001b[0;32m/tmp/ipykernel_46/533578646.py\u001b[0m in \u001b[0;36m<module>\u001b[0;34m\u001b[0m\n\u001b[1;32m      8\u001b[0m \u001b[0;34m\u001b[0m\u001b[0m\n\u001b[1;32m      9\u001b[0m \u001b[0;31m# Build a new vector with interleaved zeros\u001b[0m\u001b[0;34m\u001b[0m\u001b[0;34m\u001b[0m\u001b[0m\n\u001b[0;32m---> 10\u001b[0;31m \u001b[0mnew_vector\u001b[0m \u001b[0;34m=\u001b[0m \u001b[0mnp\u001b[0m\u001b[0;34m.\u001b[0m\u001b[0minsert\u001b[0m\u001b[0;34m(\u001b[0m\u001b[0moriginal_vector\u001b[0m\u001b[0;34m,\u001b[0m \u001b[0mnp\u001b[0m\u001b[0;34m.\u001b[0m\u001b[0marange\u001b[0m\u001b[0;34m(\u001b[0m\u001b[0;36m1\u001b[0m\u001b[0;34m,\u001b[0m \u001b[0mlen\u001b[0m\u001b[0;34m(\u001b[0m\u001b[0moriginal_vector\u001b[0m\u001b[0;34m)\u001b[0m\u001b[0;34m)\u001b[0m \u001b[0;34m*\u001b[0m \u001b[0;34m(\u001b[0m\u001b[0mnum_zeros\u001b[0m \u001b[0;34m+\u001b[0m \u001b[0;36m1\u001b[0m\u001b[0;34m)\u001b[0m\u001b[0;34m,\u001b[0m \u001b[0;36m0\u001b[0m\u001b[0;34m)\u001b[0m\u001b[0;34m\u001b[0m\u001b[0;34m\u001b[0m\u001b[0m\n\u001b[0m\u001b[1;32m     11\u001b[0m \u001b[0;34m\u001b[0m\u001b[0m\n\u001b[1;32m     12\u001b[0m \u001b[0mprint\u001b[0m\u001b[0;34m(\u001b[0m\u001b[0;34m\"Original Vector:\"\u001b[0m\u001b[0;34m,\u001b[0m \u001b[0moriginal_vector\u001b[0m\u001b[0;34m)\u001b[0m\u001b[0;34m\u001b[0m\u001b[0;34m\u001b[0m\u001b[0m\n",
      "\u001b[0;32m<__array_function__ internals>\u001b[0m in \u001b[0;36minsert\u001b[0;34m(*args, **kwargs)\u001b[0m\n",
      "\u001b[0;32m/opt/conda/lib/python3.9/site-packages/numpy/lib/function_base.py\u001b[0m in \u001b[0;36minsert\u001b[0;34m(arr, obj, values, axis)\u001b[0m\n\u001b[1;32m   4670\u001b[0m     \u001b[0mnewshape\u001b[0m\u001b[0;34m[\u001b[0m\u001b[0maxis\u001b[0m\u001b[0;34m]\u001b[0m \u001b[0;34m+=\u001b[0m \u001b[0mnumnew\u001b[0m\u001b[0;34m\u001b[0m\u001b[0;34m\u001b[0m\u001b[0m\n\u001b[1;32m   4671\u001b[0m     \u001b[0mold_mask\u001b[0m \u001b[0;34m=\u001b[0m \u001b[0mones\u001b[0m\u001b[0;34m(\u001b[0m\u001b[0mnewshape\u001b[0m\u001b[0;34m[\u001b[0m\u001b[0maxis\u001b[0m\u001b[0;34m]\u001b[0m\u001b[0;34m,\u001b[0m \u001b[0mdtype\u001b[0m\u001b[0;34m=\u001b[0m\u001b[0mbool\u001b[0m\u001b[0;34m)\u001b[0m\u001b[0;34m\u001b[0m\u001b[0;34m\u001b[0m\u001b[0m\n\u001b[0;32m-> 4672\u001b[0;31m     \u001b[0mold_mask\u001b[0m\u001b[0;34m[\u001b[0m\u001b[0mindices\u001b[0m\u001b[0;34m]\u001b[0m \u001b[0;34m=\u001b[0m \u001b[0;32mFalse\u001b[0m\u001b[0;34m\u001b[0m\u001b[0;34m\u001b[0m\u001b[0m\n\u001b[0m\u001b[1;32m   4673\u001b[0m \u001b[0;34m\u001b[0m\u001b[0m\n\u001b[1;32m   4674\u001b[0m     \u001b[0mnew\u001b[0m \u001b[0;34m=\u001b[0m \u001b[0mempty\u001b[0m\u001b[0;34m(\u001b[0m\u001b[0mnewshape\u001b[0m\u001b[0;34m,\u001b[0m \u001b[0marr\u001b[0m\u001b[0;34m.\u001b[0m\u001b[0mdtype\u001b[0m\u001b[0;34m,\u001b[0m \u001b[0marrorder\u001b[0m\u001b[0;34m)\u001b[0m\u001b[0;34m\u001b[0m\u001b[0;34m\u001b[0m\u001b[0m\n",
      "\u001b[0;31mIndexError\u001b[0m: index 9 is out of bounds for axis 0 with size 9"
     ]
    }
   ],
   "source": [
    "import numpy as np\n",
    "\n",
    "# Original vector\n",
    "original_vector = np.array([1, 2, 3, 4, 5])\n",
    "\n",
    "# Number of consecutive zeros to be inserted\n",
    "num_zeros = 3\n",
    "\n",
    "# Build a new vector with interleaved zeros\n",
    "new_vector = np.insert(original_vector, np.arange(1, len(original_vector)) * (num_zeros + 1), 0)\n",
    "\n",
    "print(\"Original Vector:\", original_vector)\n",
    "print(\"New Vector with Interleaved Zeros:\", new_vector)\n"
   ]
  },
  {
   "cell_type": "code",
   "execution_count": null,
   "metadata": {},
   "outputs": [],
   "source": []
  },
  {
   "cell_type": "markdown",
   "metadata": {},
   "source": [
    "Save and commit your work"
   ]
  },
  {
   "cell_type": "code",
   "execution_count": 16,
   "metadata": {},
   "outputs": [],
   "source": [
    "import jovian"
   ]
  },
  {
   "cell_type": "code",
   "execution_count": 17,
   "metadata": {},
   "outputs": [
    {
     "data": {
      "application/javascript": [
       "window.require && require([\"base/js/namespace\"],function(Jupyter){Jupyter.notebook.save_checkpoint()})"
      ],
      "text/plain": [
       "<IPython.core.display.Javascript object>"
      ]
     },
     "metadata": {},
     "output_type": "display_data"
    },
    {
     "name": "stdout",
     "output_type": "stream",
     "text": [
      "[jovian] Updating notebook \"rubabaa499/100-numpy-exercises\" on https://jovian.com\u001b[0m\n",
      "[jovian] Committed successfully! https://jovian.com/rubabaa499/100-numpy-exercises\u001b[0m\n"
     ]
    },
    {
     "data": {
      "text/plain": [
       "'https://jovian.com/rubabaa499/100-numpy-exercises'"
      ]
     },
     "execution_count": 17,
     "metadata": {},
     "output_type": "execute_result"
    }
   ],
   "source": [
    "jovian.commit()"
   ]
  },
  {
   "cell_type": "markdown",
   "metadata": {},
   "source": [
    "#### 71. Consider an array of dimension (5,5,3), how to mulitply it by an array with dimensions (5,5)? (★★★)"
   ]
  },
  {
   "cell_type": "code",
   "execution_count": 19,
   "metadata": {},
   "outputs": [
    {
     "name": "stdout",
     "output_type": "stream",
     "text": [
      "3D Array:\n",
      "[[[5 6 8]\n",
      "  [8 1 6]\n",
      "  [9 6 9]\n",
      "  [1 6 2]\n",
      "  [6 8 4]]\n",
      "\n",
      " [[7 7 6]\n",
      "  [5 8 7]\n",
      "  [9 4 7]\n",
      "  [5 7 2]\n",
      "  [3 7 5]]\n",
      "\n",
      " [[2 6 6]\n",
      "  [1 1 1]\n",
      "  [1 8 8]\n",
      "  [7 9 6]\n",
      "  [5 4 2]]\n",
      "\n",
      " [[5 3 1]\n",
      "  [9 6 7]\n",
      "  [5 2 7]\n",
      "  [3 8 5]\n",
      "  [2 7 7]]\n",
      "\n",
      " [[3 5 9]\n",
      "  [3 5 1]\n",
      "  [7 2 9]\n",
      "  [8 2 8]\n",
      "  [3 7 5]]]\n",
      "\n",
      "2D Array:\n",
      "[[3 4 1 9 1]\n",
      " [4 4 7 4 2]\n",
      " [9 4 1 8 6]\n",
      " [1 5 9 1 8]\n",
      " [6 3 9 1 9]]\n",
      "\n",
      "Result (Broadcasted Multiplication):\n",
      "[[[15 18 24]\n",
      "  [32  4 24]\n",
      "  [ 9  6  9]\n",
      "  [ 9 54 18]\n",
      "  [ 6  8  4]]\n",
      "\n",
      " [[28 28 24]\n",
      "  [20 32 28]\n",
      "  [63 28 49]\n",
      "  [20 28  8]\n",
      "  [ 6 14 10]]\n",
      "\n",
      " [[18 54 54]\n",
      "  [ 4  4  4]\n",
      "  [ 1  8  8]\n",
      "  [56 72 48]\n",
      "  [30 24 12]]\n",
      "\n",
      " [[ 5  3  1]\n",
      "  [45 30 35]\n",
      "  [45 18 63]\n",
      "  [ 3  8  5]\n",
      "  [16 56 56]]\n",
      "\n",
      " [[18 30 54]\n",
      "  [ 9 15  3]\n",
      "  [63 18 81]\n",
      "  [ 8  2  8]\n",
      "  [27 63 45]]]\n"
     ]
    }
   ],
   "source": [
    "import numpy as np\n",
    "\n",
    "# Example arrays\n",
    "array_3d = np.random.randint(1, 10, size=(5, 5, 3))\n",
    "array_2d = np.random.randint(1, 10, size=(5, 5))\n",
    "\n",
    "# Multiply the 3D array by the 2D array using broadcasting\n",
    "result = array_3d * array_2d[:, :, np.newaxis]\n",
    "\n",
    "print(\"3D Array:\")\n",
    "print(array_3d)\n",
    "\n",
    "print(\"\\n2D Array:\")\n",
    "print(array_2d)\n",
    "\n",
    "print(\"\\nResult (Broadcasted Multiplication):\")\n",
    "print(result)\n",
    "\n"
   ]
  },
  {
   "cell_type": "markdown",
   "metadata": {},
   "source": [
    "#### 72. How to swap two rows of an array? (★★★)"
   ]
  },
  {
   "cell_type": "code",
   "execution_count": 20,
   "metadata": {},
   "outputs": [
    {
     "name": "stdout",
     "output_type": "stream",
     "text": [
      "[[4 5 6]\n",
      " [4 5 6]\n",
      " [7 8 9]]\n"
     ]
    }
   ],
   "source": [
    "import numpy as np\n",
    "\n",
    "# Example array\n",
    "array = np.array([[1, 2, 3],\n",
    "                  [4, 5, 6],\n",
    "                  [7, 8, 9]])\n",
    "\n",
    "# Swap rows 0 and 1\n",
    "array[0], array[1] = array[1], array[0]\n",
    "\n",
    "print(array)\n"
   ]
  },
  {
   "cell_type": "markdown",
   "metadata": {},
   "source": [
    "#### 73. Consider a set of 10 triplets describing 10 triangles (with shared vertices), find the set of unique line segments composing all the  triangles (★★★)"
   ]
  },
  {
   "cell_type": "code",
   "execution_count": 21,
   "metadata": {},
   "outputs": [
    {
     "name": "stdout",
     "output_type": "stream",
     "text": [
      "Unique Line Segments:\n",
      "(6, 12)\n",
      "(4, 9)\n",
      "(3, 7)\n",
      "(5, 10)\n",
      "(2, 5)\n",
      "(1, 3)\n",
      "(1, 12)\n",
      "(4, 8)\n",
      "(3, 6)\n",
      "(2, 4)\n",
      "(10, 11)\n",
      "(9, 19)\n",
      "(8, 17)\n",
      "(6, 13)\n",
      "(7, 15)\n",
      "(5, 11)\n",
      "(8, 16)\n",
      "(10, 10)\n",
      "(9, 18)\n",
      "(7, 14)\n"
     ]
    }
   ],
   "source": [
    "import numpy as np\n",
    "\n",
    "# Example set of 10 triplets describing triangles (with shared vertices)\n",
    "triplets = np.array([\n",
    "    [1, 2, 3],\n",
    "    [2, 3, 4],\n",
    "    [3, 4, 5],\n",
    "    [4, 5, 6],\n",
    "    [5, 6, 7],\n",
    "    [6, 7, 8],\n",
    "    [7, 8, 9],\n",
    "    [8, 9, 10],\n",
    "    [9, 10, 1],\n",
    "    [10, 1, 2]\n",
    "])\n",
    "\n",
    "# Flatten the triplets to get all unique line segments as pairs of vertices\n",
    "line_segments = set(tuple(sorted(segment)) for triplet in triplets for segment in zip(triplet, triplet[1:] + [triplet[0]]))\n",
    "\n",
    "print(\"Unique Line Segments:\")\n",
    "for segment in line_segments:\n",
    "    print(segment)\n"
   ]
  },
  {
   "cell_type": "markdown",
   "metadata": {},
   "source": [
    "#### 74. Given an array C that is a bincount, how to produce an array A such that np.bincount(A) == C? (★★★)"
   ]
  },
  {
   "cell_type": "code",
   "execution_count": 22,
   "metadata": {},
   "outputs": [
    {
     "name": "stdout",
     "output_type": "stream",
     "text": [
      "Bincount Array C: [0 3 2 0 1]\n",
      "Reconstructed Array A: [1 1 1 2 2 4]\n"
     ]
    }
   ],
   "source": [
    "import numpy as np\n",
    "\n",
    "# Example bincount array C\n",
    "C = np.array([0, 3, 2, 0, 1])\n",
    "\n",
    "# Reconstruct the original array A\n",
    "A = np.repeat(np.arange(len(C)), C)\n",
    "\n",
    "print(\"Bincount Array C:\", C)\n",
    "print(\"Reconstructed Array A:\", A)\n"
   ]
  },
  {
   "cell_type": "markdown",
   "metadata": {},
   "source": [
    "#### 75. How to compute averages using a sliding window over an array? (★★★)"
   ]
  },
  {
   "cell_type": "code",
   "execution_count": 23,
   "metadata": {},
   "outputs": [
    {
     "name": "stdout",
     "output_type": "stream",
     "text": [
      "Original Array: [ 1  2  3  4  5  6  7  8  9 10]\n",
      "Sliding Window Averages: [2. 3. 4. 5. 6. 7. 8. 9.]\n"
     ]
    }
   ],
   "source": [
    "import numpy as np\n",
    "\n",
    "def sliding_window_average(arr, window_size):\n",
    "    window = np.ones(window_size) / window_size\n",
    "    return np.convolve(arr, window, mode='valid')\n",
    "\n",
    "# Example array\n",
    "array = np.array([1, 2, 3, 4, 5, 6, 7, 8, 9, 10])\n",
    "\n",
    "# Sliding window size\n",
    "window_size = 3\n",
    "\n",
    "# Compute sliding window averages\n",
    "averages = sliding_window_average(array, window_size)\n",
    "\n",
    "print(\"Original Array:\", array)\n",
    "print(\"Sliding Window Averages:\", averages)\n"
   ]
  },
  {
   "cell_type": "markdown",
   "metadata": {},
   "source": [
    "#### 76. Consider a one-dimensional array Z, build a two-dimensional array whose first row is (Z[0],Z[1],Z[2]) and each subsequent row is  shifted by 1 (last row should be (Z[-3],Z[-2],Z[-1]) (★★★)"
   ]
  },
  {
   "cell_type": "code",
   "execution_count": 24,
   "metadata": {},
   "outputs": [
    {
     "name": "stdout",
     "output_type": "stream",
     "text": [
      "Original Array Z: [1 2 3 4 5]\n",
      "Resulting Two-dimensional Array:\n",
      "[[1 2 3]\n",
      " [2 3 4]\n",
      " [3 4 5]]\n"
     ]
    }
   ],
   "source": [
    "import numpy as np\n",
    "\n",
    "# Example one-dimensional array Z\n",
    "Z = np.array([1, 2, 3, 4, 5])\n",
    "\n",
    "# Build the two-dimensional array\n",
    "rows = len(Z) - 2\n",
    "result = np.vstack([Z[i:i+3] for i in range(rows)])\n",
    "\n",
    "print(\"Original Array Z:\", Z)\n",
    "print(\"Resulting Two-dimensional Array:\")\n",
    "print(result)\n"
   ]
  },
  {
   "cell_type": "markdown",
   "metadata": {},
   "source": [
    "#### 77. How to negate a boolean, or to change the sign of a float inplace? (★★★)"
   ]
  },
  {
   "cell_type": "code",
   "execution_count": 25,
   "metadata": {},
   "outputs": [
    {
     "name": "stdout",
     "output_type": "stream",
     "text": [
      "False\n"
     ]
    }
   ],
   "source": [
    "# Example boolean variable\n",
    "boolean_var = True\n",
    "\n",
    "# Negate the boolean inplace\n",
    "boolean_var = not boolean_var\n",
    "\n",
    "print(boolean_var)  # Output: False\n"
   ]
  },
  {
   "cell_type": "markdown",
   "metadata": {},
   "source": [
    "#### 78. Consider 2 sets of points P0,P1 describing lines (2d) and a point p, how to compute distance from p to each line i (P0[i],P1[i])? (★★★)"
   ]
  },
  {
   "cell_type": "code",
   "execution_count": 26,
   "metadata": {},
   "outputs": [
    {
     "name": "stdout",
     "output_type": "stream",
     "text": [
      "Distances from p to each line:\n",
      "[0.0, 0.0, 0.0]\n"
     ]
    }
   ],
   "source": [
    "import numpy as np\n",
    "\n",
    "def distance_to_line(P0, P1, p):\n",
    "    x0, y0 = p\n",
    "    x1, y1 = P0\n",
    "    x2, y2 = P1\n",
    "\n",
    "    numerator = abs((x2 - x1) * (y1 - y0) - (x1 - x0) * (y2 - y1))\n",
    "    denominator = np.sqrt((x2 - x1)**2 + (y2 - y1)**2)\n",
    "\n",
    "    return numerator / denominator\n",
    "\n",
    "# Example sets of points P0, P1, and point p\n",
    "P0 = np.array([[1, 2], [3, 4], [5, 6]])  # First point of each line\n",
    "P1 = np.array([[7, 8], [9, 10], [11, 12]])  # Second point of each line\n",
    "p = np.array([13, 14])  # Point p\n",
    "\n",
    "# Compute the distance from p to each line (P0[i], P1[i])\n",
    "distances = [distance_to_line(P0[i], P1[i], p) for i in range(len(P0))]\n",
    "\n",
    "print(\"Distances from p to each line:\")\n",
    "print(distances)\n"
   ]
  },
  {
   "cell_type": "markdown",
   "metadata": {},
   "source": [
    "#### 79. Consider 2 sets of points P0,P1 describing lines (2d) and a set of points P, how to compute distance from each point j (P[j]) to each line i (P0[i],P1[i])? (★★★)"
   ]
  },
  {
   "cell_type": "code",
   "execution_count": 27,
   "metadata": {},
   "outputs": [
    {
     "ename": "ValueError",
     "evalue": "operands could not be broadcast together with shapes (2,3) (3,1) ",
     "output_type": "error",
     "traceback": [
      "\u001b[0;31m---------------------------------------------------------------------------\u001b[0m",
      "\u001b[0;31mValueError\u001b[0m                                Traceback (most recent call last)",
      "\u001b[0;32m/tmp/ipykernel_46/1771393131.py\u001b[0m in \u001b[0;36m<module>\u001b[0;34m\u001b[0m\n\u001b[1;32m     19\u001b[0m \u001b[0;34m\u001b[0m\u001b[0m\n\u001b[1;32m     20\u001b[0m \u001b[0;31m# Compute the distance from each point in P to each line (P0[i], P1[i])\u001b[0m\u001b[0;34m\u001b[0m\u001b[0;34m\u001b[0m\u001b[0m\n\u001b[0;32m---> 21\u001b[0;31m \u001b[0mdistances\u001b[0m \u001b[0;34m=\u001b[0m \u001b[0mdistance_to_lines\u001b[0m\u001b[0;34m(\u001b[0m\u001b[0mP0\u001b[0m\u001b[0;34m,\u001b[0m \u001b[0mP1\u001b[0m\u001b[0;34m,\u001b[0m \u001b[0mP\u001b[0m\u001b[0;34m)\u001b[0m\u001b[0;34m\u001b[0m\u001b[0;34m\u001b[0m\u001b[0m\n\u001b[0m\u001b[1;32m     22\u001b[0m \u001b[0;34m\u001b[0m\u001b[0m\n\u001b[1;32m     23\u001b[0m \u001b[0mprint\u001b[0m\u001b[0;34m(\u001b[0m\u001b[0;34m\"Distances from each point in P to each line:\"\u001b[0m\u001b[0;34m)\u001b[0m\u001b[0;34m\u001b[0m\u001b[0;34m\u001b[0m\u001b[0m\n",
      "\u001b[0;32m/tmp/ipykernel_46/1771393131.py\u001b[0m in \u001b[0;36mdistance_to_lines\u001b[0;34m(P0, P1, P)\u001b[0m\n\u001b[1;32m      9\u001b[0m     \u001b[0mdenominator\u001b[0m \u001b[0;34m=\u001b[0m \u001b[0mnp\u001b[0m\u001b[0;34m.\u001b[0m\u001b[0msqrt\u001b[0m\u001b[0;34m(\u001b[0m\u001b[0;34m(\u001b[0m\u001b[0mx2\u001b[0m \u001b[0;34m-\u001b[0m \u001b[0mx1\u001b[0m\u001b[0;34m)\u001b[0m\u001b[0;34m**\u001b[0m\u001b[0;36m2\u001b[0m \u001b[0;34m+\u001b[0m \u001b[0;34m(\u001b[0m\u001b[0my2\u001b[0m \u001b[0;34m-\u001b[0m \u001b[0my1\u001b[0m\u001b[0;34m)\u001b[0m\u001b[0;34m**\u001b[0m\u001b[0;36m2\u001b[0m\u001b[0;34m)\u001b[0m\u001b[0;34m\u001b[0m\u001b[0;34m\u001b[0m\u001b[0m\n\u001b[1;32m     10\u001b[0m \u001b[0;34m\u001b[0m\u001b[0m\n\u001b[0;32m---> 11\u001b[0;31m     \u001b[0mdistances\u001b[0m \u001b[0;34m=\u001b[0m \u001b[0mnumerator\u001b[0m \u001b[0;34m/\u001b[0m \u001b[0mdenominator\u001b[0m\u001b[0;34m[\u001b[0m\u001b[0;34m:\u001b[0m\u001b[0;34m,\u001b[0m \u001b[0mnp\u001b[0m\u001b[0;34m.\u001b[0m\u001b[0mnewaxis\u001b[0m\u001b[0;34m]\u001b[0m\u001b[0;34m\u001b[0m\u001b[0;34m\u001b[0m\u001b[0m\n\u001b[0m\u001b[1;32m     12\u001b[0m \u001b[0;34m\u001b[0m\u001b[0m\n\u001b[1;32m     13\u001b[0m     \u001b[0;32mreturn\u001b[0m \u001b[0mdistances\u001b[0m\u001b[0;34m\u001b[0m\u001b[0;34m\u001b[0m\u001b[0m\n",
      "\u001b[0;31mValueError\u001b[0m: operands could not be broadcast together with shapes (2,3) (3,1) "
     ]
    }
   ],
   "source": [
    "import numpy as np\n",
    "\n",
    "def distance_to_lines(P0, P1, P):\n",
    "    x0, y0 = P[:, 0], P[:, 1]\n",
    "    x1, y1 = P0[:, 0], P0[:, 1]\n",
    "    x2, y2 = P1[:, 0], P1[:, 1]\n",
    "\n",
    "    numerator = np.abs((x2 - x1) * (y1 - y0[:, np.newaxis]) - (x1 - x0[:, np.newaxis]) * (y2 - y1))\n",
    "    denominator = np.sqrt((x2 - x1)**2 + (y2 - y1)**2)\n",
    "\n",
    "    distances = numerator / denominator[:, np.newaxis]\n",
    "\n",
    "    return distances\n",
    "\n",
    "# Example sets of points P0, P1, and set of points P\n",
    "P0 = np.array([[1, 2], [3, 4], [5, 6]])  # First point of each line\n",
    "P1 = np.array([[7, 8], [9, 10], [11, 12]])  # Second point of each line\n",
    "P = np.array([[13, 14], [15, 16]])  # Set of points P\n",
    "\n",
    "# Compute the distance from each point in P to each line (P0[i], P1[i])\n",
    "distances = distance_to_lines(P0, P1, P)\n",
    "\n",
    "print(\"Distances from each point in P to each line:\")\n",
    "print(distances)\n"
   ]
  },
  {
   "cell_type": "markdown",
   "metadata": {},
   "source": [
    "#### 80. Consider an arbitrary array, write a function that extract a subpart with a fixed shape and centered on a given element (pad with a `fill` value when necessary) (★★★)"
   ]
  },
  {
   "cell_type": "code",
   "execution_count": 28,
   "metadata": {},
   "outputs": [
    {
     "name": "stdout",
     "output_type": "stream",
     "text": [
      "Original Array:\n",
      "[[ 1  2  3  4  5]\n",
      " [ 6  7  8  9 10]\n",
      " [11 12 13 14 15]]\n",
      "\n",
      "Subpart Centered on Element (1, 2):\n",
      "[[ 6  7  8]\n",
      " [11 12 13]\n",
      " [ 0  0  0]]\n"
     ]
    }
   ],
   "source": [
    "import numpy as np\n",
    "\n",
    "def extract_subpart_centered(array, center, subpart_shape, fill_value=0):\n",
    "    center_x, center_y = center\n",
    "    subpart_height, subpart_width = subpart_shape\n",
    "    array_height, array_width = array.shape\n",
    "\n",
    "    start_x = max(center_x - subpart_width // 2, 0)\n",
    "    start_y = max(center_y - subpart_height // 2, 0)\n",
    "    end_x = min(start_x + subpart_width, array_width)\n",
    "    end_y = min(start_y + subpart_height, array_height)\n",
    "\n",
    "    subpart = np.full(subpart_shape, fill_value)\n",
    "    subpart_start_x = max(subpart_width // 2 - center_x, 0)\n",
    "    subpart_start_y = max(subpart_height // 2 - center_y, 0)\n",
    "    subpart_end_x = subpart_start_x + (end_x - start_x)\n",
    "    subpart_end_y = subpart_start_y + (end_y - start_y)\n",
    "\n",
    "    subpart[subpart_start_y:subpart_end_y, subpart_start_x:subpart_end_x] = array[start_y:end_y, start_x:end_x]\n",
    "\n",
    "    return subpart\n",
    "\n",
    "# Example array\n",
    "array = np.array([[1, 2, 3, 4, 5],\n",
    "                  [6, 7, 8, 9, 10],\n",
    "                  [11, 12, 13, 14, 15]])\n",
    "\n",
    "# Centered element and subpart shape\n",
    "center = (1, 2)\n",
    "subpart_shape = (3, 3)\n",
    "\n",
    "# Extract subpart centered on the given element with padding\n",
    "subpart = extract_subpart_centered(array, center, subpart_shape, fill_value=0)\n",
    "\n",
    "print(\"Original Array:\")\n",
    "print(array)\n",
    "\n",
    "print(\"\\nSubpart Centered on Element (1, 2):\")\n",
    "print(subpart)\n"
   ]
  },
  {
   "cell_type": "markdown",
   "metadata": {},
   "source": [
    "Save and commit your work."
   ]
  },
  {
   "cell_type": "code",
   "execution_count": 29,
   "metadata": {},
   "outputs": [],
   "source": [
    "import jovian"
   ]
  },
  {
   "cell_type": "code",
   "execution_count": 30,
   "metadata": {},
   "outputs": [
    {
     "data": {
      "application/javascript": [
       "window.require && require([\"base/js/namespace\"],function(Jupyter){Jupyter.notebook.save_checkpoint()})"
      ],
      "text/plain": [
       "<IPython.core.display.Javascript object>"
      ]
     },
     "metadata": {},
     "output_type": "display_data"
    },
    {
     "name": "stdout",
     "output_type": "stream",
     "text": [
      "[jovian] Updating notebook \"rubabaa499/100-numpy-exercises\" on https://jovian.com\u001b[0m\n",
      "[jovian] Committed successfully! https://jovian.com/rubabaa499/100-numpy-exercises\u001b[0m\n"
     ]
    },
    {
     "data": {
      "text/plain": [
       "'https://jovian.com/rubabaa499/100-numpy-exercises'"
      ]
     },
     "execution_count": 30,
     "metadata": {},
     "output_type": "execute_result"
    }
   ],
   "source": [
    "jovian.commit()"
   ]
  },
  {
   "cell_type": "markdown",
   "metadata": {},
   "source": [
    "#### 81. Consider an array Z = [1,2,3,4,5,6,7,8,9,10,11,12,13,14], how to generate an array R = [[1,2,3,4], [2,3,4,5], [3,4,5,6], ..., [11,12,13,14]]? (★★★)"
   ]
  },
  {
   "cell_type": "code",
   "execution_count": 31,
   "metadata": {},
   "outputs": [
    {
     "name": "stdout",
     "output_type": "stream",
     "text": [
      "Array Z: [ 1  2  3  4  5  6  7  8  9 10 11 12 13 14]\n",
      "Array R:\n",
      "[[ 1  2  3  4]\n",
      " [ 2  3  4  5]\n",
      " [ 3  4  5  6]\n",
      " [ 4  5  6  7]\n",
      " [ 5  6  7  8]\n",
      " [ 6  7  8  9]\n",
      " [ 7  8  9 10]\n",
      " [ 8  9 10 11]\n",
      " [ 9 10 11 12]\n",
      " [10 11 12 13]\n",
      " [11 12 13 14]]\n"
     ]
    }
   ],
   "source": [
    "import numpy as np\n",
    "\n",
    "# Given array Z\n",
    "Z = np.array([1, 2, 3, 4, 5, 6, 7, 8, 9, 10, 11, 12, 13, 14])\n",
    "\n",
    "# Number of rows and columns for array R\n",
    "num_rows = len(Z) - 3\n",
    "num_cols = 4\n",
    "\n",
    "# Generate array R\n",
    "R = Z[np.arange(num_rows)[:, np.newaxis] + np.arange(num_cols)]\n",
    "\n",
    "print(\"Array Z:\", Z)\n",
    "print(\"Array R:\")\n",
    "print(R)\n"
   ]
  },
  {
   "cell_type": "markdown",
   "metadata": {},
   "source": [
    "#### 82. Compute a matrix rank (★★★)"
   ]
  },
  {
   "cell_type": "code",
   "execution_count": 32,
   "metadata": {},
   "outputs": [
    {
     "name": "stdout",
     "output_type": "stream",
     "text": [
      "Matrix:\n",
      "[[1 2 3]\n",
      " [4 5 6]\n",
      " [7 8 9]]\n",
      "Rank of the matrix: 2\n"
     ]
    }
   ],
   "source": [
    "import numpy as np\n",
    "\n",
    "# Example matrix\n",
    "matrix = np.array([[1, 2, 3],\n",
    "                   [4, 5, 6],\n",
    "                   [7, 8, 9]])\n",
    "\n",
    "# Compute the rank of the matrix\n",
    "rank = np.linalg.matrix_rank(matrix)\n",
    "\n",
    "print(\"Matrix:\")\n",
    "print(matrix)\n",
    "print(\"Rank of the matrix:\", rank)\n"
   ]
  },
  {
   "cell_type": "markdown",
   "metadata": {},
   "source": [
    "#### 83. How to find the most frequent value in an array?"
   ]
  },
  {
   "cell_type": "code",
   "execution_count": 33,
   "metadata": {},
   "outputs": [
    {
     "name": "stdout",
     "output_type": "stream",
     "text": [
      "Array: [1 2 3 2 4 2 5 2 6 1 2]\n",
      "Most frequent value: 2\n"
     ]
    }
   ],
   "source": [
    "import numpy as np\n",
    "\n",
    "# Example array\n",
    "array = np.array([1, 2, 3, 2, 4, 2, 5, 2, 6, 1, 2])\n",
    "\n",
    "# Find the most frequent value\n",
    "most_frequent_value = np.argmax(np.bincount(array))\n",
    "\n",
    "print(\"Array:\", array)\n",
    "print(\"Most frequent value:\", most_frequent_value)\n"
   ]
  },
  {
   "cell_type": "markdown",
   "metadata": {},
   "source": [
    "#### 84. Extract all the contiguous 3x3 blocks from a random 10x10 matrix (★★★)"
   ]
  },
  {
   "cell_type": "code",
   "execution_count": 34,
   "metadata": {},
   "outputs": [
    {
     "name": "stdout",
     "output_type": "stream",
     "text": [
      "Original 10x10 Matrix:\n",
      "[[13 85 64  9 77 72 93 17 79 93]\n",
      " [51 90 11 87 37 54 88 25 42 36]\n",
      " [ 2 95  8 90 52 20 84 28 34 34]\n",
      " [21 27 28 10 88 36 83 27 46 16]\n",
      " [37 48 47 44 48 78 38 33 73 72]\n",
      " [71 52 36 94 40 26 44 23 81 61]\n",
      " [86 28 30 85 47 95 36 17 29 80]\n",
      " [35 70 66 36 53 62 63 37 57 41]\n",
      " [61  3  5  8 32  5 68 77 40 68]\n",
      " [81 62 23 15 37 29 45 46 75 68]]\n",
      "\n",
      "Extracted 3x3 Blocks:\n",
      "Block 1:\n",
      "[[13 85 64]\n",
      " [51 90 11]\n",
      " [ 2 95  8]]\n",
      "\n",
      "Block 2:\n",
      "[[85 64  9]\n",
      " [90 11 87]\n",
      " [95  8 90]]\n",
      "\n",
      "Block 3:\n",
      "[[64  9 77]\n",
      " [11 87 37]\n",
      " [ 8 90 52]]\n",
      "\n",
      "Block 4:\n",
      "[[ 9 77 72]\n",
      " [87 37 54]\n",
      " [90 52 20]]\n",
      "\n",
      "Block 5:\n",
      "[[77 72 93]\n",
      " [37 54 88]\n",
      " [52 20 84]]\n",
      "\n",
      "Block 6:\n",
      "[[72 93 17]\n",
      " [54 88 25]\n",
      " [20 84 28]]\n",
      "\n",
      "Block 7:\n",
      "[[93 17 79]\n",
      " [88 25 42]\n",
      " [84 28 34]]\n",
      "\n",
      "Block 8:\n",
      "[[17 79 93]\n",
      " [25 42 36]\n",
      " [28 34 34]]\n",
      "\n",
      "Block 9:\n",
      "[[51 90 11]\n",
      " [ 2 95  8]\n",
      " [21 27 28]]\n",
      "\n",
      "Block 10:\n",
      "[[90 11 87]\n",
      " [95  8 90]\n",
      " [27 28 10]]\n",
      "\n",
      "Block 11:\n",
      "[[11 87 37]\n",
      " [ 8 90 52]\n",
      " [28 10 88]]\n",
      "\n",
      "Block 12:\n",
      "[[87 37 54]\n",
      " [90 52 20]\n",
      " [10 88 36]]\n",
      "\n",
      "Block 13:\n",
      "[[37 54 88]\n",
      " [52 20 84]\n",
      " [88 36 83]]\n",
      "\n",
      "Block 14:\n",
      "[[54 88 25]\n",
      " [20 84 28]\n",
      " [36 83 27]]\n",
      "\n",
      "Block 15:\n",
      "[[88 25 42]\n",
      " [84 28 34]\n",
      " [83 27 46]]\n",
      "\n",
      "Block 16:\n",
      "[[25 42 36]\n",
      " [28 34 34]\n",
      " [27 46 16]]\n",
      "\n",
      "Block 17:\n",
      "[[ 2 95  8]\n",
      " [21 27 28]\n",
      " [37 48 47]]\n",
      "\n",
      "Block 18:\n",
      "[[95  8 90]\n",
      " [27 28 10]\n",
      " [48 47 44]]\n",
      "\n",
      "Block 19:\n",
      "[[ 8 90 52]\n",
      " [28 10 88]\n",
      " [47 44 48]]\n",
      "\n",
      "Block 20:\n",
      "[[90 52 20]\n",
      " [10 88 36]\n",
      " [44 48 78]]\n",
      "\n",
      "Block 21:\n",
      "[[52 20 84]\n",
      " [88 36 83]\n",
      " [48 78 38]]\n",
      "\n",
      "Block 22:\n",
      "[[20 84 28]\n",
      " [36 83 27]\n",
      " [78 38 33]]\n",
      "\n",
      "Block 23:\n",
      "[[84 28 34]\n",
      " [83 27 46]\n",
      " [38 33 73]]\n",
      "\n",
      "Block 24:\n",
      "[[28 34 34]\n",
      " [27 46 16]\n",
      " [33 73 72]]\n",
      "\n",
      "Block 25:\n",
      "[[21 27 28]\n",
      " [37 48 47]\n",
      " [71 52 36]]\n",
      "\n",
      "Block 26:\n",
      "[[27 28 10]\n",
      " [48 47 44]\n",
      " [52 36 94]]\n",
      "\n",
      "Block 27:\n",
      "[[28 10 88]\n",
      " [47 44 48]\n",
      " [36 94 40]]\n",
      "\n",
      "Block 28:\n",
      "[[10 88 36]\n",
      " [44 48 78]\n",
      " [94 40 26]]\n",
      "\n",
      "Block 29:\n",
      "[[88 36 83]\n",
      " [48 78 38]\n",
      " [40 26 44]]\n",
      "\n",
      "Block 30:\n",
      "[[36 83 27]\n",
      " [78 38 33]\n",
      " [26 44 23]]\n",
      "\n",
      "Block 31:\n",
      "[[83 27 46]\n",
      " [38 33 73]\n",
      " [44 23 81]]\n",
      "\n",
      "Block 32:\n",
      "[[27 46 16]\n",
      " [33 73 72]\n",
      " [23 81 61]]\n",
      "\n",
      "Block 33:\n",
      "[[37 48 47]\n",
      " [71 52 36]\n",
      " [86 28 30]]\n",
      "\n",
      "Block 34:\n",
      "[[48 47 44]\n",
      " [52 36 94]\n",
      " [28 30 85]]\n",
      "\n",
      "Block 35:\n",
      "[[47 44 48]\n",
      " [36 94 40]\n",
      " [30 85 47]]\n",
      "\n",
      "Block 36:\n",
      "[[44 48 78]\n",
      " [94 40 26]\n",
      " [85 47 95]]\n",
      "\n",
      "Block 37:\n",
      "[[48 78 38]\n",
      " [40 26 44]\n",
      " [47 95 36]]\n",
      "\n",
      "Block 38:\n",
      "[[78 38 33]\n",
      " [26 44 23]\n",
      " [95 36 17]]\n",
      "\n",
      "Block 39:\n",
      "[[38 33 73]\n",
      " [44 23 81]\n",
      " [36 17 29]]\n",
      "\n",
      "Block 40:\n",
      "[[33 73 72]\n",
      " [23 81 61]\n",
      " [17 29 80]]\n",
      "\n",
      "Block 41:\n",
      "[[71 52 36]\n",
      " [86 28 30]\n",
      " [35 70 66]]\n",
      "\n",
      "Block 42:\n",
      "[[52 36 94]\n",
      " [28 30 85]\n",
      " [70 66 36]]\n",
      "\n",
      "Block 43:\n",
      "[[36 94 40]\n",
      " [30 85 47]\n",
      " [66 36 53]]\n",
      "\n",
      "Block 44:\n",
      "[[94 40 26]\n",
      " [85 47 95]\n",
      " [36 53 62]]\n",
      "\n",
      "Block 45:\n",
      "[[40 26 44]\n",
      " [47 95 36]\n",
      " [53 62 63]]\n",
      "\n",
      "Block 46:\n",
      "[[26 44 23]\n",
      " [95 36 17]\n",
      " [62 63 37]]\n",
      "\n",
      "Block 47:\n",
      "[[44 23 81]\n",
      " [36 17 29]\n",
      " [63 37 57]]\n",
      "\n",
      "Block 48:\n",
      "[[23 81 61]\n",
      " [17 29 80]\n",
      " [37 57 41]]\n",
      "\n",
      "Block 49:\n",
      "[[86 28 30]\n",
      " [35 70 66]\n",
      " [61  3  5]]\n",
      "\n",
      "Block 50:\n",
      "[[28 30 85]\n",
      " [70 66 36]\n",
      " [ 3  5  8]]\n",
      "\n",
      "Block 51:\n",
      "[[30 85 47]\n",
      " [66 36 53]\n",
      " [ 5  8 32]]\n",
      "\n",
      "Block 52:\n",
      "[[85 47 95]\n",
      " [36 53 62]\n",
      " [ 8 32  5]]\n",
      "\n",
      "Block 53:\n",
      "[[47 95 36]\n",
      " [53 62 63]\n",
      " [32  5 68]]\n",
      "\n",
      "Block 54:\n",
      "[[95 36 17]\n",
      " [62 63 37]\n",
      " [ 5 68 77]]\n",
      "\n",
      "Block 55:\n",
      "[[36 17 29]\n",
      " [63 37 57]\n",
      " [68 77 40]]\n",
      "\n",
      "Block 56:\n",
      "[[17 29 80]\n",
      " [37 57 41]\n",
      " [77 40 68]]\n",
      "\n",
      "Block 57:\n",
      "[[35 70 66]\n",
      " [61  3  5]\n",
      " [81 62 23]]\n",
      "\n",
      "Block 58:\n",
      "[[70 66 36]\n",
      " [ 3  5  8]\n",
      " [62 23 15]]\n",
      "\n",
      "Block 59:\n",
      "[[66 36 53]\n",
      " [ 5  8 32]\n",
      " [23 15 37]]\n",
      "\n",
      "Block 60:\n",
      "[[36 53 62]\n",
      " [ 8 32  5]\n",
      " [15 37 29]]\n",
      "\n",
      "Block 61:\n",
      "[[53 62 63]\n",
      " [32  5 68]\n",
      " [37 29 45]]\n",
      "\n",
      "Block 62:\n",
      "[[62 63 37]\n",
      " [ 5 68 77]\n",
      " [29 45 46]]\n",
      "\n",
      "Block 63:\n",
      "[[63 37 57]\n",
      " [68 77 40]\n",
      " [45 46 75]]\n",
      "\n",
      "Block 64:\n",
      "[[37 57 41]\n",
      " [77 40 68]\n",
      " [46 75 68]]\n",
      "\n"
     ]
    }
   ],
   "source": [
    "import numpy as np\n",
    "\n",
    "# Create a random 10x10 matrix\n",
    "matrix = np.random.randint(1, 100, size=(10, 10))\n",
    "\n",
    "# Extract all the contiguous 3x3 blocks\n",
    "blocks = []\n",
    "for i in range(8):  # Loop over rows\n",
    "    for j in range(8):  # Loop over columns\n",
    "        block = matrix[i:i+3, j:j+3]\n",
    "        blocks.append(block)\n",
    "\n",
    "# Convert the list of blocks into a 3D array\n",
    "blocks_array = np.array(blocks)\n",
    "\n",
    "# Print the original matrix and the extracted blocks\n",
    "print(\"Original 10x10 Matrix:\")\n",
    "print(matrix)\n",
    "\n",
    "print(\"\\nExtracted 3x3 Blocks:\")\n",
    "for i, block in enumerate(blocks_array):\n",
    "    print(f\"Block {i + 1}:\\n{block}\\n\")\n"
   ]
  },
  {
   "cell_type": "markdown",
   "metadata": {},
   "source": [
    "#### 85. Create a 2D array subclass such that Z[i,j] == Z[j,i] (★★★)"
   ]
  },
  {
   "cell_type": "code",
   "execution_count": 35,
   "metadata": {},
   "outputs": [
    {
     "name": "stdout",
     "output_type": "stream",
     "text": [
      "Original 2D Array:\n",
      "[[1 2 3]\n",
      " [4 5 6]\n",
      " [7 8 9]]\n",
      "\n",
      "Symmetric Array:\n",
      "[[1 2 3]\n",
      " [2 5 6]\n",
      " [3 6 9]]\n",
      "\n",
      "Symmetric Property (Z[i,j] == Z[j,i]):\n",
      "True\n",
      "True\n"
     ]
    }
   ],
   "source": [
    "import numpy as np\n",
    "\n",
    "class SymmetricArray(np.ndarray):\n",
    "    def __new__(cls, input_array):\n",
    "        obj = np.asarray(input_array).view(cls)\n",
    "        return obj\n",
    "\n",
    "    def __getitem__(self, index):\n",
    "        i, j = index\n",
    "        return super(SymmetricArray, self).__getitem__((i, j)) if i <= j else super(SymmetricArray, self).__getitem__((j, i))\n",
    "\n",
    "# Example 2D array\n",
    "array = np.array([[1, 2, 3],\n",
    "                  [4, 5, 6],\n",
    "                  [7, 8, 9]])\n",
    "\n",
    "# Create a SymmetricArray from the example array\n",
    "symmetric_array = SymmetricArray(array)\n",
    "\n",
    "# Test indexing\n",
    "print(\"Original 2D Array:\")\n",
    "print(array)\n",
    "\n",
    "print(\"\\nSymmetric Array:\")\n",
    "print(symmetric_array)\n",
    "\n",
    "# Test symmetry property\n",
    "print(\"\\nSymmetric Property (Z[i,j] == Z[j,i]):\")\n",
    "print(symmetric_array[0, 1] == symmetric_array[1, 0])  # True\n",
    "print(symmetric_array[1, 2] == symmetric_array[2, 1])  # True\n"
   ]
  },
  {
   "cell_type": "markdown",
   "metadata": {},
   "source": [
    "#### 86. Consider a set of p matrices wich shape (n,n) and a set of p vectors with shape (n,1). How to compute the sum of of the p matrix products at once? (result has shape (n,1)) (★★★)"
   ]
  },
  {
   "cell_type": "code",
   "execution_count": 36,
   "metadata": {},
   "outputs": [
    {
     "ename": "ValueError",
     "evalue": "operands could not be broadcast together with remapped shapes [original->remapped]: (3,4,4)->(3,4,4) (3,4,1)->(4,1,3) ",
     "output_type": "error",
     "traceback": [
      "\u001b[0;31m---------------------------------------------------------------------------\u001b[0m",
      "\u001b[0;31mValueError\u001b[0m                                Traceback (most recent call last)",
      "\u001b[0;32m/tmp/ipykernel_46/1907120014.py\u001b[0m in \u001b[0;36m<module>\u001b[0;34m\u001b[0m\n\u001b[1;32m     10\u001b[0m \u001b[0;34m\u001b[0m\u001b[0m\n\u001b[1;32m     11\u001b[0m \u001b[0;31m# Compute the sum of p matrix products at once\u001b[0m\u001b[0;34m\u001b[0m\u001b[0;34m\u001b[0m\u001b[0m\n\u001b[0;32m---> 12\u001b[0;31m \u001b[0mresult\u001b[0m \u001b[0;34m=\u001b[0m \u001b[0mnp\u001b[0m\u001b[0;34m.\u001b[0m\u001b[0meinsum\u001b[0m\u001b[0;34m(\u001b[0m\u001b[0;34m'ijk,jik->ik'\u001b[0m\u001b[0;34m,\u001b[0m \u001b[0mmatrices\u001b[0m\u001b[0;34m,\u001b[0m \u001b[0mvectors\u001b[0m\u001b[0;34m)\u001b[0m\u001b[0;34m\u001b[0m\u001b[0;34m\u001b[0m\u001b[0m\n\u001b[0m\u001b[1;32m     13\u001b[0m \u001b[0;34m\u001b[0m\u001b[0m\n\u001b[1;32m     14\u001b[0m \u001b[0mprint\u001b[0m\u001b[0;34m(\u001b[0m\u001b[0;34m\"Matrices:\"\u001b[0m\u001b[0;34m)\u001b[0m\u001b[0;34m\u001b[0m\u001b[0;34m\u001b[0m\u001b[0m\n",
      "\u001b[0;32m<__array_function__ internals>\u001b[0m in \u001b[0;36meinsum\u001b[0;34m(*args, **kwargs)\u001b[0m\n",
      "\u001b[0;32m/opt/conda/lib/python3.9/site-packages/numpy/core/einsumfunc.py\u001b[0m in \u001b[0;36meinsum\u001b[0;34m(out, optimize, *operands, **kwargs)\u001b[0m\n\u001b[1;32m   1359\u001b[0m         \u001b[0;32mif\u001b[0m \u001b[0mspecified_out\u001b[0m\u001b[0;34m:\u001b[0m\u001b[0;34m\u001b[0m\u001b[0;34m\u001b[0m\u001b[0m\n\u001b[1;32m   1360\u001b[0m             \u001b[0mkwargs\u001b[0m\u001b[0;34m[\u001b[0m\u001b[0;34m'out'\u001b[0m\u001b[0;34m]\u001b[0m \u001b[0;34m=\u001b[0m \u001b[0mout\u001b[0m\u001b[0;34m\u001b[0m\u001b[0;34m\u001b[0m\u001b[0m\n\u001b[0;32m-> 1361\u001b[0;31m         \u001b[0;32mreturn\u001b[0m \u001b[0mc_einsum\u001b[0m\u001b[0;34m(\u001b[0m\u001b[0;34m*\u001b[0m\u001b[0moperands\u001b[0m\u001b[0;34m,\u001b[0m \u001b[0;34m**\u001b[0m\u001b[0mkwargs\u001b[0m\u001b[0;34m)\u001b[0m\u001b[0;34m\u001b[0m\u001b[0;34m\u001b[0m\u001b[0m\n\u001b[0m\u001b[1;32m   1362\u001b[0m \u001b[0;34m\u001b[0m\u001b[0m\n\u001b[1;32m   1363\u001b[0m     \u001b[0;31m# Check the kwargs to avoid a more cryptic error later, without having to\u001b[0m\u001b[0;34m\u001b[0m\u001b[0;34m\u001b[0m\u001b[0m\n",
      "\u001b[0;31mValueError\u001b[0m: operands could not be broadcast together with remapped shapes [original->remapped]: (3,4,4)->(3,4,4) (3,4,1)->(4,1,3) "
     ]
    }
   ],
   "source": [
    "import numpy as np\n",
    "\n",
    "# Example: p matrices with shape (n, n)\n",
    "p = 3\n",
    "n = 4\n",
    "matrices = [np.random.rand(n, n) for _ in range(p)]\n",
    "\n",
    "# Example: p vectors with shape (n, 1)\n",
    "vectors = [np.random.rand(n, 1) for _ in range(p)]\n",
    "\n",
    "# Compute the sum of p matrix products at once\n",
    "result = np.einsum('ijk,jik->ik', matrices, vectors)\n",
    "\n",
    "print(\"Matrices:\")\n",
    "for i, matrix in enumerate(matrices):\n",
    "    print(f\"Matrix {i + 1}:\")\n",
    "    print(matrix)\n",
    "    print()\n",
    "\n",
    "print(\"Vectors:\")\n",
    "for i, vector in enumerate(vectors):\n",
    "    print(f\"Vector {i + 1}:\")\n",
    "    print(vector)\n",
    "    print()\n",
    "\n",
    "print(\"Sum of Matrix Products:\")\n",
    "print(result)\n"
   ]
  },
  {
   "cell_type": "markdown",
   "metadata": {},
   "source": [
    "#### 87. Consider a 16x16 array, how to get the block-sum (block size is 4x4)? (★★★)"
   ]
  },
  {
   "cell_type": "code",
   "execution_count": 37,
   "metadata": {},
   "outputs": [
    {
     "name": "stdout",
     "output_type": "stream",
     "text": [
      "Original 16x16 Array:\n",
      "[[8 3 5 1 9 2 6 4 1 9 8 6 7 3 1 4]\n",
      " [9 9 3 4 9 8 3 3 8 7 3 2 6 2 2 9]\n",
      " [1 6 9 7 7 7 5 7 9 9 6 5 6 6 1 5]\n",
      " [8 8 9 4 4 2 2 8 3 9 4 8 8 4 3 7]\n",
      " [6 3 4 8 6 7 1 8 7 8 7 9 9 7 5 1]\n",
      " [8 7 7 4 4 9 2 1 1 4 2 3 2 5 4 8]\n",
      " [9 4 1 7 1 3 7 6 8 2 1 5 5 6 5 4]\n",
      " [2 6 9 3 7 9 6 9 7 2 7 8 2 6 5 2]\n",
      " [1 8 9 8 3 2 8 2 9 7 9 5 7 6 8 1]\n",
      " [3 8 7 4 8 9 2 5 7 4 9 1 9 6 1 2]\n",
      " [6 5 3 3 7 2 8 8 4 8 7 4 1 4 2 4]\n",
      " [5 1 5 3 8 8 1 8 7 9 3 8 5 6 9 6]\n",
      " [5 2 3 8 9 4 5 5 2 5 1 7 7 4 2 1]\n",
      " [2 4 3 9 5 1 2 3 1 2 4 3 2 9 3 6]\n",
      " [4 1 5 7 3 2 1 4 5 2 5 5 4 6 9 4]\n",
      " [6 1 3 5 6 9 6 9 3 6 8 9 2 9 7 3]]\n",
      "\n",
      "Block-Sum (Block Size 4x4):\n",
      "[[77 87 96 91]\n",
      " [96 71 74 90]\n",
      " [93 85 76 92]\n",
      " [70 59 67 92]]\n"
     ]
    }
   ],
   "source": [
    "import numpy as np\n",
    "\n",
    "# Example 16x16 array\n",
    "array = np.random.randint(1, 10, size=(16, 16))\n",
    "\n",
    "# Define the block size\n",
    "block_size = 4\n",
    "\n",
    "# Calculate the number of blocks in each dimension\n",
    "num_blocks = array.shape[0] // block_size\n",
    "\n",
    "# Reshape the array into blocks of size (num_blocks, num_blocks, block_size, block_size)\n",
    "blocks = array.reshape(num_blocks, block_size, num_blocks, block_size)\n",
    "\n",
    "# Sum the blocks along the last two dimensions to get the block-sum\n",
    "block_sum = np.sum(blocks, axis=(2, 3))\n",
    "\n",
    "print(\"Original 16x16 Array:\")\n",
    "print(array)\n",
    "\n",
    "print(\"\\nBlock-Sum (Block Size 4x4):\")\n",
    "print(block_sum)\n"
   ]
  },
  {
   "cell_type": "markdown",
   "metadata": {},
   "source": [
    "#### 88. How to implement the Game of Life using numpy arrays? (★★★)"
   ]
  },
  {
   "cell_type": "code",
   "execution_count": 38,
   "metadata": {},
   "outputs": [
    {
     "data": {
      "image/png": "[encoded data removed]",
      "text/plain": [
       "<Figure size 432x288 with 1 Axes>"
      ]
     },
     "metadata": {
      "needs_background": "light"
     },
     "output_type": "display_data"
    }
   ],
   "source": [
    "import numpy as np\n",
    "import matplotlib.pyplot as plt\n",
    "import matplotlib.animation as animation\n",
    "\n",
    "def random_initial_state(shape):\n",
    "    return np.random.choice([0, 1], shape)\n",
    "\n",
    "def compute_next_generation(grid):\n",
    "    neighbor_count = (\n",
    "        np.roll(grid, (1, 1), (0, 1)) +\n",
    "        np.roll(grid, (1, 0), (0, 1)) +\n",
    "        np.roll(grid, (1, -1), (0, 1)) +\n",
    "        np.roll(grid, (0, 1), (0, 1)) +\n",
    "        np.roll(grid, (0, -1), (0, 1)) +\n",
    "        np.roll(grid, (-1, 1), (0, 1)) +\n",
    "        np.roll(grid, (-1, 0), (0, 1)) +\n",
    "        np.roll(grid, (-1, -1), (0, 1))\n",
    "    )\n",
    "    next_grid = np.zeros_like(grid)\n",
    "    next_grid[(grid == 1) & ((neighbor_count == 2) | (neighbor_count == 3))] = 1\n",
    "    next_grid[(grid == 0) & (neighbor_count == 3)] = 1\n",
    "    return next_grid\n",
    "\n",
    "def update(frame):\n",
    "    global grid\n",
    "    grid = compute_next_generation(grid)\n",
    "    img.set_array(grid)\n",
    "    return img,\n",
    "\n",
    "# Set the size of the grid\n",
    "grid_shape = (50, 50)\n",
    "\n",
    "# Create the initial state of the grid\n",
    "grid = random_initial_state(grid_shape)\n",
    "\n",
    "# Set up the plot\n",
    "fig, ax = plt.subplots()\n",
    "img = ax.imshow(grid, interpolation='nearest', cmap='gray')\n",
    "plt.axis('off')\n",
    "\n",
    "# Animate the Game of Life\n",
    "ani = animation.FuncAnimation(fig, update, frames=100, interval=200, blit=True)\n",
    "plt.show()\n"
   ]
  },
  {
   "cell_type": "markdown",
   "metadata": {},
   "source": [
    "#### 89. How to get the n largest values of an array (★★★)"
   ]
  },
  {
   "cell_type": "code",
   "execution_count": 39,
   "metadata": {},
   "outputs": [
    {
     "name": "stdout",
     "output_type": "stream",
     "text": [
      "Array: [4 2 9 1 7 5 6 8 3]\n",
      "N Largest Values: [7 8 9]\n"
     ]
    }
   ],
   "source": [
    "import numpy as np\n",
    "\n",
    "# Example array\n",
    "arr = np.array([4, 2, 9, 1, 7, 5, 6, 8, 3])\n",
    "\n",
    "# Specify the number of largest values you want to get\n",
    "n = 3\n",
    "\n",
    "# Get the n largest values\n",
    "n_largest_values = np.partition(arr, -n)[-n:]\n",
    "\n",
    "print(\"Array:\", arr)\n",
    "print(\"N Largest Values:\", n_largest_values)\n"
   ]
  },
  {
   "cell_type": "markdown",
   "metadata": {},
   "source": [
    "#### 90. Given an arbitrary number of vectors, build the cartesian product (every combinations of every item) (★★★)"
   ]
  },
  {
   "cell_type": "code",
   "execution_count": 40,
   "metadata": {},
   "outputs": [
    {
     "name": "stdout",
     "output_type": "stream",
     "text": [
      "Vector 1: [1, 2]\n",
      "Vector 2: ['A', 'B', 'C']\n",
      "Vector 3: [10, 20, 30]\n",
      "\n",
      "Cartesian Product:\n",
      "[(1, 'A', 10), (1, 'A', 20), (1, 'A', 30), (1, 'B', 10), (1, 'B', 20), (1, 'B', 30), (1, 'C', 10), (1, 'C', 20), (1, 'C', 30), (2, 'A', 10), (2, 'A', 20), (2, 'A', 30), (2, 'B', 10), (2, 'B', 20), (2, 'B', 30), (2, 'C', 10), (2, 'C', 20), (2, 'C', 30)]\n"
     ]
    }
   ],
   "source": [
    "from itertools import product\n",
    "\n",
    "# Example vectors\n",
    "vector1 = [1, 2]\n",
    "vector2 = ['A', 'B', 'C']\n",
    "vector3 = [10, 20, 30]\n",
    "\n",
    "# Build the Cartesian product\n",
    "cartesian_product = list(product(vector1, vector2, vector3))\n",
    "\n",
    "print(\"Vector 1:\", vector1)\n",
    "print(\"Vector 2:\", vector2)\n",
    "print(\"Vector 3:\", vector3)\n",
    "print(\"\\nCartesian Product:\")\n",
    "print(cartesian_product)\n"
   ]
  },
  {
   "cell_type": "markdown",
   "metadata": {},
   "source": [
    "Save and commit your work"
   ]
  },
  {
   "cell_type": "code",
   "execution_count": 41,
   "metadata": {},
   "outputs": [],
   "source": [
    "import jovian"
   ]
  },
  {
   "cell_type": "code",
   "execution_count": 42,
   "metadata": {},
   "outputs": [
    {
     "data": {
      "application/javascript": [
       "window.require && require([\"base/js/namespace\"],function(Jupyter){Jupyter.notebook.save_checkpoint()})"
      ],
      "text/plain": [
       "<IPython.core.display.Javascript object>"
      ]
     },
     "metadata": {},
     "output_type": "display_data"
    },
    {
     "name": "stdout",
     "output_type": "stream",
     "text": [
      "[jovian] Updating notebook \"rubabaa499/100-numpy-exercises\" on https://jovian.com\u001b[0m\n",
      "[jovian] Committed successfully! https://jovian.com/rubabaa499/100-numpy-exercises\u001b[0m\n"
     ]
    },
    {
     "data": {
      "text/plain": [
       "'https://jovian.com/rubabaa499/100-numpy-exercises'"
      ]
     },
     "execution_count": 42,
     "metadata": {},
     "output_type": "execute_result"
    }
   ],
   "source": [
    "jovian.commit()"
   ]
  },
  {
   "cell_type": "markdown",
   "metadata": {},
   "source": [
    "#### 91. How to create a record array from a regular array? (★★★)"
   ]
  },
  {
   "cell_type": "code",
   "execution_count": 43,
   "metadata": {},
   "outputs": [
    {
     "name": "stdout",
     "output_type": "stream",
     "text": [
      "Regular Array:\n",
      "[['1' 'John' '25']\n",
      " ['2' 'Alice' '30']\n",
      " ['3' 'Bob' '22']]\n",
      "\n",
      "Record Array:\n",
      "[('1', 'John', '25') ('2', 'Alice', '30') ('3', 'Bob', '22')]\n"
     ]
    }
   ],
   "source": [
    "import numpy as np\n",
    "\n",
    "# Regular array\n",
    "regular_array = np.array([[1, 'John', 25],\n",
    "                          [2, 'Alice', 30],\n",
    "                          [3, 'Bob', 22]])\n",
    "\n",
    "# Create a record array from the regular array\n",
    "record_array = np.rec.fromarrays(regular_array.T,\n",
    "                                 names=['ID', 'Name', 'Age'])\n",
    "\n",
    "print(\"Regular Array:\")\n",
    "print(regular_array)\n",
    "\n",
    "print(\"\\nRecord Array:\")\n",
    "print(record_array)\n"
   ]
  },
  {
   "cell_type": "markdown",
   "metadata": {},
   "source": [
    "#### 92. Consider a large vector Z, compute Z to the power of 3 using 3 different methods (★★★)"
   ]
  },
  {
   "cell_type": "code",
   "execution_count": 44,
   "metadata": {},
   "outputs": [
    {
     "name": "stdout",
     "output_type": "stream",
     "text": [
      "All methods give the same result: True\n"
     ]
    }
   ],
   "source": [
    "import numpy as np\n",
    "\n",
    "# Create a large vector Z\n",
    "size = 1000000\n",
    "Z = np.random.rand(size)\n",
    "\n",
    "# Method 1: Using numpy.power()\n",
    "Z_cube_method1 = np.power(Z, 3)\n",
    "\n",
    "# Method 2: Using the ** operator\n",
    "Z_cube_method2 = Z ** 3\n",
    "\n",
    "# Method 3: Using numpy.multiply() with itself twice\n",
    "Z_cube_method3 = np.multiply(np.multiply(Z, Z), Z)\n",
    "\n",
    "# Check if all methods give the same result\n",
    "are_equal = np.allclose(Z_cube_method1, Z_cube_method2) and np.allclose(Z_cube_method1, Z_cube_method3)\n",
    "\n",
    "print(\"All methods give the same result:\", are_equal)\n"
   ]
  },
  {
   "cell_type": "markdown",
   "metadata": {},
   "source": [
    "#### 93. Consider two arrays A and B of shape (8,3) and (2,2). How to find rows of A that contain elements of each row of B regardless of the order of the elements in B? (★★★)"
   ]
  },
  {
   "cell_type": "code",
   "execution_count": 45,
   "metadata": {},
   "outputs": [
    {
     "name": "stderr",
     "output_type": "stream",
     "text": [
      "/tmp/ipykernel_46/3182977838.py:17: DeprecationWarning: elementwise comparison failed; this will raise an error in the future.\n",
      "  rows_with_elements_of_B = np.any(np.all(A[:, None] == B, axis=-1).all(axis=-1), axis=1)\n"
     ]
    },
    {
     "ename": "AxisError",
     "evalue": "axis 1 is out of bounds for array of dimension 0",
     "output_type": "error",
     "traceback": [
      "\u001b[0;31m---------------------------------------------------------------------------\u001b[0m",
      "\u001b[0;31mAxisError\u001b[0m                                 Traceback (most recent call last)",
      "\u001b[0;32m/tmp/ipykernel_46/3182977838.py\u001b[0m in \u001b[0;36m<module>\u001b[0;34m\u001b[0m\n\u001b[1;32m     15\u001b[0m \u001b[0;34m\u001b[0m\u001b[0m\n\u001b[1;32m     16\u001b[0m \u001b[0;31m# Check if rows of B exist in any row of A (regardless of order)\u001b[0m\u001b[0;34m\u001b[0m\u001b[0;34m\u001b[0m\u001b[0m\n\u001b[0;32m---> 17\u001b[0;31m \u001b[0mrows_with_elements_of_B\u001b[0m \u001b[0;34m=\u001b[0m \u001b[0mnp\u001b[0m\u001b[0;34m.\u001b[0m\u001b[0many\u001b[0m\u001b[0;34m(\u001b[0m\u001b[0mnp\u001b[0m\u001b[0;34m.\u001b[0m\u001b[0mall\u001b[0m\u001b[0;34m(\u001b[0m\u001b[0mA\u001b[0m\u001b[0;34m[\u001b[0m\u001b[0;34m:\u001b[0m\u001b[0;34m,\u001b[0m \u001b[0;32mNone\u001b[0m\u001b[0;34m]\u001b[0m \u001b[0;34m==\u001b[0m \u001b[0mB\u001b[0m\u001b[0;34m,\u001b[0m \u001b[0maxis\u001b[0m\u001b[0;34m=\u001b[0m\u001b[0;34m-\u001b[0m\u001b[0;36m1\u001b[0m\u001b[0;34m)\u001b[0m\u001b[0;34m.\u001b[0m\u001b[0mall\u001b[0m\u001b[0;34m(\u001b[0m\u001b[0maxis\u001b[0m\u001b[0;34m=\u001b[0m\u001b[0;34m-\u001b[0m\u001b[0;36m1\u001b[0m\u001b[0;34m)\u001b[0m\u001b[0;34m,\u001b[0m \u001b[0maxis\u001b[0m\u001b[0;34m=\u001b[0m\u001b[0;36m1\u001b[0m\u001b[0;34m)\u001b[0m\u001b[0;34m\u001b[0m\u001b[0;34m\u001b[0m\u001b[0m\n\u001b[0m\u001b[1;32m     18\u001b[0m \u001b[0;34m\u001b[0m\u001b[0m\n\u001b[1;32m     19\u001b[0m \u001b[0;31m# Get the rows of A that contain elements of B\u001b[0m\u001b[0;34m\u001b[0m\u001b[0;34m\u001b[0m\u001b[0m\n",
      "\u001b[0;32m<__array_function__ internals>\u001b[0m in \u001b[0;36many\u001b[0;34m(*args, **kwargs)\u001b[0m\n",
      "\u001b[0;32m/opt/conda/lib/python3.9/site-packages/numpy/core/fromnumeric.py\u001b[0m in \u001b[0;36many\u001b[0;34m(a, axis, out, keepdims, where)\u001b[0m\n\u001b[1;32m   2344\u001b[0m \u001b[0;34m\u001b[0m\u001b[0m\n\u001b[1;32m   2345\u001b[0m     \"\"\"\n\u001b[0;32m-> 2346\u001b[0;31m     return _wrapreduction(a, np.logical_or, 'any', axis, None, out,\n\u001b[0m\u001b[1;32m   2347\u001b[0m                           keepdims=keepdims, where=where)\n\u001b[1;32m   2348\u001b[0m \u001b[0;34m\u001b[0m\u001b[0m\n",
      "\u001b[0;32m/opt/conda/lib/python3.9/site-packages/numpy/core/fromnumeric.py\u001b[0m in \u001b[0;36m_wrapreduction\u001b[0;34m(obj, ufunc, method, axis, dtype, out, **kwargs)\u001b[0m\n\u001b[1;32m     83\u001b[0m                 \u001b[0;32mreturn\u001b[0m \u001b[0mreduction\u001b[0m\u001b[0;34m(\u001b[0m\u001b[0maxis\u001b[0m\u001b[0;34m=\u001b[0m\u001b[0maxis\u001b[0m\u001b[0;34m,\u001b[0m \u001b[0mdtype\u001b[0m\u001b[0;34m=\u001b[0m\u001b[0mdtype\u001b[0m\u001b[0;34m,\u001b[0m \u001b[0mout\u001b[0m\u001b[0;34m=\u001b[0m\u001b[0mout\u001b[0m\u001b[0;34m,\u001b[0m \u001b[0;34m**\u001b[0m\u001b[0mpasskwargs\u001b[0m\u001b[0;34m)\u001b[0m\u001b[0;34m\u001b[0m\u001b[0;34m\u001b[0m\u001b[0m\n\u001b[1;32m     84\u001b[0m             \u001b[0;32melse\u001b[0m\u001b[0;34m:\u001b[0m\u001b[0;34m\u001b[0m\u001b[0;34m\u001b[0m\u001b[0m\n\u001b[0;32m---> 85\u001b[0;31m                 \u001b[0;32mreturn\u001b[0m \u001b[0mreduction\u001b[0m\u001b[0;34m(\u001b[0m\u001b[0maxis\u001b[0m\u001b[0;34m=\u001b[0m\u001b[0maxis\u001b[0m\u001b[0;34m,\u001b[0m \u001b[0mout\u001b[0m\u001b[0;34m=\u001b[0m\u001b[0mout\u001b[0m\u001b[0;34m,\u001b[0m \u001b[0;34m**\u001b[0m\u001b[0mpasskwargs\u001b[0m\u001b[0;34m)\u001b[0m\u001b[0;34m\u001b[0m\u001b[0;34m\u001b[0m\u001b[0m\n\u001b[0m\u001b[1;32m     86\u001b[0m \u001b[0;34m\u001b[0m\u001b[0m\n\u001b[1;32m     87\u001b[0m     \u001b[0;32mreturn\u001b[0m \u001b[0mufunc\u001b[0m\u001b[0;34m.\u001b[0m\u001b[0mreduce\u001b[0m\u001b[0;34m(\u001b[0m\u001b[0mobj\u001b[0m\u001b[0;34m,\u001b[0m \u001b[0maxis\u001b[0m\u001b[0;34m,\u001b[0m \u001b[0mdtype\u001b[0m\u001b[0;34m,\u001b[0m \u001b[0mout\u001b[0m\u001b[0;34m,\u001b[0m \u001b[0;34m**\u001b[0m\u001b[0mpasskwargs\u001b[0m\u001b[0;34m)\u001b[0m\u001b[0;34m\u001b[0m\u001b[0;34m\u001b[0m\u001b[0m\n",
      "\u001b[0;32m/opt/conda/lib/python3.9/site-packages/numpy/core/_methods.py\u001b[0m in \u001b[0;36m_any\u001b[0;34m(a, axis, dtype, out, keepdims, where)\u001b[0m\n\u001b[1;32m     54\u001b[0m     \u001b[0;31m# Parsing keyword arguments is currently fairly slow, so avoid it for now\u001b[0m\u001b[0;34m\u001b[0m\u001b[0;34m\u001b[0m\u001b[0m\n\u001b[1;32m     55\u001b[0m     \u001b[0;32mif\u001b[0m \u001b[0mwhere\u001b[0m \u001b[0;32mis\u001b[0m \u001b[0;32mTrue\u001b[0m\u001b[0;34m:\u001b[0m\u001b[0;34m\u001b[0m\u001b[0;34m\u001b[0m\u001b[0m\n\u001b[0;32m---> 56\u001b[0;31m         \u001b[0;32mreturn\u001b[0m \u001b[0mumr_any\u001b[0m\u001b[0;34m(\u001b[0m\u001b[0ma\u001b[0m\u001b[0;34m,\u001b[0m \u001b[0maxis\u001b[0m\u001b[0;34m,\u001b[0m \u001b[0mdtype\u001b[0m\u001b[0;34m,\u001b[0m \u001b[0mout\u001b[0m\u001b[0;34m,\u001b[0m \u001b[0mkeepdims\u001b[0m\u001b[0;34m)\u001b[0m\u001b[0;34m\u001b[0m\u001b[0;34m\u001b[0m\u001b[0m\n\u001b[0m\u001b[1;32m     57\u001b[0m     \u001b[0;32mreturn\u001b[0m \u001b[0mumr_any\u001b[0m\u001b[0;34m(\u001b[0m\u001b[0ma\u001b[0m\u001b[0;34m,\u001b[0m \u001b[0maxis\u001b[0m\u001b[0;34m,\u001b[0m \u001b[0mdtype\u001b[0m\u001b[0;34m,\u001b[0m \u001b[0mout\u001b[0m\u001b[0;34m,\u001b[0m \u001b[0mkeepdims\u001b[0m\u001b[0;34m,\u001b[0m \u001b[0mwhere\u001b[0m\u001b[0;34m=\u001b[0m\u001b[0mwhere\u001b[0m\u001b[0;34m)\u001b[0m\u001b[0;34m\u001b[0m\u001b[0;34m\u001b[0m\u001b[0m\n\u001b[1;32m     58\u001b[0m \u001b[0;34m\u001b[0m\u001b[0m\n",
      "\u001b[0;31mAxisError\u001b[0m: axis 1 is out of bounds for array of dimension 0"
     ]
    }
   ],
   "source": [
    "import numpy as np\n",
    "\n",
    "# Example arrays A and B\n",
    "A = np.array([[1, 2, 3],\n",
    "              [4, 5, 6],\n",
    "              [3, 2, 1],\n",
    "              [7, 8, 9],\n",
    "              [3, 1, 2],\n",
    "              [6, 4, 5],\n",
    "              [9, 7, 8],\n",
    "              [2, 3, 1]])\n",
    "\n",
    "B = np.array([[1, 2],\n",
    "              [4, 5]])\n",
    "\n",
    "# Check if rows of B exist in any row of A (regardless of order)\n",
    "rows_with_elements_of_B = np.any(np.all(A[:, None] == B, axis=-1).all(axis=-1), axis=1)\n",
    "\n",
    "# Get the rows of A that contain elements of B\n",
    "result = A[rows_with_elements_of_B]\n",
    "\n",
    "print(\"Array A:\")\n",
    "print(A)\n",
    "\n",
    "print(\"\\nArray B:\")\n",
    "print(B)\n",
    "\n",
    "print(\"\\nRows of A containing elements of B:\")\n",
    "print(result)\n"
   ]
  },
  {
   "cell_type": "markdown",
   "metadata": {},
   "source": [
    "#### 94. Considering a 10x3 matrix, extract rows with unequal values (e.g. [2,2,3]) (★★★)"
   ]
  },
  {
   "cell_type": "code",
   "execution_count": 46,
   "metadata": {},
   "outputs": [
    {
     "ename": "ValueError",
     "evalue": "could not broadcast input array from shape (2,) into shape (3,)",
     "output_type": "error",
     "traceback": [
      "\u001b[0;31m---------------------------------------------------------------------------\u001b[0m",
      "\u001b[0;31mValueError\u001b[0m                                Traceback (most recent call last)",
      "\u001b[0;32m/tmp/ipykernel_46/465868190.py\u001b[0m in \u001b[0;36m<module>\u001b[0;34m\u001b[0m\n\u001b[1;32m     14\u001b[0m \u001b[0;34m\u001b[0m\u001b[0m\n\u001b[1;32m     15\u001b[0m \u001b[0;31m# Find rows with unequal values\u001b[0m\u001b[0;34m\u001b[0m\u001b[0;34m\u001b[0m\u001b[0m\n\u001b[0;32m---> 16\u001b[0;31m \u001b[0mrows_with_unequal_values\u001b[0m \u001b[0;34m=\u001b[0m \u001b[0mnp\u001b[0m\u001b[0;34m.\u001b[0m\u001b[0many\u001b[0m\u001b[0;34m(\u001b[0m\u001b[0mnp\u001b[0m\u001b[0;34m.\u001b[0m\u001b[0mapply_along_axis\u001b[0m\u001b[0;34m(\u001b[0m\u001b[0mnp\u001b[0m\u001b[0;34m.\u001b[0m\u001b[0munique\u001b[0m\u001b[0;34m,\u001b[0m \u001b[0;36m1\u001b[0m\u001b[0;34m,\u001b[0m \u001b[0mmatrix\u001b[0m\u001b[0;34m)\u001b[0m\u001b[0;34m.\u001b[0m\u001b[0mmax\u001b[0m\u001b[0;34m(\u001b[0m\u001b[0maxis\u001b[0m\u001b[0;34m=\u001b[0m\u001b[0;36m1\u001b[0m\u001b[0;34m)\u001b[0m \u001b[0;34m>\u001b[0m \u001b[0;36m1\u001b[0m\u001b[0;34m,\u001b[0m \u001b[0maxis\u001b[0m\u001b[0;34m=\u001b[0m\u001b[0;36m1\u001b[0m\u001b[0;34m)\u001b[0m\u001b[0;34m\u001b[0m\u001b[0;34m\u001b[0m\u001b[0m\n\u001b[0m\u001b[1;32m     17\u001b[0m \u001b[0;34m\u001b[0m\u001b[0m\n\u001b[1;32m     18\u001b[0m \u001b[0;31m# Extract rows with unequal values\u001b[0m\u001b[0;34m\u001b[0m\u001b[0;34m\u001b[0m\u001b[0m\n",
      "\u001b[0;32m<__array_function__ internals>\u001b[0m in \u001b[0;36mapply_along_axis\u001b[0;34m(*args, **kwargs)\u001b[0m\n",
      "\u001b[0;32m/opt/conda/lib/python3.9/site-packages/numpy/lib/shape_base.py\u001b[0m in \u001b[0;36mapply_along_axis\u001b[0;34m(func1d, axis, arr, *args, **kwargs)\u001b[0m\n\u001b[1;32m    400\u001b[0m     \u001b[0mbuff\u001b[0m\u001b[0;34m[\u001b[0m\u001b[0mind0\u001b[0m\u001b[0;34m]\u001b[0m \u001b[0;34m=\u001b[0m \u001b[0mres\u001b[0m\u001b[0;34m\u001b[0m\u001b[0;34m\u001b[0m\u001b[0m\n\u001b[1;32m    401\u001b[0m     \u001b[0;32mfor\u001b[0m \u001b[0mind\u001b[0m \u001b[0;32min\u001b[0m \u001b[0minds\u001b[0m\u001b[0;34m:\u001b[0m\u001b[0;34m\u001b[0m\u001b[0;34m\u001b[0m\u001b[0m\n\u001b[0;32m--> 402\u001b[0;31m         \u001b[0mbuff\u001b[0m\u001b[0;34m[\u001b[0m\u001b[0mind\u001b[0m\u001b[0;34m]\u001b[0m \u001b[0;34m=\u001b[0m \u001b[0masanyarray\u001b[0m\u001b[0;34m(\u001b[0m\u001b[0mfunc1d\u001b[0m\u001b[0;34m(\u001b[0m\u001b[0minarr_view\u001b[0m\u001b[0;34m[\u001b[0m\u001b[0mind\u001b[0m\u001b[0;34m]\u001b[0m\u001b[0;34m,\u001b[0m \u001b[0;34m*\u001b[0m\u001b[0margs\u001b[0m\u001b[0;34m,\u001b[0m \u001b[0;34m**\u001b[0m\u001b[0mkwargs\u001b[0m\u001b[0;34m)\u001b[0m\u001b[0;34m)\u001b[0m\u001b[0;34m\u001b[0m\u001b[0;34m\u001b[0m\u001b[0m\n\u001b[0m\u001b[1;32m    403\u001b[0m \u001b[0;34m\u001b[0m\u001b[0m\n\u001b[1;32m    404\u001b[0m     \u001b[0;32mif\u001b[0m \u001b[0;32mnot\u001b[0m \u001b[0misinstance\u001b[0m\u001b[0;34m(\u001b[0m\u001b[0mres\u001b[0m\u001b[0;34m,\u001b[0m \u001b[0mmatrix\u001b[0m\u001b[0;34m)\u001b[0m\u001b[0;34m:\u001b[0m\u001b[0;34m\u001b[0m\u001b[0;34m\u001b[0m\u001b[0m\n",
      "\u001b[0;31mValueError\u001b[0m: could not broadcast input array from shape (2,) into shape (3,)"
     ]
    }
   ],
   "source": [
    "import numpy as np\n",
    "\n",
    "# Example 10x3 matrix\n",
    "matrix = np.array([[1, 2, 3],\n",
    "                   [2, 2, 2],\n",
    "                   [4, 5, 6],\n",
    "                   [7, 8, 9],\n",
    "                   [1, 3, 2],\n",
    "                   [5, 5, 5],\n",
    "                   [2, 2, 3],\n",
    "                   [6, 7, 8],\n",
    "                   [3, 3, 3],\n",
    "                   [9, 9, 9]])\n",
    "\n",
    "# Find rows with unequal values\n",
    "rows_with_unequal_values = np.any(np.apply_along_axis(np.unique, 1, matrix).max(axis=1) > 1, axis=1)\n",
    "\n",
    "# Extract rows with unequal values\n",
    "result = matrix[rows_with_unequal_values]\n",
    "\n",
    "print(\"Original Matrix:\")\n",
    "print(matrix)\n",
    "\n",
    "print(\"\\nRows with Unequal Values:\")\n",
    "print(result)\n"
   ]
  },
  {
   "cell_type": "markdown",
   "metadata": {},
   "source": [
    "#### 95. Convert a vector of ints into a matrix binary representation (★★★)"
   ]
  },
  {
   "cell_type": "code",
   "execution_count": 47,
   "metadata": {},
   "outputs": [
    {
     "name": "stdout",
     "output_type": "stream",
     "text": [
      "Vector:\n",
      "[5 3 6 7]\n",
      "\n",
      "Binary Representation:\n",
      "[[1 0 1]\n",
      " [1 1 0]\n",
      " [0 1 1]\n",
      " [1 1 1]]\n"
     ]
    }
   ],
   "source": [
    "import numpy as np\n",
    "\n",
    "# Example vector of integers\n",
    "vector = np.array([5, 3, 6, 7])\n",
    "\n",
    "# Get the maximum number of bits required to represent the largest integer in the vector\n",
    "max_bits = int(np.ceil(np.log2(np.max(vector) + 1)))\n",
    "\n",
    "# Convert each integer into its binary representation with fixed number of bits\n",
    "binary_representation = ((vector[:, None] & (1 << np.arange(max_bits))) > 0).astype(int)\n",
    "\n",
    "print(\"Vector:\")\n",
    "print(vector)\n",
    "\n",
    "print(\"\\nBinary Representation:\")\n",
    "print(binary_representation)\n"
   ]
  },
  {
   "cell_type": "markdown",
   "metadata": {},
   "source": [
    "#### 96. Given a two dimensional array, how to extract unique rows? (★★★)"
   ]
  },
  {
   "cell_type": "code",
   "execution_count": 48,
   "metadata": {},
   "outputs": [
    {
     "name": "stdout",
     "output_type": "stream",
     "text": [
      "Original 2D Array:\n",
      "[[1 2 3]\n",
      " [4 5 6]\n",
      " [1 2 3]\n",
      " [7 8 9]\n",
      " [4 5 6]]\n",
      "\n",
      "Unique Rows:\n",
      "[[1 2 3]\n",
      " [4 5 6]\n",
      " [7 8 9]]\n"
     ]
    }
   ],
   "source": [
    "import numpy as np\n",
    "\n",
    "# Example 2D array with duplicate rows\n",
    "two_dim_array = np.array([[1, 2, 3],\n",
    "                          [4, 5, 6],\n",
    "                          [1, 2, 3],  # Duplicate row\n",
    "                          [7, 8, 9],\n",
    "                          [4, 5, 6]]) # Duplicate row\n",
    "\n",
    "# Extract unique rows\n",
    "unique_rows = np.unique(two_dim_array, axis=0)\n",
    "\n",
    "print(\"Original 2D Array:\")\n",
    "print(two_dim_array)\n",
    "\n",
    "print(\"\\nUnique Rows:\")\n",
    "print(unique_rows)\n"
   ]
  },
  {
   "cell_type": "markdown",
   "metadata": {},
   "source": [
    "#### 97. Considering 2 vectors A & B, write the einsum equivalent of inner, outer, sum, and mul function (★★★)"
   ]
  },
  {
   "cell_type": "code",
   "execution_count": 49,
   "metadata": {},
   "outputs": [
    {
     "name": "stdout",
     "output_type": "stream",
     "text": [
      "Inner Product:\n",
      "32\n"
     ]
    }
   ],
   "source": [
    "import numpy as np\n",
    "\n",
    "# Example vectors A and B\n",
    "A = np.array([1, 2, 3])\n",
    "B = np.array([4, 5, 6])\n",
    "\n",
    "# Einsum equivalent of inner product\n",
    "inner_product = np.einsum('i,i->', A, B)\n",
    "\n",
    "print(\"Inner Product:\")\n",
    "print(inner_product)\n"
   ]
  },
  {
   "cell_type": "code",
   "execution_count": 50,
   "metadata": {},
   "outputs": [
    {
     "name": "stdout",
     "output_type": "stream",
     "text": [
      "Outer Product:\n",
      "[[ 4  5  6]\n",
      " [ 8 10 12]\n",
      " [12 15 18]]\n"
     ]
    }
   ],
   "source": [
    "import numpy as np\n",
    "\n",
    "# Example vectors A and B\n",
    "A = np.array([1, 2, 3])\n",
    "B = np.array([4, 5, 6])\n",
    "\n",
    "# Einsum equivalent of outer product\n",
    "outer_product = np.einsum('i,j->ij', A, B)\n",
    "\n",
    "print(\"Outer Product:\")\n",
    "print(outer_product)\n"
   ]
  },
  {
   "cell_type": "code",
   "execution_count": 51,
   "metadata": {},
   "outputs": [
    {
     "name": "stdout",
     "output_type": "stream",
     "text": [
      "Element-wise Sum:\n",
      "[ 4 10 18]\n"
     ]
    }
   ],
   "source": [
    "import numpy as np\n",
    "\n",
    "# Example vectors A and B\n",
    "A = np.array([1, 2, 3])\n",
    "B = np.array([4, 5, 6])\n",
    "\n",
    "# Einsum equivalent of element-wise sum\n",
    "elementwise_sum = np.einsum('i,i->i', A, B)\n",
    "\n",
    "print(\"Element-wise Sum:\")\n",
    "print(elementwise_sum)\n"
   ]
  },
  {
   "cell_type": "code",
   "execution_count": 52,
   "metadata": {},
   "outputs": [
    {
     "name": "stdout",
     "output_type": "stream",
     "text": [
      "Element-wise Multiplication:\n",
      "[ 4 10 18]\n"
     ]
    }
   ],
   "source": [
    "import numpy as np\n",
    "\n",
    "# Example vectors A and B\n",
    "A = np.array([1, 2, 3])\n",
    "B = np.array([4, 5, 6])\n",
    "\n",
    "# Einsum equivalent of element-wise multiplication\n",
    "elementwise_multiply = np.einsum('i,i->i', A, B)\n",
    "\n",
    "print(\"Element-wise Multiplication:\")\n",
    "print(elementwise_multiply)\n"
   ]
  },
  {
   "cell_type": "markdown",
   "metadata": {},
   "source": [
    "#### 98. Considering a path described by two vectors (X,Y), how to sample it using equidistant samples (★★★)?"
   ]
  },
  {
   "cell_type": "code",
   "execution_count": 54,
   "metadata": {},
   "outputs": [
    {
     "ename": "ValueError",
     "evalue": "fp and xp are not of the same length.",
     "output_type": "error",
     "traceback": [
      "\u001b[0;31m---------------------------------------------------------------------------\u001b[0m",
      "\u001b[0;31mValueError\u001b[0m                                Traceback (most recent call last)",
      "\u001b[0;32m/tmp/ipykernel_46/6952518.py\u001b[0m in \u001b[0;36m<module>\u001b[0;34m\u001b[0m\n\u001b[1;32m     16\u001b[0m \u001b[0;34m\u001b[0m\u001b[0m\n\u001b[1;32m     17\u001b[0m \u001b[0;31m# Interpolate the X and Y coordinates at the equidistant distances\u001b[0m\u001b[0;34m\u001b[0m\u001b[0;34m\u001b[0m\u001b[0m\n\u001b[0;32m---> 18\u001b[0;31m \u001b[0minterpolated_X\u001b[0m \u001b[0;34m=\u001b[0m \u001b[0mnp\u001b[0m\u001b[0;34m.\u001b[0m\u001b[0minterp\u001b[0m\u001b[0;34m(\u001b[0m\u001b[0mequidistant_distances\u001b[0m\u001b[0;34m,\u001b[0m \u001b[0mnp\u001b[0m\u001b[0;34m.\u001b[0m\u001b[0mcumsum\u001b[0m\u001b[0;34m(\u001b[0m\u001b[0mnp\u001b[0m\u001b[0;34m.\u001b[0m\u001b[0msqrt\u001b[0m\u001b[0;34m(\u001b[0m\u001b[0mnp\u001b[0m\u001b[0;34m.\u001b[0m\u001b[0mdiff\u001b[0m\u001b[0;34m(\u001b[0m\u001b[0mX\u001b[0m\u001b[0;34m)\u001b[0m\u001b[0;34m**\u001b[0m\u001b[0;36m2\u001b[0m \u001b[0;34m+\u001b[0m \u001b[0mnp\u001b[0m\u001b[0;34m.\u001b[0m\u001b[0mdiff\u001b[0m\u001b[0;34m(\u001b[0m\u001b[0mY\u001b[0m\u001b[0;34m)\u001b[0m\u001b[0;34m**\u001b[0m\u001b[0;36m2\u001b[0m\u001b[0;34m)\u001b[0m\u001b[0;34m)\u001b[0m\u001b[0;34m,\u001b[0m \u001b[0mX\u001b[0m\u001b[0;34m)\u001b[0m\u001b[0;34m\u001b[0m\u001b[0;34m\u001b[0m\u001b[0m\n\u001b[0m\u001b[1;32m     19\u001b[0m \u001b[0minterpolated_Y\u001b[0m \u001b[0;34m=\u001b[0m \u001b[0mnp\u001b[0m\u001b[0;34m.\u001b[0m\u001b[0minterp\u001b[0m\u001b[0;34m(\u001b[0m\u001b[0mequidistant_distances\u001b[0m\u001b[0;34m,\u001b[0m \u001b[0mnp\u001b[0m\u001b[0;34m.\u001b[0m\u001b[0mcumsum\u001b[0m\u001b[0;34m(\u001b[0m\u001b[0mnp\u001b[0m\u001b[0;34m.\u001b[0m\u001b[0msqrt\u001b[0m\u001b[0;34m(\u001b[0m\u001b[0mnp\u001b[0m\u001b[0;34m.\u001b[0m\u001b[0mdiff\u001b[0m\u001b[0;34m(\u001b[0m\u001b[0mX\u001b[0m\u001b[0;34m)\u001b[0m\u001b[0;34m**\u001b[0m\u001b[0;36m2\u001b[0m \u001b[0;34m+\u001b[0m \u001b[0mnp\u001b[0m\u001b[0;34m.\u001b[0m\u001b[0mdiff\u001b[0m\u001b[0;34m(\u001b[0m\u001b[0mY\u001b[0m\u001b[0;34m)\u001b[0m\u001b[0;34m**\u001b[0m\u001b[0;36m2\u001b[0m\u001b[0;34m)\u001b[0m\u001b[0;34m)\u001b[0m\u001b[0;34m,\u001b[0m \u001b[0mY\u001b[0m\u001b[0;34m)\u001b[0m\u001b[0;34m\u001b[0m\u001b[0;34m\u001b[0m\u001b[0m\n\u001b[1;32m     20\u001b[0m \u001b[0;34m\u001b[0m\u001b[0m\n",
      "\u001b[0;32m<__array_function__ internals>\u001b[0m in \u001b[0;36minterp\u001b[0;34m(*args, **kwargs)\u001b[0m\n",
      "\u001b[0;32m/opt/conda/lib/python3.9/site-packages/numpy/lib/function_base.py\u001b[0m in \u001b[0;36minterp\u001b[0;34m(x, xp, fp, left, right, period)\u001b[0m\n\u001b[1;32m   1426\u001b[0m         \u001b[0mfp\u001b[0m \u001b[0;34m=\u001b[0m \u001b[0mnp\u001b[0m\u001b[0;34m.\u001b[0m\u001b[0mconcatenate\u001b[0m\u001b[0;34m(\u001b[0m\u001b[0;34m(\u001b[0m\u001b[0mfp\u001b[0m\u001b[0;34m[\u001b[0m\u001b[0;34m-\u001b[0m\u001b[0;36m1\u001b[0m\u001b[0;34m:\u001b[0m\u001b[0;34m]\u001b[0m\u001b[0;34m,\u001b[0m \u001b[0mfp\u001b[0m\u001b[0;34m,\u001b[0m \u001b[0mfp\u001b[0m\u001b[0;34m[\u001b[0m\u001b[0;36m0\u001b[0m\u001b[0;34m:\u001b[0m\u001b[0;36m1\u001b[0m\u001b[0;34m]\u001b[0m\u001b[0;34m)\u001b[0m\u001b[0;34m)\u001b[0m\u001b[0;34m\u001b[0m\u001b[0;34m\u001b[0m\u001b[0m\n\u001b[1;32m   1427\u001b[0m \u001b[0;34m\u001b[0m\u001b[0m\n\u001b[0;32m-> 1428\u001b[0;31m     \u001b[0;32mreturn\u001b[0m \u001b[0minterp_func\u001b[0m\u001b[0;34m(\u001b[0m\u001b[0mx\u001b[0m\u001b[0;34m,\u001b[0m \u001b[0mxp\u001b[0m\u001b[0;34m,\u001b[0m \u001b[0mfp\u001b[0m\u001b[0;34m,\u001b[0m \u001b[0mleft\u001b[0m\u001b[0;34m,\u001b[0m \u001b[0mright\u001b[0m\u001b[0;34m)\u001b[0m\u001b[0;34m\u001b[0m\u001b[0;34m\u001b[0m\u001b[0m\n\u001b[0m\u001b[1;32m   1429\u001b[0m \u001b[0;34m\u001b[0m\u001b[0m\n\u001b[1;32m   1430\u001b[0m \u001b[0;34m\u001b[0m\u001b[0m\n",
      "\u001b[0;31mValueError\u001b[0m: fp and xp are not of the same length."
     ]
    }
   ],
   "source": [
    "import numpy as np\n",
    "import matplotlib.pyplot as plt\n",
    "\n",
    "# Example vectors X and Y describing the path\n",
    "X = np.array([1, 4, 7, 9, 11])\n",
    "Y = np.array([2, 6, 3, 10, 5])\n",
    "\n",
    "# Number of equidistant samples to generate\n",
    "num_samples = 100\n",
    "\n",
    "# Calculate the total path length\n",
    "path_length = np.sum(np.sqrt(np.diff(X)**2 + np.diff(Y)**2))\n",
    "\n",
    "# Generate equidistant distances along the path\n",
    "equidistant_distances = np.linspace(0, path_length, num_samples)\n",
    "\n",
    "# Interpolate the X and Y coordinates at the equidistant distances\n",
    "interpolated_X = np.interp(equidistant_distances, np.cumsum(np.sqrt(np.diff(X)**2 + np.diff(Y)**2)), X)\n",
    "interpolated_Y = np.interp(equidistant_distances, np.cumsum(np.sqrt(np.diff(X)**2 + np.diff(Y)**2)), Y)\n",
    "\n",
    "# Plot the original path and the equidistant samples\n",
    "plt.plot(X, Y, 'o-', label='Original Path')\n",
    "plt.plot(interpolated_X, interpolated_Y, 'r.', label='Equidistant Samples')\n",
    "plt.xlabel('X')\n",
    "plt.ylabel('Y')\n",
    "plt.legend()\n",
    "plt.show()\n"
   ]
  },
  {
   "cell_type": "markdown",
   "metadata": {},
   "source": [
    "#### 99. Given an integer n and a 2D array X, select from X the rows which can be interpreted as draws from a multinomial distribution with n degrees, i.e., the rows which only contain integers and which sum to n. (★★★)"
   ]
  },
  {
   "cell_type": "code",
   "execution_count": 55,
   "metadata": {},
   "outputs": [
    {
     "name": "stdout",
     "output_type": "stream",
     "text": [
      "Original 2D Array X:\n",
      "[[1 2 3]\n",
      " [4 5 6]\n",
      " [1 1 8]\n",
      " [3 6 1]\n",
      " [2 3 5]]\n",
      "\n",
      "Rows that are Multinomial Draws with n = 9 :\n",
      "[]\n"
     ]
    }
   ],
   "source": [
    "import numpy as np\n",
    "\n",
    "def is_multinomial_draw(row, n):\n",
    "    # Check if the row contains only integers and if the sum is equal to n\n",
    "    return np.all(np.equal(np.mod(row, 1), 0)) and np.sum(row) == n\n",
    "\n",
    "# Example 2D array X\n",
    "X = np.array([[1, 2, 3],\n",
    "              [4, 5, 6],\n",
    "              [1, 1, 8],\n",
    "              [3, 6, 1],\n",
    "              [2, 3, 5]])\n",
    "\n",
    "# Integer n\n",
    "n = 9\n",
    "\n",
    "# Select rows that are multinomial draws with n degrees\n",
    "multinomial_draws = X[np.apply_along_axis(lambda row: is_multinomial_draw(row, n), 1, X)]\n",
    "\n",
    "print(\"Original 2D Array X:\")\n",
    "print(X)\n",
    "\n",
    "print(\"\\nRows that are Multinomial Draws with n =\", n, \":\")\n",
    "print(multinomial_draws)\n"
   ]
  },
  {
   "cell_type": "markdown",
   "metadata": {},
   "source": [
    "#### 100. Compute bootstrapped 95% confidence intervals for the mean of a 1D array X (i.e., resample the elements of an array with replacement N times, compute the mean of each sample, and then compute percentiles over the means). (★★★)"
   ]
  },
  {
   "cell_type": "code",
   "execution_count": 56,
   "metadata": {},
   "outputs": [
    {
     "name": "stdout",
     "output_type": "stream",
     "text": [
      "Original 1D Array X:\n",
      "[ 1  2  3  4  5  6  7  8  9 10]\n",
      "\n",
      "Bootstrapped 95% Confidence Intervals for the Mean:\n",
      "Lower CI: 3.8\n",
      "Upper CI: 7.2\n"
     ]
    }
   ],
   "source": [
    "import numpy as np\n",
    "\n",
    "def bootstrap_mean_ci(X, num_samples, alpha=0.05):\n",
    "    # Number of elements in the original array\n",
    "    N = len(X)\n",
    "    \n",
    "    # Initialize an array to store the means from each sample\n",
    "    sample_means = np.zeros(num_samples)\n",
    "    \n",
    "    # Perform bootstrapping\n",
    "    for i in range(num_samples):\n",
    "        # Resample with replacement\n",
    "        resampled_X = np.random.choice(X, size=N, replace=True)\n",
    "        # Calculate the mean of the resampled dataset\n",
    "        sample_means[i] = np.mean(resampled_X)\n",
    "    \n",
    "    # Compute the lower and upper percentiles for the confidence interval\n",
    "    lower_percentile = 100 * (alpha / 2)\n",
    "    upper_percentile = 100 * (1 - alpha / 2)\n",
    "    \n",
    "    # Calculate the confidence intervals\n",
    "    lower_ci = np.percentile(sample_means, lower_percentile)\n",
    "    upper_ci = np.percentile(sample_means, upper_percentile)\n",
    "    \n",
    "    return lower_ci, upper_ci\n",
    "\n",
    "# Example 1D array X\n",
    "X = np.array([1, 2, 3, 4, 5, 6, 7, 8, 9, 10])\n",
    "\n",
    "# Number of bootstrapped samples\n",
    "num_samples = 1000\n",
    "\n",
    "# Compute bootstrapped 95% confidence intervals for the mean of X\n",
    "lower_ci, upper_ci = bootstrap_mean_ci(X, num_samples)\n",
    "\n",
    "print(\"Original 1D Array X:\")\n",
    "print(X)\n",
    "\n",
    "print(\"\\nBootstrapped 95% Confidence Intervals for the Mean:\")\n",
    "print(\"Lower CI:\", lower_ci)\n",
    "print(\"Upper CI:\", upper_ci)\n"
   ]
  },
  {
   "cell_type": "markdown",
   "metadata": {},
   "source": [
    "Save and commit your work"
   ]
  },
  {
   "cell_type": "code",
   "execution_count": 57,
   "metadata": {},
   "outputs": [],
   "source": [
    "import jovian"
   ]
  },
  {
   "cell_type": "code",
   "execution_count": null,
   "metadata": {},
   "outputs": [
    {
     "data": {
      "application/javascript": [
       "window.require && require([\"base/js/namespace\"],function(Jupyter){Jupyter.notebook.save_checkpoint()})"
      ],
      "text/plain": [
       "<IPython.core.display.Javascript object>"
      ]
     },
     "metadata": {},
     "output_type": "display_data"
    }
   ],
   "source": [
    "jovian.commit()"
   ]
  },
  {
   "cell_type": "markdown",
   "metadata": {},
   "source": [
    "Congratulations on completing the 100 exercises, well done!\n",
    "\n",
    "#### What to do next?\n",
    "\n",
    "- Share your completed notebook on Facebook, LinkedIn or Twitter and challenge your friends.\n",
    "- Share your solutions and help others on the forum: https://jovian.ml/forum/t/100-numpy-exercises-hints-discussions-help/10561\n",
    "- Check out our course on \"Data Analysis with Python: Zero to Pandas\" - https://jovian.ml/learn/data-analysis-with-python-zero-to-pandas\n",
    "- Star this repository to show your appreciation for the original author of this notebook: https://github.com/rougier/numpy-100"
   ]
  }
 ],
 "metadata": {
  "kernelspec": {
   "display_name": "Python 3 (ipykernel)",
   "language": "python",
   "name": "python3"
  },
  "language_info": {
   "codemirror_mode": {
    "name": "ipython",
    "version": 3
   },
   "file_extension": ".py",
   "mimetype": "text/x-python",
   "name": "python",
   "nbconvert_exporter": "python",
   "pygments_lexer": "ipython3",
   "version": "3.9.7"
  }
 },
 "nbformat": 4,
 "nbformat_minor": 4
}
